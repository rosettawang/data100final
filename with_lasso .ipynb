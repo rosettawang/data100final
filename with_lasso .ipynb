{
 "cells": [
  {
   "cell_type": "markdown",
   "metadata": {},
   "source": [
    "# Contraceptive Data: Predicting Number of Children "
   ]
  },
  {
   "cell_type": "markdown",
   "metadata": {},
   "source": [
    "### Authors: \n",
    "Brandon Chu, Emily Pham, Rosetta Wang \n",
    "\n",
    "### In This Project:\n",
    "We will be using the contraceptive data set which was conducted on a set of married women (who were not pregnant at the time) from Indonesia in 1987. It contains information about their background (e.g. age, number of children, education) and the type of contraceptive they used at the time.\n",
    "\n",
    "Our research explores the question \"What are the factors that best determine the number of children that a woman has?\"\n",
    "\n",
    "We will perform exploratory data analysis (EDA) and build a model to try answering that question. "
   ]
  },
  {
   "cell_type": "markdown",
   "metadata": {},
   "source": [
    "### Loading the Data and Importing Libraries "
   ]
  },
  {
   "cell_type": "code",
   "execution_count": 280,
   "metadata": {},
   "outputs": [],
   "source": [
    "import csv\n",
    "import numpy as np\n",
    "import pandas as pd\n",
    "import matplotlib.pyplot as plt\n",
    "%matplotlib inline\n",
    "plt.style.use(\"seaborn\")\n",
    "import seaborn as sns\n",
    "import math"
   ]
  },
  {
   "cell_type": "code",
   "execution_count": 281,
   "metadata": {},
   "outputs": [
    {
     "data": {
      "text/html": [
       "<div>\n",
       "<style scoped>\n",
       "    .dataframe tbody tr th:only-of-type {\n",
       "        vertical-align: middle;\n",
       "    }\n",
       "\n",
       "    .dataframe tbody tr th {\n",
       "        vertical-align: top;\n",
       "    }\n",
       "\n",
       "    .dataframe thead th {\n",
       "        text-align: right;\n",
       "    }\n",
       "</style>\n",
       "<table border=\"1\" class=\"dataframe\">\n",
       "  <thead>\n",
       "    <tr style=\"text-align: right;\">\n",
       "      <th></th>\n",
       "      <th>wife_age</th>\n",
       "      <th>wife_education</th>\n",
       "      <th>husband_education</th>\n",
       "      <th>num_child</th>\n",
       "      <th>wife_religion</th>\n",
       "      <th>wife_work</th>\n",
       "      <th>husband_occupation</th>\n",
       "      <th>standard_living</th>\n",
       "      <th>media_exposure</th>\n",
       "      <th>contraceptive</th>\n",
       "    </tr>\n",
       "  </thead>\n",
       "  <tbody>\n",
       "    <tr>\n",
       "      <th>0</th>\n",
       "      <td>24</td>\n",
       "      <td>2</td>\n",
       "      <td>3</td>\n",
       "      <td>3</td>\n",
       "      <td>1</td>\n",
       "      <td>1</td>\n",
       "      <td>2</td>\n",
       "      <td>3</td>\n",
       "      <td>0</td>\n",
       "      <td>1</td>\n",
       "    </tr>\n",
       "    <tr>\n",
       "      <th>1</th>\n",
       "      <td>45</td>\n",
       "      <td>1</td>\n",
       "      <td>3</td>\n",
       "      <td>10</td>\n",
       "      <td>1</td>\n",
       "      <td>1</td>\n",
       "      <td>3</td>\n",
       "      <td>4</td>\n",
       "      <td>0</td>\n",
       "      <td>1</td>\n",
       "    </tr>\n",
       "    <tr>\n",
       "      <th>2</th>\n",
       "      <td>43</td>\n",
       "      <td>2</td>\n",
       "      <td>3</td>\n",
       "      <td>7</td>\n",
       "      <td>1</td>\n",
       "      <td>1</td>\n",
       "      <td>3</td>\n",
       "      <td>4</td>\n",
       "      <td>0</td>\n",
       "      <td>1</td>\n",
       "    </tr>\n",
       "    <tr>\n",
       "      <th>3</th>\n",
       "      <td>42</td>\n",
       "      <td>3</td>\n",
       "      <td>2</td>\n",
       "      <td>9</td>\n",
       "      <td>1</td>\n",
       "      <td>1</td>\n",
       "      <td>3</td>\n",
       "      <td>3</td>\n",
       "      <td>0</td>\n",
       "      <td>1</td>\n",
       "    </tr>\n",
       "    <tr>\n",
       "      <th>4</th>\n",
       "      <td>36</td>\n",
       "      <td>3</td>\n",
       "      <td>3</td>\n",
       "      <td>8</td>\n",
       "      <td>1</td>\n",
       "      <td>1</td>\n",
       "      <td>3</td>\n",
       "      <td>2</td>\n",
       "      <td>0</td>\n",
       "      <td>1</td>\n",
       "    </tr>\n",
       "  </tbody>\n",
       "</table>\n",
       "</div>"
      ],
      "text/plain": [
       "   wife_age  wife_education  husband_education  num_child  wife_religion  \\\n",
       "0        24               2                  3          3              1   \n",
       "1        45               1                  3         10              1   \n",
       "2        43               2                  3          7              1   \n",
       "3        42               3                  2          9              1   \n",
       "4        36               3                  3          8              1   \n",
       "\n",
       "   wife_work  husband_occupation  standard_living  media_exposure  \\\n",
       "0          1                   2                3               0   \n",
       "1          1                   3                4               0   \n",
       "2          1                   3                4               0   \n",
       "3          1                   3                3               0   \n",
       "4          1                   3                2               0   \n",
       "\n",
       "   contraceptive  \n",
       "0              1  \n",
       "1              1  \n",
       "2              1  \n",
       "3              1  \n",
       "4              1  "
      ]
     },
     "execution_count": 281,
     "metadata": {},
     "output_type": "execute_result"
    }
   ],
   "source": [
    "data = pd.read_csv(\"contraceptive_for_students.csv\")\n",
    "\n",
    "#Display data\n",
    "data.head()"
   ]
  },
  {
   "cell_type": "markdown",
   "metadata": {},
   "source": [
    "## Contextualizing the Data Set "
   ]
  },
  {
   "cell_type": "markdown",
   "metadata": {},
   "source": [
    "Using data from Gapminder, we will contextualize Indonesia in relation to other countries in the world. "
   ]
  },
  {
   "cell_type": "code",
   "execution_count": 282,
   "metadata": {},
   "outputs": [
    {
     "data": {
      "text/html": [
       "<div>\n",
       "<style scoped>\n",
       "    .dataframe tbody tr th:only-of-type {\n",
       "        vertical-align: middle;\n",
       "    }\n",
       "\n",
       "    .dataframe tbody tr th {\n",
       "        vertical-align: top;\n",
       "    }\n",
       "\n",
       "    .dataframe thead th {\n",
       "        text-align: right;\n",
       "    }\n",
       "</style>\n",
       "<table border=\"1\" class=\"dataframe\">\n",
       "  <thead>\n",
       "    <tr style=\"text-align: right;\">\n",
       "      <th></th>\n",
       "      <th>Entity</th>\n",
       "      <th>Code</th>\n",
       "      <th>Year</th>\n",
       "      <th>Fertility rate (births per woman) (births per woman)</th>\n",
       "      <th>Contraceptive prevalence, any methods (% of women aged 15-49) (% of women aged 15-49)</th>\n",
       "    </tr>\n",
       "  </thead>\n",
       "  <tbody>\n",
       "    <tr>\n",
       "      <th>5807</th>\n",
       "      <td>Indonesia</td>\n",
       "      <td>IDN</td>\n",
       "      <td>1987</td>\n",
       "      <td>3.472</td>\n",
       "      <td>47.7</td>\n",
       "    </tr>\n",
       "  </tbody>\n",
       "</table>\n",
       "</div>"
      ],
      "text/plain": [
       "         Entity Code  Year  \\\n",
       "5807  Indonesia  IDN  1987   \n",
       "\n",
       "      Fertility rate (births per woman) (births per woman)  \\\n",
       "5807                                              3.472      \n",
       "\n",
       "      Contraceptive prevalence, any methods (% of women aged 15-49) (% of women aged 15-49)  \n",
       "5807                                               47.7                                      "
      ]
     },
     "execution_count": 282,
     "metadata": {},
     "output_type": "execute_result"
    }
   ],
   "source": [
    "# import data \n",
    "fertility_and_contraception_df = pd.read_csv(\"fertility-vs-contraception.csv\")\n",
    "\n",
    "# filter to only include data where the year is 1987 and there are no null values \n",
    "filtered_f_and_c = fertility_and_contraception_df[\n",
    "    (fertility_and_contraception_df.Year == 1987) & pd.notnull(fertility_and_contraception_df.iloc[:,4])\n",
    "]\n",
    "filtered_f_and_c[filtered_f_and_c.Entity=='Indonesia']"
   ]
  },
  {
   "cell_type": "code",
   "execution_count": 283,
   "metadata": {},
   "outputs": [
    {
     "data": {
      "text/plain": [
       "<matplotlib.legend.Legend at 0x7f0f3def1510>"
      ]
     },
     "execution_count": 283,
     "metadata": {},
     "output_type": "execute_result"
    },
    {
     "data": {
      "image/png": "[encoded data removed]",
      "text/plain": [
       "<Figure size 504x504 with 1 Axes>"
      ]
     },
     "metadata": {},
     "output_type": "display_data"
    }
   ],
   "source": [
    "plt.figure(figsize=(7, 7))\n",
    "\n",
    "# Indonesia's x and y values \n",
    "IDN_x = [47.7]\n",
    "IDN_y = [3.472]\n",
    "\n",
    "# create scatter plot \n",
    "other_countries = plt.scatter(filtered_f_and_c.iloc[:,4], filtered_f_and_c.iloc[:,3])\n",
    "IDN = plt.scatter(IDN_x, IDN_y, marker='s', color='r')\n",
    "plt.title(\"Prevalence of Contraceptive Use by Women and Total Fertility Rate, 1987\")\n",
    "plt.xlabel('Percent of Women (15-49) Using Contraception')\n",
    "plt.ylabel('Total Fertility Rate (TFR)')\n",
    "plt.legend((IDN, other_countries), ('Indonesia', 'Other countries'),\n",
    "           scatterpoints=1,\n",
    "           loc='lower left')"
   ]
  },
  {
   "cell_type": "code",
   "execution_count": 284,
   "metadata": {},
   "outputs": [
    {
     "data": {
      "text/html": [
       "<div>\n",
       "<style scoped>\n",
       "    .dataframe tbody tr th:only-of-type {\n",
       "        vertical-align: middle;\n",
       "    }\n",
       "\n",
       "    .dataframe tbody tr th {\n",
       "        vertical-align: top;\n",
       "    }\n",
       "\n",
       "    .dataframe thead th {\n",
       "        text-align: right;\n",
       "    }\n",
       "</style>\n",
       "<table border=\"1\" class=\"dataframe\">\n",
       "  <thead>\n",
       "    <tr style=\"text-align: right;\">\n",
       "      <th></th>\n",
       "      <th>Entity</th>\n",
       "      <th>Code</th>\n",
       "      <th>Year</th>\n",
       "      <th>Fertility (live births per woman) (live births per woman)</th>\n",
       "      <th>Female labor force participation rate (%) (% of female population ages 15+ national estimate)</th>\n",
       "      <th>Total population (Gapminder)</th>\n",
       "    </tr>\n",
       "  </thead>\n",
       "  <tbody>\n",
       "  </tbody>\n",
       "</table>\n",
       "</div>"
      ],
      "text/plain": [
       "Empty DataFrame\n",
       "Columns: [Entity, Code, Year, Fertility (live births per woman) (live births per woman), Female labor force participation rate (%) (% of female population ages 15+ national estimate), Total population (Gapminder)]\n",
       "Index: []"
      ]
     },
     "execution_count": 284,
     "metadata": {},
     "output_type": "execute_result"
    }
   ],
   "source": [
    "# import data \n",
    "fertility_and_laborforce_df = pd.read_csv('fertility-and-female-labor-force-participation.csv')\n",
    "# filter to only include data where the year is 1987 and there are no null values \n",
    "filtered_f_and_lf = fertility_and_laborforce_df[\n",
    "    (fertility_and_laborforce_df.Year == '1987') & pd.notnull(fertility_and_laborforce_df.iloc[:,4])\n",
    "]\n",
    "filtered_f_and_lf[filtered_f_and_lf.Entity=='Indonesia']"
   ]
  },
  {
   "cell_type": "code",
   "execution_count": 285,
   "metadata": {},
   "outputs": [
    {
     "data": {
      "text/html": [
       "<div>\n",
       "<style scoped>\n",
       "    .dataframe tbody tr th:only-of-type {\n",
       "        vertical-align: middle;\n",
       "    }\n",
       "\n",
       "    .dataframe tbody tr th {\n",
       "        vertical-align: top;\n",
       "    }\n",
       "\n",
       "    .dataframe thead th {\n",
       "        text-align: right;\n",
       "    }\n",
       "</style>\n",
       "<table border=\"1\" class=\"dataframe\">\n",
       "  <thead>\n",
       "    <tr style=\"text-align: right;\">\n",
       "      <th></th>\n",
       "      <th>Entity</th>\n",
       "      <th>Code</th>\n",
       "      <th>Year</th>\n",
       "      <th>Fertility (live births per woman) (live births per woman)</th>\n",
       "      <th>Female labor force participation rate (%) (% of female population ages 15+ national estimate)</th>\n",
       "      <th>Total population (Gapminder)</th>\n",
       "    </tr>\n",
       "  </thead>\n",
       "  <tbody>\n",
       "    <tr>\n",
       "      <th>19604</th>\n",
       "      <td>Indonesia</td>\n",
       "      <td>IDN</td>\n",
       "      <td>1988</td>\n",
       "      <td>3.346</td>\n",
       "      <td>54.240002</td>\n",
       "      <td>174976000.0</td>\n",
       "    </tr>\n",
       "  </tbody>\n",
       "</table>\n",
       "</div>"
      ],
      "text/plain": [
       "          Entity Code  Year  \\\n",
       "19604  Indonesia  IDN  1988   \n",
       "\n",
       "       Fertility (live births per woman) (live births per woman)  \\\n",
       "19604                                              3.346           \n",
       "\n",
       "       Female labor force participation rate (%) (% of female population ages 15+ national estimate)  \\\n",
       "19604                                          54.240002                                               \n",
       "\n",
       "       Total population (Gapminder)  \n",
       "19604                   174976000.0  "
      ]
     },
     "execution_count": 285,
     "metadata": {},
     "output_type": "execute_result"
    }
   ],
   "source": [
    "# Because there is no data for female labor force participation rate in Indonesia in 1987, we will examine 1988\n",
    "# filter to only include data where the year is 1988 and there are no null values \n",
    "filtered_f_and_lf = fertility_and_laborforce_df[\n",
    "    (fertility_and_laborforce_df.Year == '1988') & pd.notnull(fertility_and_laborforce_df.iloc[:,4])\n",
    "]\n",
    "filtered_f_and_lf[filtered_f_and_lf.Entity=='Indonesia']"
   ]
  },
  {
   "cell_type": "code",
   "execution_count": 286,
   "metadata": {},
   "outputs": [
    {
     "data": {
      "text/plain": [
       "<matplotlib.legend.Legend at 0x7f0f3de5f690>"
      ]
     },
     "execution_count": 286,
     "metadata": {},
     "output_type": "execute_result"
    },
    {
     "data": {
      "image/png": "[encoded data removed]",
      "text/plain": [
       "<Figure size 504x504 with 1 Axes>"
      ]
     },
     "metadata": {},
     "output_type": "display_data"
    }
   ],
   "source": [
    "plt.figure(figsize=(7, 7))\n",
    "\n",
    "# Indonesia's x and y values \n",
    "IDN_x = [54.240002]\n",
    "IDN_y = [3.346]\n",
    "\n",
    "# create scatter plot \n",
    "others = plt.scatter(filtered_f_and_lf.iloc[:,4], filtered_f_and_lf.iloc[:,3])\n",
    "IDN = plt.scatter(IDN_x, IDN_y, marker='s', color='r')\n",
    "plt.title(\"Female Labor Force Participation Rate and Total Fertility Rate, 1988\")\n",
    "plt.xlabel('Female Labor Force Participation Rate (%)')\n",
    "plt.ylabel('Total Fertility Rate (TFR)')\n",
    "plt.legend((IDN, others), ('Indonesia', 'Other countries'),\n",
    "           scatterpoints=1,\n",
    "           loc='lower left')"
   ]
  },
  {
   "cell_type": "markdown",
   "metadata": {},
   "source": [
    "The first scatterplot shows that rate of contraceptive use in a population is negatively correlated with births per woman. The country's stage of development is a confounding factor that contributes to the correction between the number of women in the work force and births per women. The two plots have a different number of points because only countries with data in the given years are included."
   ]
  },
  {
   "cell_type": "markdown",
   "metadata": {},
   "source": [
    "## Exploratory Data Analysis "
   ]
  },
  {
   "cell_type": "markdown",
   "metadata": {},
   "source": [
    "Before modeling the data, we first conduct exploratory data analysis to summarize the data's main characteristics.\n",
    "\n",
    "From the UCI Machine Learning Repository, we get the following information about each of the variables:\n",
    "\n",
    "1. `wife_age`: (numerical)\n",
    "2. `wife_education`: (categorical) 1=low, 2, 3, 4=high\n",
    "3. `husband_eduation`: (categorical) 1=low, 2, 3, 4=high\n",
    "4. `num_child`: (numerical)\n",
    "5. `wife_religion`: (binary) 0=Non-Islam, 1=Islam\n",
    "6. `wife_work`: (binary) 0=Yes, 1=No\n",
    "7. `husband_occupation`: (categorical) 1, 2, 3, 4\n",
    "8. `standard_living`: (categorical) 1=low, 2, 3, 4=high\n",
    "9. `media_exposure`: (binary) 0=Good, 1=Not good\n",
    "10. `contraceptive`: (class attribute) 1=No-use, 2=Long-term, 3=Short-term"
   ]
  },
  {
   "cell_type": "code",
   "execution_count": 287,
   "metadata": {},
   "outputs": [
    {
     "data": {
      "text/plain": [
       "(1473, 10)"
      ]
     },
     "execution_count": 287,
     "metadata": {},
     "output_type": "execute_result"
    }
   ],
   "source": [
    "# Shape of data\n",
    "data.shape"
   ]
  },
  {
   "cell_type": "code",
   "execution_count": 288,
   "metadata": {},
   "outputs": [
    {
     "data": {
      "text/plain": [
       "wife_age              0\n",
       "wife_education        0\n",
       "husband_education     0\n",
       "num_child             0\n",
       "wife_religion         0\n",
       "wife_work             0\n",
       "husband_occupation    0\n",
       "standard_living       0\n",
       "media_exposure        0\n",
       "contraceptive         0\n",
       "dtype: int64"
      ]
     },
     "execution_count": 288,
     "metadata": {},
     "output_type": "execute_result"
    }
   ],
   "source": [
    "# Finding number of null values\n",
    "data.isnull().sum()"
   ]
  },
  {
   "cell_type": "markdown",
   "metadata": {},
   "source": [
    "There are 1473 women in our dataset. \n",
    "There aren't any null values. "
   ]
  },
  {
   "cell_type": "code",
   "execution_count": 289,
   "metadata": {},
   "outputs": [
    {
     "data": {
      "text/plain": [
       "Text(0, 0.5, 'Number of Women')"
      ]
     },
     "execution_count": 289,
     "metadata": {},
     "output_type": "execute_result"
    },
    {
     "data": {
      "image/png": "[encoded data removed]",
      "text/plain": [
       "<Figure size 864x432 with 2 Axes>"
      ]
     },
     "metadata": {},
     "output_type": "display_data"
    }
   ],
   "source": [
    "# Create histograms of numerical variables\n",
    "fig_num, axes_num = plt.subplots(1, 2, figsize = (12, 6))\n",
    "\n",
    "data.hist(\"num_child\", ax = axes_num[0])\n",
    "axes_num[0].set_title(\"Histogram of Number of Children\")\n",
    "axes_num[0].set_xlabel(\"Number of Children\")\n",
    "axes_num[0].set_ylabel(\"Number of Women\")\n",
    "fig_num.suptitle(\"Histograms of Numerical Variables\")\n",
    "\n",
    "data.hist(\"wife_age\", ax = axes_num[1])\n",
    "axes_num[1].set_title(\"Histogram of Wife Age\")\n",
    "axes_num[1].set_xlabel(\"Age\")\n",
    "axes_num[1].set_ylabel(\"Number of Women\")"
   ]
  },
  {
   "cell_type": "code",
   "execution_count": 290,
   "metadata": {},
   "outputs": [
    {
     "data": {
      "text/plain": [
       "Text(0, 0.5, 'Number of Women')"
      ]
     },
     "execution_count": 290,
     "metadata": {},
     "output_type": "execute_result"
    },
    {
     "data": {
      "image/png": "[encoded data removed]",
      "text/plain": [
       "<Figure size 1296x864 with 8 Axes>"
      ]
     },
     "metadata": {},
     "output_type": "display_data"
    }
   ],
   "source": [
    "# Create bar plots of nominal and ordinal variables\n",
    "fig_cat, axes_cat = plt.subplots(2, 4, figsize = (18, 12))\n",
    "\n",
    "sns.countplot(\"wife_education\", data = data, ax = axes_cat[0, 0])\n",
    "axes_cat[0, 0].set_title(\"Barplot of Wife Education\")\n",
    "axes_cat[0, 0].set_xlabel(\"Wife Education\")\n",
    "axes_cat[0, 0].set_ylabel(\"Number of Women\")\n",
    "fig_cat.suptitle(\"Barplots of Nominal and Ordinal Variables\")\n",
    "\n",
    "sns.countplot(\"husband_education\", data = data, ax = axes_cat[0, 1])\n",
    "axes_cat[0, 1].set_title(\"Barplot of Husband Education\")\n",
    "axes_cat[0, 1].set_xlabel(\"Husband Education\")\n",
    "axes_cat[0, 1].set_ylabel(\"Number of Women\")\n",
    "\n",
    "sns.countplot(\"wife_religion\", data = data, ax = axes_cat[0, 2])\n",
    "axes_cat[0, 2].set_title(\"Barplot of Wife Religion\")\n",
    "axes_cat[0, 2].set_xlabel(\"Wife Religion\")\n",
    "axes_cat[0, 2].set_ylabel(\"Number of Women\")\n",
    "\n",
    "sns.countplot(\"wife_work\", data = data, ax = axes_cat[0, 3])\n",
    "axes_cat[0, 3].set_title(\"Barplot of Wife Work\")\n",
    "axes_cat[0, 3].set_xlabel(\"Wife Work\")\n",
    "axes_cat[0, 3].set_ylabel(\"Number of Women\")\n",
    "\n",
    "sns.countplot(\"husband_occupation\", data = data, ax = axes_cat[1, 0])\n",
    "axes_cat[1, 0].set_title(\"Barplot of Husband Occupation\")\n",
    "axes_cat[1, 0].set_xlabel(\"Husband Occupation\")\n",
    "axes_cat[1, 0].set_ylabel(\"Number of Women\")\n",
    "\n",
    "sns.countplot(\"standard_living\", data = data, ax = axes_cat[1, 1])\n",
    "axes_cat[1, 1].set_title(\"Barplot of Standard of Living\")\n",
    "axes_cat[1, 1].set_xlabel(\"Standard of Living\")\n",
    "axes_cat[1, 1].set_ylabel(\"Number of Women\")\n",
    "\n",
    "sns.countplot(\"media_exposure\", data = data, ax = axes_cat[1, 2])\n",
    "axes_cat[1, 2].set_title(\"Barplot of Media Exposure\")\n",
    "axes_cat[1, 2].set_xlabel(\"Media Exposure\")\n",
    "axes_cat[1, 2].set_ylabel(\"Number of Women\")\n",
    "\n",
    "sns.countplot(\"contraceptive\", data = data, ax = axes_cat[1, 3])\n",
    "axes_cat[1, 3].set_title(\"Barplot of Contraceptive\")\n",
    "axes_cat[1, 3].set_xlabel(\"Contraceptive\")\n",
    "axes_cat[1, 3].set_ylabel(\"Number of Women\")"
   ]
  },
  {
   "cell_type": "code",
   "execution_count": 291,
   "metadata": {},
   "outputs": [
    {
     "data": {
      "text/html": [
       "<div>\n",
       "<style scoped>\n",
       "    .dataframe tbody tr th:only-of-type {\n",
       "        vertical-align: middle;\n",
       "    }\n",
       "\n",
       "    .dataframe tbody tr th {\n",
       "        vertical-align: top;\n",
       "    }\n",
       "\n",
       "    .dataframe thead th {\n",
       "        text-align: right;\n",
       "    }\n",
       "</style>\n",
       "<table border=\"1\" class=\"dataframe\">\n",
       "  <thead>\n",
       "    <tr style=\"text-align: right;\">\n",
       "      <th></th>\n",
       "      <th>wife_age</th>\n",
       "      <th>wife_education</th>\n",
       "      <th>husband_education</th>\n",
       "      <th>num_child</th>\n",
       "      <th>wife_religion</th>\n",
       "      <th>wife_work</th>\n",
       "      <th>husband_occupation</th>\n",
       "      <th>standard_living</th>\n",
       "      <th>media_exposure</th>\n",
       "      <th>contraceptive</th>\n",
       "    </tr>\n",
       "  </thead>\n",
       "  <tbody>\n",
       "    <tr>\n",
       "      <th>wife_age</th>\n",
       "      <td>1.000000</td>\n",
       "      <td>-0.048011</td>\n",
       "      <td>-0.052879</td>\n",
       "      <td>0.540126</td>\n",
       "      <td>-0.139543</td>\n",
       "      <td>-0.039880</td>\n",
       "      <td>-0.202532</td>\n",
       "      <td>0.184485</td>\n",
       "      <td>0.113306</td>\n",
       "      <td>-0.162953</td>\n",
       "    </tr>\n",
       "    <tr>\n",
       "      <th>wife_education</th>\n",
       "      <td>-0.048011</td>\n",
       "      <td>1.000000</td>\n",
       "      <td>0.618369</td>\n",
       "      <td>-0.193839</td>\n",
       "      <td>-0.232973</td>\n",
       "      <td>-0.062200</td>\n",
       "      <td>-0.395921</td>\n",
       "      <td>0.361450</td>\n",
       "      <td>-0.336080</td>\n",
       "      <td>0.149777</td>\n",
       "    </tr>\n",
       "    <tr>\n",
       "      <th>husband_education</th>\n",
       "      <td>-0.052879</td>\n",
       "      <td>0.618369</td>\n",
       "      <td>1.000000</td>\n",
       "      <td>-0.187513</td>\n",
       "      <td>-0.178447</td>\n",
       "      <td>0.001099</td>\n",
       "      <td>-0.337003</td>\n",
       "      <td>0.357490</td>\n",
       "      <td>-0.288691</td>\n",
       "      <td>0.103226</td>\n",
       "    </tr>\n",
       "    <tr>\n",
       "      <th>num_child</th>\n",
       "      <td>0.540126</td>\n",
       "      <td>-0.193839</td>\n",
       "      <td>-0.187513</td>\n",
       "      <td>1.000000</td>\n",
       "      <td>0.073917</td>\n",
       "      <td>0.097316</td>\n",
       "      <td>-0.023000</td>\n",
       "      <td>-0.006046</td>\n",
       "      <td>0.133658</td>\n",
       "      <td>0.082772</td>\n",
       "    </tr>\n",
       "    <tr>\n",
       "      <th>wife_religion</th>\n",
       "      <td>-0.139543</td>\n",
       "      <td>-0.232973</td>\n",
       "      <td>-0.178447</td>\n",
       "      <td>0.073917</td>\n",
       "      <td>1.000000</td>\n",
       "      <td>0.069837</td>\n",
       "      <td>0.084417</td>\n",
       "      <td>-0.196308</td>\n",
       "      <td>0.060243</td>\n",
       "      <td>-0.025271</td>\n",
       "    </tr>\n",
       "    <tr>\n",
       "      <th>wife_work</th>\n",
       "      <td>-0.039880</td>\n",
       "      <td>-0.062200</td>\n",
       "      <td>0.001099</td>\n",
       "      <td>0.097316</td>\n",
       "      <td>0.069837</td>\n",
       "      <td>1.000000</td>\n",
       "      <td>0.014232</td>\n",
       "      <td>-0.076505</td>\n",
       "      <td>0.001828</td>\n",
       "      <td>0.054438</td>\n",
       "    </tr>\n",
       "    <tr>\n",
       "      <th>husband_occupation</th>\n",
       "      <td>-0.202532</td>\n",
       "      <td>-0.395921</td>\n",
       "      <td>-0.337003</td>\n",
       "      <td>-0.023000</td>\n",
       "      <td>0.084417</td>\n",
       "      <td>0.014232</td>\n",
       "      <td>1.000000</td>\n",
       "      <td>-0.293831</td>\n",
       "      <td>0.113925</td>\n",
       "      <td>0.018161</td>\n",
       "    </tr>\n",
       "    <tr>\n",
       "      <th>standard_living</th>\n",
       "      <td>0.184485</td>\n",
       "      <td>0.361450</td>\n",
       "      <td>0.357490</td>\n",
       "      <td>-0.006046</td>\n",
       "      <td>-0.196308</td>\n",
       "      <td>-0.076505</td>\n",
       "      <td>-0.293831</td>\n",
       "      <td>1.000000</td>\n",
       "      <td>-0.251359</td>\n",
       "      <td>0.091149</td>\n",
       "    </tr>\n",
       "    <tr>\n",
       "      <th>media_exposure</th>\n",
       "      <td>0.113306</td>\n",
       "      <td>-0.336080</td>\n",
       "      <td>-0.288691</td>\n",
       "      <td>0.133658</td>\n",
       "      <td>0.060243</td>\n",
       "      <td>0.001828</td>\n",
       "      <td>0.113925</td>\n",
       "      <td>-0.251359</td>\n",
       "      <td>1.000000</td>\n",
       "      <td>-0.119206</td>\n",
       "    </tr>\n",
       "    <tr>\n",
       "      <th>contraceptive</th>\n",
       "      <td>-0.162953</td>\n",
       "      <td>0.149777</td>\n",
       "      <td>0.103226</td>\n",
       "      <td>0.082772</td>\n",
       "      <td>-0.025271</td>\n",
       "      <td>0.054438</td>\n",
       "      <td>0.018161</td>\n",
       "      <td>0.091149</td>\n",
       "      <td>-0.119206</td>\n",
       "      <td>1.000000</td>\n",
       "    </tr>\n",
       "  </tbody>\n",
       "</table>\n",
       "</div>"
      ],
      "text/plain": [
       "                    wife_age  wife_education  husband_education  num_child  \\\n",
       "wife_age            1.000000       -0.048011          -0.052879   0.540126   \n",
       "wife_education     -0.048011        1.000000           0.618369  -0.193839   \n",
       "husband_education  -0.052879        0.618369           1.000000  -0.187513   \n",
       "num_child           0.540126       -0.193839          -0.187513   1.000000   \n",
       "wife_religion      -0.139543       -0.232973          -0.178447   0.073917   \n",
       "wife_work          -0.039880       -0.062200           0.001099   0.097316   \n",
       "husband_occupation -0.202532       -0.395921          -0.337003  -0.023000   \n",
       "standard_living     0.184485        0.361450           0.357490  -0.006046   \n",
       "media_exposure      0.113306       -0.336080          -0.288691   0.133658   \n",
       "contraceptive      -0.162953        0.149777           0.103226   0.082772   \n",
       "\n",
       "                    wife_religion  wife_work  husband_occupation  \\\n",
       "wife_age                -0.139543  -0.039880           -0.202532   \n",
       "wife_education          -0.232973  -0.062200           -0.395921   \n",
       "husband_education       -0.178447   0.001099           -0.337003   \n",
       "num_child                0.073917   0.097316           -0.023000   \n",
       "wife_religion            1.000000   0.069837            0.084417   \n",
       "wife_work                0.069837   1.000000            0.014232   \n",
       "husband_occupation       0.084417   0.014232            1.000000   \n",
       "standard_living         -0.196308  -0.076505           -0.293831   \n",
       "media_exposure           0.060243   0.001828            0.113925   \n",
       "contraceptive           -0.025271   0.054438            0.018161   \n",
       "\n",
       "                    standard_living  media_exposure  contraceptive  \n",
       "wife_age                   0.184485        0.113306      -0.162953  \n",
       "wife_education             0.361450       -0.336080       0.149777  \n",
       "husband_education          0.357490       -0.288691       0.103226  \n",
       "num_child                 -0.006046        0.133658       0.082772  \n",
       "wife_religion             -0.196308        0.060243      -0.025271  \n",
       "wife_work                 -0.076505        0.001828       0.054438  \n",
       "husband_occupation        -0.293831        0.113925       0.018161  \n",
       "standard_living            1.000000       -0.251359       0.091149  \n",
       "media_exposure            -0.251359        1.000000      -0.119206  \n",
       "contraceptive              0.091149       -0.119206       1.000000  "
      ]
     },
     "execution_count": 291,
     "metadata": {},
     "output_type": "execute_result"
    },
    {
     "data": {
      "image/png": "[encoded data removed]",
      "text/plain": [
       "<Figure size 936x720 with 2 Axes>"
      ]
     },
     "metadata": {},
     "output_type": "display_data"
    }
   ],
   "source": [
    "# Create heatmap to visualize correlation between variables.\n",
    "plt.figure(figsize = (13, 10))\n",
    "sns.heatmap(data.corr(), annot = True, cmap='coolwarm', vmin=-1, vmax=1, center= 0)\n",
    "plt.title(\"Heatmap of Variables\")\n",
    "data.corr()"
   ]
  },
  {
   "cell_type": "markdown",
   "metadata": {},
   "source": [
    "From the heat map, it appears that the variable we are trying to predict, number of children, has the strongest correlation with wife age. "
   ]
  },
  {
   "cell_type": "code",
   "execution_count": 292,
   "metadata": {},
   "outputs": [
    {
     "data": {
      "text/plain": [
       "Text(0, 0.5, 'Number of Children')"
      ]
     },
     "execution_count": 292,
     "metadata": {},
     "output_type": "execute_result"
    },
    {
     "data": {
      "image/png": "[encoded data removed]",
      "text/plain": [
       "<Figure size 576x396 with 1 Axes>"
      ]
     },
     "metadata": {},
     "output_type": "display_data"
    }
   ],
   "source": [
    "# Visualize the relationship between number of children and wife age\n",
    "sns.scatterplot(x='wife_age', y='num_child', data=data)\n",
    "plt.title(\"Scatterplot of Wife Age and Number of Children\")\n",
    "plt.xlabel(\"Wife Age\")\n",
    "plt.ylabel(\"Number of Children\")"
   ]
  },
  {
   "cell_type": "code",
   "execution_count": 293,
   "metadata": {},
   "outputs": [
    {
     "data": {
      "image/png": "[encoded data removed]",
      "text/plain": [
       "<Figure size 576x396 with 1 Axes>"
      ]
     },
     "metadata": {},
     "output_type": "display_data"
    }
   ],
   "source": [
    "sns.violinplot(x = \"standard_living\", y = \"num_child\", data = data, inner = None, color = \"0.8\")\n",
    "sns.stripplot(x = \"standard_living\", y = \"num_child\", data = data, jitter = True);\n"
   ]
  },
  {
   "cell_type": "code",
   "execution_count": 294,
   "metadata": {},
   "outputs": [
    {
     "data": {
      "image/png": "[encoded data removed]",
      "text/plain": [
       "<Figure size 576x396 with 1 Axes>"
      ]
     },
     "metadata": {},
     "output_type": "display_data"
    }
   ],
   "source": [
    "sns.violinplot(x = \"wife_education\", y = \"num_child\", data = data, inner = None, color = \"0.8\")\n",
    "sns.stripplot(x = \"wife_education\", y = \"num_child\", data = data, jitter = True);"
   ]
  },
  {
   "cell_type": "code",
   "execution_count": 295,
   "metadata": {},
   "outputs": [
    {
     "data": {
      "image/png": "[encoded data removed]",
      "text/plain": [
       "<Figure size 576x396 with 1 Axes>"
      ]
     },
     "metadata": {},
     "output_type": "display_data"
    }
   ],
   "source": [
    "sns.violinplot(x = \"husband_occupation\", y = \"num_child\", data = data, inner = None, color = \"0.8\")\n",
    "sns.stripplot(x = \"husband_occupation\", y = \"num_child\", data = data, jitter = True);"
   ]
  },
  {
   "cell_type": "markdown",
   "metadata": {},
   "source": [
    "The heat map shows that the strongest correlation between any two variables is between wife education and husband education. Let's further explore these variables."
   ]
  },
  {
   "cell_type": "code",
   "execution_count": 296,
   "metadata": {},
   "outputs": [
    {
     "data": {
      "text/plain": [
       "4    577\n",
       "3    410\n",
       "2    334\n",
       "1    152\n",
       "Name: wife_education, dtype: int64"
      ]
     },
     "execution_count": 296,
     "metadata": {},
     "output_type": "execute_result"
    }
   ],
   "source": [
    "data.wife_education.value_counts()"
   ]
  },
  {
   "cell_type": "code",
   "execution_count": 297,
   "metadata": {},
   "outputs": [
    {
     "data": {
      "text/plain": [
       "4    899\n",
       "3    352\n",
       "2    178\n",
       "1     44\n",
       "Name: husband_education, dtype: int64"
      ]
     },
     "execution_count": 297,
     "metadata": {},
     "output_type": "execute_result"
    }
   ],
   "source": [
    "data.husband_education.value_counts()"
   ]
  },
  {
   "cell_type": "code",
   "execution_count": 298,
   "metadata": {},
   "outputs": [
    {
     "name": "stdout",
     "output_type": "stream",
     "text": [
      "In this dataset, there are 884 wives who have an education that is higher than or equal to their husbands\n",
      "That means that 0.3998642226748133 of the women have a lower educational level than their husbands\n"
     ]
    }
   ],
   "source": [
    "w_edu_higher_than_or_equal_to_h = data[data['wife_education']>=data['husband_education']]\n",
    "\n",
    "number_of_w_with_higher_or_equal_edu = w_edu_higher_than_or_equal_to_h.shape[0]\n",
    "print(f\"In this dataset, there are {number_of_w_with_higher_or_equal_edu} wives who have an education that is higher than or equal to their husbands\")\n",
    "print(f\"That means that {(data.shape[0]-number_of_w_with_higher_or_equal_edu)/data.shape[0]} of the women have a lower educational level than their husbands\")"
   ]
  },
  {
   "cell_type": "markdown",
   "metadata": {},
   "source": [
    "This dataset has 3 binary variables: wife_religion, wife_work, and media_exposure. Let's examine the distribution of these variables."
   ]
  },
  {
   "cell_type": "code",
   "execution_count": 299,
   "metadata": {},
   "outputs": [
    {
     "data": {
      "text/plain": [
       "1    1253\n",
       "0     220\n",
       "Name: wife_religion, dtype: int64"
      ]
     },
     "execution_count": 299,
     "metadata": {},
     "output_type": "execute_result"
    }
   ],
   "source": [
    "data.wife_religion.value_counts()"
   ]
  },
  {
   "cell_type": "code",
   "execution_count": 300,
   "metadata": {},
   "outputs": [
    {
     "data": {
      "text/plain": [
       "1    1104\n",
       "0     369\n",
       "Name: wife_work, dtype: int64"
      ]
     },
     "execution_count": 300,
     "metadata": {},
     "output_type": "execute_result"
    }
   ],
   "source": [
    "data.wife_work.value_counts()"
   ]
  },
  {
   "cell_type": "code",
   "execution_count": 301,
   "metadata": {},
   "outputs": [
    {
     "data": {
      "text/plain": [
       "0    1364\n",
       "1     109\n",
       "Name: media_exposure, dtype: int64"
      ]
     },
     "execution_count": 301,
     "metadata": {},
     "output_type": "execute_result"
    }
   ],
   "source": [
    "data.media_exposure.value_counts()"
   ]
  },
  {
   "cell_type": "markdown",
   "metadata": {},
   "source": [
    "Something to consider when building our model, is that these because these binary variables are largely disproportionate, we predict that these features are less helpful in modeling."
   ]
  },
  {
   "cell_type": "markdown",
   "metadata": {},
   "source": [
    "## Train-Test Split\n",
    "\n",
    "We now split the data into a train and test dataset, with 90% in `train` and 10% in `test`."
   ]
  },
  {
   "cell_type": "code",
   "execution_count": 302,
   "metadata": {},
   "outputs": [],
   "source": [
    "np.random.seed(seed = 100)\n",
    "\n",
    "from sklearn.model_selection import train_test_split\n",
    "\n",
    "train, test = train_test_split(data, test_size = 0.1)"
   ]
  },
  {
   "cell_type": "code",
   "execution_count": 303,
   "metadata": {},
   "outputs": [
    {
     "name": "stdout",
     "output_type": "stream",
     "text": [
      "True\n"
     ]
    }
   ],
   "source": [
    "print(len(train) + len(test) == len(data))"
   ]
  },
  {
   "cell_type": "markdown",
   "metadata": {},
   "source": [
    "## Cross Validation\n",
    "\n",
    "We now set up the cross validation step for our model. We will use five-fold cross validation."
   ]
  },
  {
   "cell_type": "code",
   "execution_count": 304,
   "metadata": {},
   "outputs": [],
   "source": [
    "def rmse(y, yhat):\n",
    "    return np.sqrt(np.mean((y - yhat)**2))"
   ]
  },
  {
   "cell_type": "code",
   "execution_count": 305,
   "metadata": {},
   "outputs": [],
   "source": [
    "from sklearn.model_selection import KFold, cross_val_score\n",
    "from sklearn.base import clone"
   ]
  },
  {
   "cell_type": "code",
   "execution_count": 306,
   "metadata": {},
   "outputs": [],
   "source": [
    "def cross_validate_rmse(model):\n",
    "    model = clone(model)\n",
    "    five_fold = KFold(n_splits = 5)\n",
    "    rmse_values = []\n",
    "    for train_ind, val_ind in five_fold.split(train):\n",
    "        model.fit(train.iloc[train_ind,:], train[\"num_child\"].iloc[train_ind])\n",
    "        rmse_values.append(rmse(train[\"num_child\"].iloc[val_ind], model.predict(train.iloc[val_ind,:])))\n",
    "    return np.mean(rmse_values)"
   ]
  },
  {
   "cell_type": "markdown",
   "metadata": {},
   "source": [
    "## Linear Models\n",
    "\n",
    "We now construct linear regression models for number of children."
   ]
  },
  {
   "cell_type": "code",
   "execution_count": 307,
   "metadata": {},
   "outputs": [],
   "source": [
    "from sklearn.linear_model import LinearRegression\n",
    "from sklearn.pipeline import Pipeline\n",
    "from sklearn.compose import ColumnTransformer\n",
    "from sklearn.preprocessing import OneHotEncoder\n",
    "from sklearn.tree import DecisionTreeRegressor"
   ]
  },
  {
   "cell_type": "code",
   "execution_count": 308,
   "metadata": {},
   "outputs": [],
   "source": [
    "data_corr = data.corr()\n",
    "data_corr = data_corr.iloc[(-data_corr[\"num_child\"].abs()).argsort()].reset_index()\n",
    "data_corr = data_corr.drop([0, 1])"
   ]
  },
  {
   "cell_type": "code",
   "execution_count": 309,
   "metadata": {},
   "outputs": [
    {
     "data": {
      "text/plain": [
       "array(['wife_education', 'husband_education', 'media_exposure',\n",
       "       'wife_work', 'contraceptive', 'wife_religion',\n",
       "       'husband_occupation', 'standard_living'], dtype=object)"
      ]
     },
     "execution_count": 309,
     "metadata": {},
     "output_type": "execute_result"
    }
   ],
   "source": [
    "categorical = data_corr[\"index\"].to_numpy()\n",
    "categorical"
   ]
  },
  {
   "cell_type": "code",
   "execution_count": 310,
   "metadata": {},
   "outputs": [],
   "source": [
    "models = {}"
   ]
  },
  {
   "cell_type": "code",
   "execution_count": 311,
   "metadata": {},
   "outputs": [],
   "source": [
    "for i in range(len(categorical) + 1):\n",
    "    features = categorical[:i]\n",
    "    name = i\n",
    "    model = Pipeline([\n",
    "        (\"SelectColumns\", ColumnTransformer([\n",
    "            (\"keep\", \"passthrough\", [\"wife_age\"]),\n",
    "            (\"origin_encoder\", OneHotEncoder(), features)\n",
    "        ])),\n",
    "        (\"LinearModel\", LinearRegression())\n",
    "    ])\n",
    "    model.fit(train, train[\"num_child\"]);\n",
    "    models[name] = model"
   ]
  },
  {
   "cell_type": "code",
   "execution_count": 312,
   "metadata": {},
   "outputs": [
    {
     "data": {
      "text/plain": [
       "dict_keys([0, 1, 2, 3, 4, 5, 6, 7, 8])"
      ]
     },
     "execution_count": 312,
     "metadata": {},
     "output_type": "execute_result"
    }
   ],
   "source": [
    "models.keys()"
   ]
  },
  {
   "cell_type": "code",
   "execution_count": 313,
   "metadata": {},
   "outputs": [
    {
     "data": {
      "text/plain": [
       "array(['wife_age', 'wife_education', 'husband_education',\n",
       "       'media_exposure', 'wife_work', 'contraceptive', 'wife_religion',\n",
       "       'husband_occupation', 'standard_living'], dtype=object)"
      ]
     },
     "execution_count": 313,
     "metadata": {},
     "output_type": "execute_result"
    }
   ],
   "source": [
    "feature_names = np.append([\"wife_age\"], categorical)\n",
    "feature_names"
   ]
  },
  {
   "cell_type": "markdown",
   "metadata": {},
   "source": [
    "#### Linear Model 1\n",
    "\n",
    "In Model 1, we explore the linear relationship between `wife_age` and `num_child`, both numerical variables."
   ]
  },
  {
   "cell_type": "code",
   "execution_count": 314,
   "metadata": {},
   "outputs": [
    {
     "name": "stdout",
     "output_type": "stream",
     "text": [
      "['wife_age']\n"
     ]
    }
   ],
   "source": [
    "print(feature_names[0:1])"
   ]
  },
  {
   "cell_type": "code",
   "execution_count": 315,
   "metadata": {},
   "outputs": [
    {
     "name": "stdout",
     "output_type": "stream",
     "text": [
      "Linear model 1 train error: 1.9754947408235202\n"
     ]
    }
   ],
   "source": [
    "models[0].fit(train, train[\"num_child\"])\n",
    "y_hat_1 = models[0].predict(train)\n",
    "y_1 = train[\"num_child\"]\n",
    "print(\"Linear model 1 train error:\", rmse(y_1, y_hat_1))"
   ]
  },
  {
   "cell_type": "code",
   "execution_count": 316,
   "metadata": {},
   "outputs": [
    {
     "name": "stdout",
     "output_type": "stream",
     "text": [
      "Linear model 1 cross validation error: 1.974357114805289\n"
     ]
    }
   ],
   "source": [
    "print(\"Linear model 1 cross validation error:\", cross_validate_rmse(models[0]))"
   ]
  },
  {
   "cell_type": "markdown",
   "metadata": {},
   "source": [
    "#### Linear Model 2 \n",
    "In Model 2, we begin to add categorical variables"
   ]
  },
  {
   "cell_type": "code",
   "execution_count": 317,
   "metadata": {},
   "outputs": [
    {
     "name": "stdout",
     "output_type": "stream",
     "text": [
      "['wife_age' 'wife_education']\n"
     ]
    }
   ],
   "source": [
    "print(feature_names[0:2])"
   ]
  },
  {
   "cell_type": "code",
   "execution_count": 318,
   "metadata": {},
   "outputs": [
    {
     "name": "stdout",
     "output_type": "stream",
     "text": [
      "Linear model 2 train error: 1.9266510613418515\n"
     ]
    }
   ],
   "source": [
    "models[1].fit(train, train[\"num_child\"])\n",
    "y_hat_2 = models[1].predict(train)\n",
    "y_2 = train[\"num_child\"]\n",
    "print(\"Linear model 2 train error:\", rmse(y_2, y_hat_2))"
   ]
  },
  {
   "cell_type": "code",
   "execution_count": 319,
   "metadata": {},
   "outputs": [
    {
     "name": "stdout",
     "output_type": "stream",
     "text": [
      "Linear model 2 cross validation error: 1.9336644837295054\n"
     ]
    }
   ],
   "source": [
    "print(\"Linear model 2 cross validation error:\", cross_validate_rmse(models[1]))"
   ]
  },
  {
   "cell_type": "markdown",
   "metadata": {},
   "source": [
    "#### Linear Model 3"
   ]
  },
  {
   "cell_type": "code",
   "execution_count": 320,
   "metadata": {},
   "outputs": [
    {
     "name": "stdout",
     "output_type": "stream",
     "text": [
      "['wife_age' 'wife_education' 'husband_education']\n"
     ]
    }
   ],
   "source": [
    "print(feature_names[0:3])"
   ]
  },
  {
   "cell_type": "code",
   "execution_count": 321,
   "metadata": {},
   "outputs": [
    {
     "name": "stdout",
     "output_type": "stream",
     "text": [
      "Linear model 3 train error: 1.9168949089061025\n"
     ]
    }
   ],
   "source": [
    "models[2].fit(train, train[\"num_child\"])\n",
    "y_hat_3 = models[2].predict(train)\n",
    "y_3 = train[\"num_child\"]\n",
    "print(\"Linear model 3 train error:\", rmse(y_3, y_hat_3))"
   ]
  },
  {
   "cell_type": "code",
   "execution_count": 322,
   "metadata": {},
   "outputs": [
    {
     "name": "stdout",
     "output_type": "stream",
     "text": [
      "Linear model 3 cross validation error: 1.9261524300371096\n"
     ]
    }
   ],
   "source": [
    "print(\"Linear model 3 cross validation error:\", cross_validate_rmse(models[2]))"
   ]
  },
  {
   "cell_type": "markdown",
   "metadata": {},
   "source": [
    "#### Linear Model 4"
   ]
  },
  {
   "cell_type": "code",
   "execution_count": 323,
   "metadata": {},
   "outputs": [
    {
     "name": "stdout",
     "output_type": "stream",
     "text": [
      "['wife_age' 'wife_education' 'husband_education' 'media_exposure']\n"
     ]
    }
   ],
   "source": [
    "print(feature_names[0:4])"
   ]
  },
  {
   "cell_type": "code",
   "execution_count": 324,
   "metadata": {},
   "outputs": [
    {
     "name": "stdout",
     "output_type": "stream",
     "text": [
      "Linear model 4 train error: 1.9145683480354083\n"
     ]
    }
   ],
   "source": [
    "models[3].fit(train, train[\"num_child\"])\n",
    "y_hat_4 = models[3].predict(train)\n",
    "y_4 = train[\"num_child\"]\n",
    "print(\"Linear model 4 train error:\", rmse(y_4, y_hat_4))"
   ]
  },
  {
   "cell_type": "code",
   "execution_count": 325,
   "metadata": {},
   "outputs": [
    {
     "name": "stdout",
     "output_type": "stream",
     "text": [
      "Linear model 4 cross validation error: 1.9243955849924645\n"
     ]
    }
   ],
   "source": [
    "print(\"Linear model 4 cross validation error:\", cross_validate_rmse(models[3]))"
   ]
  },
  {
   "cell_type": "markdown",
   "metadata": {},
   "source": [
    "#### Linear Model 5"
   ]
  },
  {
   "cell_type": "code",
   "execution_count": 326,
   "metadata": {},
   "outputs": [
    {
     "name": "stdout",
     "output_type": "stream",
     "text": [
      "['wife_age' 'wife_education' 'husband_education' 'media_exposure'\n",
      " 'wife_work']\n"
     ]
    }
   ],
   "source": [
    "print(feature_names[0:5])"
   ]
  },
  {
   "cell_type": "code",
   "execution_count": 327,
   "metadata": {},
   "outputs": [
    {
     "name": "stdout",
     "output_type": "stream",
     "text": [
      "Linear model 5 train error: 1.897767345047242\n"
     ]
    }
   ],
   "source": [
    "models[4].fit(train, train[\"num_child\"])\n",
    "y_hat_5 = models[4].predict(train)\n",
    "y_5 = train[\"num_child\"]\n",
    "print(\"Linear model 5 train error:\", rmse(y_5, y_hat_5))"
   ]
  },
  {
   "cell_type": "code",
   "execution_count": 328,
   "metadata": {},
   "outputs": [
    {
     "name": "stdout",
     "output_type": "stream",
     "text": [
      "Linear model 5 cross validation error: 1.9086380192544745\n"
     ]
    }
   ],
   "source": [
    "print(\"Linear model 5 cross validation error:\", cross_validate_rmse(models[4]))"
   ]
  },
  {
   "cell_type": "markdown",
   "metadata": {},
   "source": [
    "#### Linear Model 6"
   ]
  },
  {
   "cell_type": "code",
   "execution_count": 329,
   "metadata": {},
   "outputs": [
    {
     "name": "stdout",
     "output_type": "stream",
     "text": [
      "['wife_age' 'wife_education' 'husband_education' 'media_exposure'\n",
      " 'wife_work' 'contraceptive']\n"
     ]
    }
   ],
   "source": [
    "print(feature_names[0:6])"
   ]
  },
  {
   "cell_type": "code",
   "execution_count": 330,
   "metadata": {},
   "outputs": [
    {
     "name": "stdout",
     "output_type": "stream",
     "text": [
      "Linear model 6 train error: 1.8228020910032234\n"
     ]
    }
   ],
   "source": [
    "models[5].fit(train, train[\"num_child\"])\n",
    "y_hat_6 = models[5].predict(train)\n",
    "y_6 = train[\"num_child\"]\n",
    "print(\"Linear model 6 train error:\", rmse(y_6, y_hat_6))"
   ]
  },
  {
   "cell_type": "code",
   "execution_count": 331,
   "metadata": {},
   "outputs": [
    {
     "name": "stdout",
     "output_type": "stream",
     "text": [
      "Linear model 6 cross validation error: 1.8355289837824535\n"
     ]
    }
   ],
   "source": [
    "print(\"Linear model 6 cross validation error:\", cross_validate_rmse(models[5]))"
   ]
  },
  {
   "cell_type": "markdown",
   "metadata": {},
   "source": [
    "#### Linear Model 7"
   ]
  },
  {
   "cell_type": "code",
   "execution_count": 332,
   "metadata": {},
   "outputs": [
    {
     "name": "stdout",
     "output_type": "stream",
     "text": [
      "['wife_age' 'wife_education' 'husband_education' 'media_exposure'\n",
      " 'wife_work' 'contraceptive' 'wife_religion']\n"
     ]
    }
   ],
   "source": [
    "print(feature_names[0:7])"
   ]
  },
  {
   "cell_type": "code",
   "execution_count": 333,
   "metadata": {},
   "outputs": [
    {
     "name": "stdout",
     "output_type": "stream",
     "text": [
      "Linear model 7 train error: 1.802704209872939\n"
     ]
    }
   ],
   "source": [
    "models[6].fit(train, train[\"num_child\"])\n",
    "y_hat_7 = models[6].predict(train)\n",
    "y_7 = train[\"num_child\"]\n",
    "print(\"Linear model 7 train error:\", rmse(y_7, y_hat_7))"
   ]
  },
  {
   "cell_type": "code",
   "execution_count": 334,
   "metadata": {},
   "outputs": [
    {
     "name": "stdout",
     "output_type": "stream",
     "text": [
      "Linear model 7 cross validation error: 1.8149594456260623\n"
     ]
    }
   ],
   "source": [
    "print(\"Linear model 7 cross validation error:\", cross_validate_rmse(models[6]))"
   ]
  },
  {
   "cell_type": "markdown",
   "metadata": {},
   "source": [
    "#### Linear Model 8"
   ]
  },
  {
   "cell_type": "code",
   "execution_count": 335,
   "metadata": {},
   "outputs": [
    {
     "name": "stdout",
     "output_type": "stream",
     "text": [
      "['wife_age' 'wife_education' 'husband_education' 'media_exposure'\n",
      " 'wife_work' 'contraceptive' 'wife_religion' 'husband_occupation']\n"
     ]
    }
   ],
   "source": [
    "print(feature_names[0:8])"
   ]
  },
  {
   "cell_type": "code",
   "execution_count": 336,
   "metadata": {},
   "outputs": [
    {
     "name": "stdout",
     "output_type": "stream",
     "text": [
      "Linear model 8 train error: 1.7997161869072535\n"
     ]
    }
   ],
   "source": [
    "models[7].fit(train, train[\"num_child\"])\n",
    "y_hat_8 = models[7].predict(train)\n",
    "y_8 = train[\"num_child\"]\n",
    "print(\"Linear model 8 train error:\", rmse(y_8, y_hat_8))"
   ]
  },
  {
   "cell_type": "code",
   "execution_count": 337,
   "metadata": {},
   "outputs": [
    {
     "name": "stdout",
     "output_type": "stream",
     "text": [
      "Linear model 8 cross validation error: 1.8143215621191875\n"
     ]
    }
   ],
   "source": [
    "print(\"Linear model 8 cross validation error:\", cross_validate_rmse(models[7]))"
   ]
  },
  {
   "cell_type": "markdown",
   "metadata": {},
   "source": [
    "#### Linear Model 9"
   ]
  },
  {
   "cell_type": "code",
   "execution_count": 338,
   "metadata": {},
   "outputs": [
    {
     "name": "stdout",
     "output_type": "stream",
     "text": [
      "['wife_age' 'wife_education' 'husband_education' 'media_exposure'\n",
      " 'wife_work' 'contraceptive' 'wife_religion' 'husband_occupation'\n",
      " 'standard_living']\n"
     ]
    }
   ],
   "source": [
    "print(feature_names[0:9])"
   ]
  },
  {
   "cell_type": "code",
   "execution_count": 339,
   "metadata": {},
   "outputs": [
    {
     "name": "stdout",
     "output_type": "stream",
     "text": [
      "Linear model 9 train error: 1.7980986486297792\n"
     ]
    }
   ],
   "source": [
    "models[8].fit(train, train[\"num_child\"])\n",
    "y_hat_9 = models[8].predict(train)\n",
    "y_9 = train[\"num_child\"]\n",
    "print(\"Linear model 9 train error:\", rmse(y_9, y_hat_9))"
   ]
  },
  {
   "cell_type": "code",
   "execution_count": 340,
   "metadata": {},
   "outputs": [
    {
     "name": "stdout",
     "output_type": "stream",
     "text": [
      "Linear model 9 cross validation error: 1.8155616066911926\n"
     ]
    }
   ],
   "source": [
    "print(\"Linear model 9 cross validation error:\", cross_validate_rmse(models[8]))"
   ]
  },
  {
   "cell_type": "markdown",
   "metadata": {},
   "source": [
    "#### Linear Model: Graph of Errors"
   ]
  },
  {
   "cell_type": "code",
   "execution_count": 341,
   "metadata": {},
   "outputs": [],
   "source": [
    "import plotly.graph_objects as go"
   ]
  },
  {
   "cell_type": "code",
   "execution_count": 342,
   "metadata": {},
   "outputs": [],
   "source": [
    "def compare_models(models):\n",
    "    # Compute the training error for each model\n",
    "    training_rmse = [rmse(train[\"num_child\"], model.predict(train)) for model in models.values()]\n",
    "    \n",
    "    # Compute the cross validation error for each model\n",
    "    validation_rmse = [cross_validate_rmse(model) for model in models.values()]\n",
    "    \n",
    "    names = list(models.keys())\n",
    "    fig = go.Figure([\n",
    "        go.Bar(x = names, y = training_rmse, name=\"Training RMSE\"),\n",
    "        go.Bar(x = names, y = validation_rmse, name=\"CV RMSE\")])\n",
    "    fig.update_yaxes(title=\"RMSE\")\n",
    "    return fig"
   ]
  },
  {
   "cell_type": "code",
   "execution_count": 343,
   "metadata": {},
   "outputs": [
    {
     "data": {
      "application/vnd.plotly.v1+json": {
       "config": {
        "plotlyServerURL": "https://plot.ly"
       },
       "data": [
        {
         "name": "Training RMSE",
         "type": "bar",
         "x": [
          0,
          1,
          2,
          3,
          4,
          5,
          6,
          7,
          8
         ],
         "y": [
          1.9754947408235202,
          1.9266510613418515,
          1.9168949089061025,
          1.9145683480354083,
          1.897767345047242,
          1.8228020910032234,
          1.802704209872939,
          1.7997161869072535,
          1.7980986486297792
         ]
        },
        {
         "name": "CV RMSE",
         "type": "bar",
         "x": [
          0,
          1,
          2,
          3,
          4,
          5,
          6,
          7,
          8
         ],
         "y": [
          1.974357114805289,
          1.9336644837295054,
          1.9261524300371096,
          1.9243955849924645,
          1.9086380192544745,
          1.8355289837824535,
          1.8149594456260623,
          1.8143215621191875,
          1.8155616066911926
         ]
        }
       ],
       "layout": {
        "template": {
         "data": {
          "bar": [
           {
            "error_x": {
             "color": "#2a3f5f"
            },
            "error_y": {
             "color": "#2a3f5f"
            },
            "marker": {
             "line": {
              "color": "#E5ECF6",
              "width": 0.5
             }
            },
            "type": "bar"
           }
          ],
          "barpolar": [
           {
            "marker": {
             "line": {
              "color": "#E5ECF6",
              "width": 0.5
             }
            },
            "type": "barpolar"
           }
          ],
          "carpet": [
           {
            "aaxis": {
             "endlinecolor": "#2a3f5f",
             "gridcolor": "white",
             "linecolor": "white",
             "minorgridcolor": "white",
             "startlinecolor": "#2a3f5f"
            },
            "baxis": {
             "endlinecolor": "#2a3f5f",
             "gridcolor": "white",
             "linecolor": "white",
             "minorgridcolor": "white",
             "startlinecolor": "#2a3f5f"
            },
            "type": "carpet"
           }
          ],
          "choropleth": [
           {
            "colorbar": {
             "outlinewidth": 0,
             "ticks": ""
            },
            "type": "choropleth"
           }
          ],
          "contour": [
           {
            "colorbar": {
             "outlinewidth": 0,
             "ticks": ""
            },
            "colorscale": [
             [
              0,
              "#0d0887"
             ],
             [
              0.1111111111111111,
              "#46039f"
             ],
             [
              0.2222222222222222,
              "#7201a8"
             ],
             [
              0.3333333333333333,
              "#9c179e"
             ],
             [
              0.4444444444444444,
              "#bd3786"
             ],
             [
              0.5555555555555556,
              "#d8576b"
             ],
             [
              0.6666666666666666,
              "#ed7953"
             ],
             [
              0.7777777777777778,
              "#fb9f3a"
             ],
             [
              0.8888888888888888,
              "#fdca26"
             ],
             [
              1,
              "#f0f921"
             ]
            ],
            "type": "contour"
           }
          ],
          "contourcarpet": [
           {
            "colorbar": {
             "outlinewidth": 0,
             "ticks": ""
            },
            "type": "contourcarpet"
           }
          ],
          "heatmap": [
           {
            "colorbar": {
             "outlinewidth": 0,
             "ticks": ""
            },
            "colorscale": [
             [
              0,
              "#0d0887"
             ],
             [
              0.1111111111111111,
              "#46039f"
             ],
             [
              0.2222222222222222,
              "#7201a8"
             ],
             [
              0.3333333333333333,
              "#9c179e"
             ],
             [
              0.4444444444444444,
              "#bd3786"
             ],
             [
              0.5555555555555556,
              "#d8576b"
             ],
             [
              0.6666666666666666,
              "#ed7953"
             ],
             [
              0.7777777777777778,
              "#fb9f3a"
             ],
             [
              0.8888888888888888,
              "#fdca26"
             ],
             [
              1,
              "#f0f921"
             ]
            ],
            "type": "heatmap"
           }
          ],
          "heatmapgl": [
           {
            "colorbar": {
             "outlinewidth": 0,
             "ticks": ""
            },
            "colorscale": [
             [
              0,
              "#0d0887"
             ],
             [
              0.1111111111111111,
              "#46039f"
             ],
             [
              0.2222222222222222,
              "#7201a8"
             ],
             [
              0.3333333333333333,
              "#9c179e"
             ],
             [
              0.4444444444444444,
              "#bd3786"
             ],
             [
              0.5555555555555556,
              "#d8576b"
             ],
             [
              0.6666666666666666,
              "#ed7953"
             ],
             [
              0.7777777777777778,
              "#fb9f3a"
             ],
             [
              0.8888888888888888,
              "#fdca26"
             ],
             [
              1,
              "#f0f921"
             ]
            ],
            "type": "heatmapgl"
           }
          ],
          "histogram": [
           {
            "marker": {
             "colorbar": {
              "outlinewidth": 0,
              "ticks": ""
             }
            },
            "type": "histogram"
           }
          ],
          "histogram2d": [
           {
            "colorbar": {
             "outlinewidth": 0,
             "ticks": ""
            },
            "colorscale": [
             [
              0,
              "#0d0887"
             ],
             [
              0.1111111111111111,
              "#46039f"
             ],
             [
              0.2222222222222222,
              "#7201a8"
             ],
             [
              0.3333333333333333,
              "#9c179e"
             ],
             [
              0.4444444444444444,
              "#bd3786"
             ],
             [
              0.5555555555555556,
              "#d8576b"
             ],
             [
              0.6666666666666666,
              "#ed7953"
             ],
             [
              0.7777777777777778,
              "#fb9f3a"
             ],
             [
              0.8888888888888888,
              "#fdca26"
             ],
             [
              1,
              "#f0f921"
             ]
            ],
            "type": "histogram2d"
           }
          ],
          "histogram2dcontour": [
           {
            "colorbar": {
             "outlinewidth": 0,
             "ticks": ""
            },
            "colorscale": [
             [
              0,
              "#0d0887"
             ],
             [
              0.1111111111111111,
              "#46039f"
             ],
             [
              0.2222222222222222,
              "#7201a8"
             ],
             [
              0.3333333333333333,
              "#9c179e"
             ],
             [
              0.4444444444444444,
              "#bd3786"
             ],
             [
              0.5555555555555556,
              "#d8576b"
             ],
             [
              0.6666666666666666,
              "#ed7953"
             ],
             [
              0.7777777777777778,
              "#fb9f3a"
             ],
             [
              0.8888888888888888,
              "#fdca26"
             ],
             [
              1,
              "#f0f921"
             ]
            ],
            "type": "histogram2dcontour"
           }
          ],
          "mesh3d": [
           {
            "colorbar": {
             "outlinewidth": 0,
             "ticks": ""
            },
            "type": "mesh3d"
           }
          ],
          "parcoords": [
           {
            "line": {
             "colorbar": {
              "outlinewidth": 0,
              "ticks": ""
             }
            },
            "type": "parcoords"
           }
          ],
          "pie": [
           {
            "automargin": true,
            "type": "pie"
           }
          ],
          "scatter": [
           {
            "marker": {
             "colorbar": {
              "outlinewidth": 0,
              "ticks": ""
             }
            },
            "type": "scatter"
           }
          ],
          "scatter3d": [
           {
            "line": {
             "colorbar": {
              "outlinewidth": 0,
              "ticks": ""
             }
            },
            "marker": {
             "colorbar": {
              "outlinewidth": 0,
              "ticks": ""
             }
            },
            "type": "scatter3d"
           }
          ],
          "scattercarpet": [
           {
            "marker": {
             "colorbar": {
              "outlinewidth": 0,
              "ticks": ""
             }
            },
            "type": "scattercarpet"
           }
          ],
          "scattergeo": [
           {
            "marker": {
             "colorbar": {
              "outlinewidth": 0,
              "ticks": ""
             }
            },
            "type": "scattergeo"
           }
          ],
          "scattergl": [
           {
            "marker": {
             "colorbar": {
              "outlinewidth": 0,
              "ticks": ""
             }
            },
            "type": "scattergl"
           }
          ],
          "scattermapbox": [
           {
            "marker": {
             "colorbar": {
              "outlinewidth": 0,
              "ticks": ""
             }
            },
            "type": "scattermapbox"
           }
          ],
          "scatterpolar": [
           {
            "marker": {
             "colorbar": {
              "outlinewidth": 0,
              "ticks": ""
             }
            },
            "type": "scatterpolar"
           }
          ],
          "scatterpolargl": [
           {
            "marker": {
             "colorbar": {
              "outlinewidth": 0,
              "ticks": ""
             }
            },
            "type": "scatterpolargl"
           }
          ],
          "scatterternary": [
           {
            "marker": {
             "colorbar": {
              "outlinewidth": 0,
              "ticks": ""
             }
            },
            "type": "scatterternary"
           }
          ],
          "surface": [
           {
            "colorbar": {
             "outlinewidth": 0,
             "ticks": ""
            },
            "colorscale": [
             [
              0,
              "#0d0887"
             ],
             [
              0.1111111111111111,
              "#46039f"
             ],
             [
              0.2222222222222222,
              "#7201a8"
             ],
             [
              0.3333333333333333,
              "#9c179e"
             ],
             [
              0.4444444444444444,
              "#bd3786"
             ],
             [
              0.5555555555555556,
              "#d8576b"
             ],
             [
              0.6666666666666666,
              "#ed7953"
             ],
             [
              0.7777777777777778,
              "#fb9f3a"
             ],
             [
              0.8888888888888888,
              "#fdca26"
             ],
             [
              1,
              "#f0f921"
             ]
            ],
            "type": "surface"
           }
          ],
          "table": [
           {
            "cells": {
             "fill": {
              "color": "#EBF0F8"
             },
             "line": {
              "color": "white"
             }
            },
            "header": {
             "fill": {
              "color": "#C8D4E3"
             },
             "line": {
              "color": "white"
             }
            },
            "type": "table"
           }
          ]
         },
         "layout": {
          "annotationdefaults": {
           "arrowcolor": "#2a3f5f",
           "arrowhead": 0,
           "arrowwidth": 1
          },
          "coloraxis": {
           "colorbar": {
            "outlinewidth": 0,
            "ticks": ""
           }
          },
          "colorscale": {
           "diverging": [
            [
             0,
             "#8e0152"
            ],
            [
             0.1,
             "#c51b7d"
            ],
            [
             0.2,
             "#de77ae"
            ],
            [
             0.3,
             "#f1b6da"
            ],
            [
             0.4,
             "#fde0ef"
            ],
            [
             0.5,
             "#f7f7f7"
            ],
            [
             0.6,
             "#e6f5d0"
            ],
            [
             0.7,
             "#b8e186"
            ],
            [
             0.8,
             "#7fbc41"
            ],
            [
             0.9,
             "#4d9221"
            ],
            [
             1,
             "#276419"
            ]
           ],
           "sequential": [
            [
             0,
             "#0d0887"
            ],
            [
             0.1111111111111111,
             "#46039f"
            ],
            [
             0.2222222222222222,
             "#7201a8"
            ],
            [
             0.3333333333333333,
             "#9c179e"
            ],
            [
             0.4444444444444444,
             "#bd3786"
            ],
            [
             0.5555555555555556,
             "#d8576b"
            ],
            [
             0.6666666666666666,
             "#ed7953"
            ],
            [
             0.7777777777777778,
             "#fb9f3a"
            ],
            [
             0.8888888888888888,
             "#fdca26"
            ],
            [
             1,
             "#f0f921"
            ]
           ],
           "sequentialminus": [
            [
             0,
             "#0d0887"
            ],
            [
             0.1111111111111111,
             "#46039f"
            ],
            [
             0.2222222222222222,
             "#7201a8"
            ],
            [
             0.3333333333333333,
             "#9c179e"
            ],
            [
             0.4444444444444444,
             "#bd3786"
            ],
            [
             0.5555555555555556,
             "#d8576b"
            ],
            [
             0.6666666666666666,
             "#ed7953"
            ],
            [
             0.7777777777777778,
             "#fb9f3a"
            ],
            [
             0.8888888888888888,
             "#fdca26"
            ],
            [
             1,
             "#f0f921"
            ]
           ]
          },
          "colorway": [
           "#636efa",
           "#EF553B",
           "#00cc96",
           "#ab63fa",
           "#FFA15A",
           "#19d3f3",
           "#FF6692",
           "#B6E880",
           "#FF97FF",
           "#FECB52"
          ],
          "font": {
           "color": "#2a3f5f"
          },
          "geo": {
           "bgcolor": "white",
           "lakecolor": "white",
           "landcolor": "#E5ECF6",
           "showlakes": true,
           "showland": true,
           "subunitcolor": "white"
          },
          "hoverlabel": {
           "align": "left"
          },
          "hovermode": "closest",
          "mapbox": {
           "style": "light"
          },
          "paper_bgcolor": "white",
          "plot_bgcolor": "#E5ECF6",
          "polar": {
           "angularaxis": {
            "gridcolor": "white",
            "linecolor": "white",
            "ticks": ""
           },
           "bgcolor": "#E5ECF6",
           "radialaxis": {
            "gridcolor": "white",
            "linecolor": "white",
            "ticks": ""
           }
          },
          "scene": {
           "xaxis": {
            "backgroundcolor": "#E5ECF6",
            "gridcolor": "white",
            "gridwidth": 2,
            "linecolor": "white",
            "showbackground": true,
            "ticks": "",
            "zerolinecolor": "white"
           },
           "yaxis": {
            "backgroundcolor": "#E5ECF6",
            "gridcolor": "white",
            "gridwidth": 2,
            "linecolor": "white",
            "showbackground": true,
            "ticks": "",
            "zerolinecolor": "white"
           },
           "zaxis": {
            "backgroundcolor": "#E5ECF6",
            "gridcolor": "white",
            "gridwidth": 2,
            "linecolor": "white",
            "showbackground": true,
            "ticks": "",
            "zerolinecolor": "white"
           }
          },
          "shapedefaults": {
           "line": {
            "color": "#2a3f5f"
           }
          },
          "ternary": {
           "aaxis": {
            "gridcolor": "white",
            "linecolor": "white",
            "ticks": ""
           },
           "baxis": {
            "gridcolor": "white",
            "linecolor": "white",
            "ticks": ""
           },
           "bgcolor": "#E5ECF6",
           "caxis": {
            "gridcolor": "white",
            "linecolor": "white",
            "ticks": ""
           }
          },
          "title": {
           "x": 0.05
          },
          "xaxis": {
           "automargin": true,
           "gridcolor": "white",
           "linecolor": "white",
           "ticks": "",
           "title": {
            "standoff": 15
           },
           "zerolinecolor": "white",
           "zerolinewidth": 2
          },
          "yaxis": {
           "automargin": true,
           "gridcolor": "white",
           "linecolor": "white",
           "ticks": "",
           "title": {
            "standoff": 15
           },
           "zerolinecolor": "white",
           "zerolinewidth": 2
          }
         }
        },
        "yaxis": {
         "title": {
          "text": "RMSE"
         }
        }
       }
      },
      "text/html": [
       "<div>\n",
       "        \n",
       "        \n",
       "            <div id=\"04dd0f10-9dd8-4453-8394-468cff7ab619\" class=\"plotly-graph-div\" style=\"height:525px; width:100%;\"></div>\n",
       "            <script type=\"text/javascript\">\n",
       "                require([\"plotly\"], function(Plotly) {\n",
       "                    window.PLOTLYENV=window.PLOTLYENV || {};\n",
       "                    \n",
       "                if (document.getElementById(\"04dd0f10-9dd8-4453-8394-468cff7ab619\")) {\n",
       "                    Plotly.newPlot(\n",
       "                        '04dd0f10-9dd8-4453-8394-468cff7ab619',\n",
       "                        [{\"name\": \"Training RMSE\", \"type\": \"bar\", \"x\": [0, 1, 2, 3, 4, 5, 6, 7, 8], \"y\": [1.9754947408235202, 1.9266510613418515, 1.9168949089061025, 1.9145683480354083, 1.897767345047242, 1.8228020910032234, 1.802704209872939, 1.7997161869072535, 1.7980986486297792]}, {\"name\": \"CV RMSE\", \"type\": \"bar\", \"x\": [0, 1, 2, 3, 4, 5, 6, 7, 8], \"y\": [1.974357114805289, 1.9336644837295054, 1.9261524300371096, 1.9243955849924645, 1.9086380192544745, 1.8355289837824535, 1.8149594456260623, 1.8143215621191875, 1.8155616066911926]}],\n",
       "                        {\"template\": {\"data\": {\"bar\": [{\"error_x\": {\"color\": \"#2a3f5f\"}, \"error_y\": {\"color\": \"#2a3f5f\"}, \"marker\": {\"line\": {\"color\": \"#E5ECF6\", \"width\": 0.5}}, \"type\": \"bar\"}], \"barpolar\": [{\"marker\": {\"line\": {\"color\": \"#E5ECF6\", \"width\": 0.5}}, \"type\": \"barpolar\"}], \"carpet\": [{\"aaxis\": {\"endlinecolor\": \"#2a3f5f\", \"gridcolor\": \"white\", \"linecolor\": \"white\", \"minorgridcolor\": \"white\", \"startlinecolor\": \"#2a3f5f\"}, \"baxis\": {\"endlinecolor\": \"#2a3f5f\", \"gridcolor\": \"white\", \"linecolor\": \"white\", \"minorgridcolor\": \"white\", \"startlinecolor\": \"#2a3f5f\"}, \"type\": \"carpet\"}], \"choropleth\": [{\"colorbar\": {\"outlinewidth\": 0, \"ticks\": \"\"}, \"type\": \"choropleth\"}], \"contour\": [{\"colorbar\": {\"outlinewidth\": 0, \"ticks\": \"\"}, \"colorscale\": [[0.0, \"#0d0887\"], [0.1111111111111111, \"#46039f\"], [0.2222222222222222, \"#7201a8\"], [0.3333333333333333, \"#9c179e\"], [0.4444444444444444, \"#bd3786\"], [0.5555555555555556, \"#d8576b\"], [0.6666666666666666, \"#ed7953\"], [0.7777777777777778, \"#fb9f3a\"], [0.8888888888888888, \"#fdca26\"], [1.0, \"#f0f921\"]], \"type\": \"contour\"}], \"contourcarpet\": [{\"colorbar\": {\"outlinewidth\": 0, \"ticks\": \"\"}, \"type\": \"contourcarpet\"}], \"heatmap\": [{\"colorbar\": {\"outlinewidth\": 0, \"ticks\": \"\"}, \"colorscale\": [[0.0, \"#0d0887\"], [0.1111111111111111, \"#46039f\"], [0.2222222222222222, \"#7201a8\"], [0.3333333333333333, \"#9c179e\"], [0.4444444444444444, \"#bd3786\"], [0.5555555555555556, \"#d8576b\"], [0.6666666666666666, \"#ed7953\"], [0.7777777777777778, \"#fb9f3a\"], [0.8888888888888888, \"#fdca26\"], [1.0, \"#f0f921\"]], \"type\": \"heatmap\"}], \"heatmapgl\": [{\"colorbar\": {\"outlinewidth\": 0, \"ticks\": \"\"}, \"colorscale\": [[0.0, \"#0d0887\"], [0.1111111111111111, \"#46039f\"], [0.2222222222222222, \"#7201a8\"], [0.3333333333333333, \"#9c179e\"], [0.4444444444444444, \"#bd3786\"], [0.5555555555555556, \"#d8576b\"], [0.6666666666666666, \"#ed7953\"], [0.7777777777777778, \"#fb9f3a\"], [0.8888888888888888, \"#fdca26\"], [1.0, \"#f0f921\"]], \"type\": \"heatmapgl\"}], \"histogram\": [{\"marker\": {\"colorbar\": {\"outlinewidth\": 0, \"ticks\": \"\"}}, \"type\": \"histogram\"}], \"histogram2d\": [{\"colorbar\": {\"outlinewidth\": 0, \"ticks\": \"\"}, \"colorscale\": [[0.0, \"#0d0887\"], [0.1111111111111111, \"#46039f\"], [0.2222222222222222, \"#7201a8\"], [0.3333333333333333, \"#9c179e\"], [0.4444444444444444, \"#bd3786\"], [0.5555555555555556, \"#d8576b\"], [0.6666666666666666, \"#ed7953\"], [0.7777777777777778, \"#fb9f3a\"], [0.8888888888888888, \"#fdca26\"], [1.0, \"#f0f921\"]], \"type\": \"histogram2d\"}], \"histogram2dcontour\": [{\"colorbar\": {\"outlinewidth\": 0, \"ticks\": \"\"}, \"colorscale\": [[0.0, \"#0d0887\"], [0.1111111111111111, \"#46039f\"], [0.2222222222222222, \"#7201a8\"], [0.3333333333333333, \"#9c179e\"], [0.4444444444444444, \"#bd3786\"], [0.5555555555555556, \"#d8576b\"], [0.6666666666666666, \"#ed7953\"], [0.7777777777777778, \"#fb9f3a\"], [0.8888888888888888, \"#fdca26\"], [1.0, \"#f0f921\"]], \"type\": \"histogram2dcontour\"}], \"mesh3d\": [{\"colorbar\": {\"outlinewidth\": 0, \"ticks\": \"\"}, \"type\": \"mesh3d\"}], \"parcoords\": [{\"line\": {\"colorbar\": {\"outlinewidth\": 0, \"ticks\": \"\"}}, \"type\": \"parcoords\"}], \"pie\": [{\"automargin\": true, \"type\": \"pie\"}], \"scatter\": [{\"marker\": {\"colorbar\": {\"outlinewidth\": 0, \"ticks\": \"\"}}, \"type\": \"scatter\"}], \"scatter3d\": [{\"line\": {\"colorbar\": {\"outlinewidth\": 0, \"ticks\": \"\"}}, \"marker\": {\"colorbar\": {\"outlinewidth\": 0, \"ticks\": \"\"}}, \"type\": \"scatter3d\"}], \"scattercarpet\": [{\"marker\": {\"colorbar\": {\"outlinewidth\": 0, \"ticks\": \"\"}}, \"type\": \"scattercarpet\"}], \"scattergeo\": [{\"marker\": {\"colorbar\": {\"outlinewidth\": 0, \"ticks\": \"\"}}, \"type\": \"scattergeo\"}], \"scattergl\": [{\"marker\": {\"colorbar\": {\"outlinewidth\": 0, \"ticks\": \"\"}}, \"type\": \"scattergl\"}], \"scattermapbox\": [{\"marker\": {\"colorbar\": {\"outlinewidth\": 0, \"ticks\": \"\"}}, \"type\": \"scattermapbox\"}], \"scatterpolar\": [{\"marker\": {\"colorbar\": {\"outlinewidth\": 0, \"ticks\": \"\"}}, \"type\": \"scatterpolar\"}], \"scatterpolargl\": [{\"marker\": {\"colorbar\": {\"outlinewidth\": 0, \"ticks\": \"\"}}, \"type\": \"scatterpolargl\"}], \"scatterternary\": [{\"marker\": {\"colorbar\": {\"outlinewidth\": 0, \"ticks\": \"\"}}, \"type\": \"scatterternary\"}], \"surface\": [{\"colorbar\": {\"outlinewidth\": 0, \"ticks\": \"\"}, \"colorscale\": [[0.0, \"#0d0887\"], [0.1111111111111111, \"#46039f\"], [0.2222222222222222, \"#7201a8\"], [0.3333333333333333, \"#9c179e\"], [0.4444444444444444, \"#bd3786\"], [0.5555555555555556, \"#d8576b\"], [0.6666666666666666, \"#ed7953\"], [0.7777777777777778, \"#fb9f3a\"], [0.8888888888888888, \"#fdca26\"], [1.0, \"#f0f921\"]], \"type\": \"surface\"}], \"table\": [{\"cells\": {\"fill\": {\"color\": \"#EBF0F8\"}, \"line\": {\"color\": \"white\"}}, \"header\": {\"fill\": {\"color\": \"#C8D4E3\"}, \"line\": {\"color\": \"white\"}}, \"type\": \"table\"}]}, \"layout\": {\"annotationdefaults\": {\"arrowcolor\": \"#2a3f5f\", \"arrowhead\": 0, \"arrowwidth\": 1}, \"coloraxis\": {\"colorbar\": {\"outlinewidth\": 0, \"ticks\": \"\"}}, \"colorscale\": {\"diverging\": [[0, \"#8e0152\"], [0.1, \"#c51b7d\"], [0.2, \"#de77ae\"], [0.3, \"#f1b6da\"], [0.4, \"#fde0ef\"], [0.5, \"#f7f7f7\"], [0.6, \"#e6f5d0\"], [0.7, \"#b8e186\"], [0.8, \"#7fbc41\"], [0.9, \"#4d9221\"], [1, \"#276419\"]], \"sequential\": [[0.0, \"#0d0887\"], [0.1111111111111111, \"#46039f\"], [0.2222222222222222, \"#7201a8\"], [0.3333333333333333, \"#9c179e\"], [0.4444444444444444, \"#bd3786\"], [0.5555555555555556, \"#d8576b\"], [0.6666666666666666, \"#ed7953\"], [0.7777777777777778, \"#fb9f3a\"], [0.8888888888888888, \"#fdca26\"], [1.0, \"#f0f921\"]], \"sequentialminus\": [[0.0, \"#0d0887\"], [0.1111111111111111, \"#46039f\"], [0.2222222222222222, \"#7201a8\"], [0.3333333333333333, \"#9c179e\"], [0.4444444444444444, \"#bd3786\"], [0.5555555555555556, \"#d8576b\"], [0.6666666666666666, \"#ed7953\"], [0.7777777777777778, \"#fb9f3a\"], [0.8888888888888888, \"#fdca26\"], [1.0, \"#f0f921\"]]}, \"colorway\": [\"#636efa\", \"#EF553B\", \"#00cc96\", \"#ab63fa\", \"#FFA15A\", \"#19d3f3\", \"#FF6692\", \"#B6E880\", \"#FF97FF\", \"#FECB52\"], \"font\": {\"color\": \"#2a3f5f\"}, \"geo\": {\"bgcolor\": \"white\", \"lakecolor\": \"white\", \"landcolor\": \"#E5ECF6\", \"showlakes\": true, \"showland\": true, \"subunitcolor\": \"white\"}, \"hoverlabel\": {\"align\": \"left\"}, \"hovermode\": \"closest\", \"mapbox\": {\"style\": \"light\"}, \"paper_bgcolor\": \"white\", \"plot_bgcolor\": \"#E5ECF6\", \"polar\": {\"angularaxis\": {\"gridcolor\": \"white\", \"linecolor\": \"white\", \"ticks\": \"\"}, \"bgcolor\": \"#E5ECF6\", \"radialaxis\": {\"gridcolor\": \"white\", \"linecolor\": \"white\", \"ticks\": \"\"}}, \"scene\": {\"xaxis\": {\"backgroundcolor\": \"#E5ECF6\", \"gridcolor\": \"white\", \"gridwidth\": 2, \"linecolor\": \"white\", \"showbackground\": true, \"ticks\": \"\", \"zerolinecolor\": \"white\"}, \"yaxis\": {\"backgroundcolor\": \"#E5ECF6\", \"gridcolor\": \"white\", \"gridwidth\": 2, \"linecolor\": \"white\", \"showbackground\": true, \"ticks\": \"\", \"zerolinecolor\": \"white\"}, \"zaxis\": {\"backgroundcolor\": \"#E5ECF6\", \"gridcolor\": \"white\", \"gridwidth\": 2, \"linecolor\": \"white\", \"showbackground\": true, \"ticks\": \"\", \"zerolinecolor\": \"white\"}}, \"shapedefaults\": {\"line\": {\"color\": \"#2a3f5f\"}}, \"ternary\": {\"aaxis\": {\"gridcolor\": \"white\", \"linecolor\": \"white\", \"ticks\": \"\"}, \"baxis\": {\"gridcolor\": \"white\", \"linecolor\": \"white\", \"ticks\": \"\"}, \"bgcolor\": \"#E5ECF6\", \"caxis\": {\"gridcolor\": \"white\", \"linecolor\": \"white\", \"ticks\": \"\"}}, \"title\": {\"x\": 0.05}, \"xaxis\": {\"automargin\": true, \"gridcolor\": \"white\", \"linecolor\": \"white\", \"ticks\": \"\", \"title\": {\"standoff\": 15}, \"zerolinecolor\": \"white\", \"zerolinewidth\": 2}, \"yaxis\": {\"automargin\": true, \"gridcolor\": \"white\", \"linecolor\": \"white\", \"ticks\": \"\", \"title\": {\"standoff\": 15}, \"zerolinecolor\": \"white\", \"zerolinewidth\": 2}}}, \"yaxis\": {\"title\": {\"text\": \"RMSE\"}}},\n",
       "                        {\"responsive\": true}\n",
       "                    ).then(function(){\n",
       "                            \n",
       "var gd = document.getElementById('04dd0f10-9dd8-4453-8394-468cff7ab619');\n",
       "var x = new MutationObserver(function (mutations, observer) {{\n",
       "        var display = window.getComputedStyle(gd).display;\n",
       "        if (!display || display === 'none') {{\n",
       "            console.log([gd, 'removed!']);\n",
       "            Plotly.purge(gd);\n",
       "            observer.disconnect();\n",
       "        }}\n",
       "}});\n",
       "\n",
       "// Listen for the removal of the full notebook cells\n",
       "var notebookContainer = gd.closest('#notebook-container');\n",
       "if (notebookContainer) {{\n",
       "    x.observe(notebookContainer, {childList: true});\n",
       "}}\n",
       "\n",
       "// Listen for the clearing of the current output cell\n",
       "var outputEl = gd.closest('.output');\n",
       "if (outputEl) {{\n",
       "    x.observe(outputEl, {childList: true});\n",
       "}}\n",
       "\n",
       "                        })\n",
       "                };\n",
       "                });\n",
       "            </script>\n",
       "        </div>"
      ]
     },
     "metadata": {},
     "output_type": "display_data"
    }
   ],
   "source": [
    "compare_models(models)"
   ]
  },
  {
   "cell_type": "markdown",
   "metadata": {},
   "source": [
    "## Tree Regression\n",
    "We now construct tree regression models for number of children using a similar method to what was used to create our linear models"
   ]
  },
  {
   "cell_type": "code",
   "execution_count": 344,
   "metadata": {},
   "outputs": [],
   "source": [
    "tree_models = {}"
   ]
  },
  {
   "cell_type": "code",
   "execution_count": 345,
   "metadata": {},
   "outputs": [],
   "source": [
    "for i in range(len(categorical) + 1):\n",
    "    features = categorical[:i]\n",
    "    name = i\n",
    "    tree_model = Pipeline([\n",
    "        (\"SelectColumns\", ColumnTransformer([\n",
    "            (\"keep\", \"passthrough\", [\"wife_age\"]),\n",
    "            (\"origin_encoder\", OneHotEncoder(), features)\n",
    "        ])),\n",
    "        (\"TreeModel\", DecisionTreeRegressor())\n",
    "    ])\n",
    "    tree_model.fit(train, train[\"num_child\"]);\n",
    "    tree_models[name] = tree_model"
   ]
  },
  {
   "cell_type": "code",
   "execution_count": 346,
   "metadata": {},
   "outputs": [
    {
     "data": {
      "text/plain": [
       "dict_keys([0, 1, 2, 3, 4, 5, 6, 7, 8])"
      ]
     },
     "execution_count": 346,
     "metadata": {},
     "output_type": "execute_result"
    }
   ],
   "source": [
    "tree_models.keys()"
   ]
  },
  {
   "cell_type": "markdown",
   "metadata": {},
   "source": [
    "#### Tree Regression Model 1"
   ]
  },
  {
   "cell_type": "code",
   "execution_count": 347,
   "metadata": {},
   "outputs": [
    {
     "name": "stdout",
     "output_type": "stream",
     "text": [
      "['wife_age']\n"
     ]
    }
   ],
   "source": [
    "print(feature_names[0:1])"
   ]
  },
  {
   "cell_type": "code",
   "execution_count": 348,
   "metadata": {},
   "outputs": [
    {
     "name": "stdout",
     "output_type": "stream",
     "text": [
      "Tree regression model 1 train error: 1.934668351749654\n"
     ]
    }
   ],
   "source": [
    "tree_models[0].fit(train, train[\"num_child\"])\n",
    "y_hat_tree_1 = tree_models[0].predict(train)\n",
    "y_tree_1 = train[\"num_child\"]\n",
    "print(\"Tree regression model 1 train error:\", rmse(y_tree_1, y_hat_tree_1))"
   ]
  },
  {
   "cell_type": "code",
   "execution_count": 349,
   "metadata": {},
   "outputs": [
    {
     "name": "stdout",
     "output_type": "stream",
     "text": [
      "Tree regression model 1 cross validation error: 1.9937739711956435\n"
     ]
    }
   ],
   "source": [
    "print(\"Tree regression model 1 cross validation error:\", cross_validate_rmse(tree_models[0]))"
   ]
  },
  {
   "cell_type": "markdown",
   "metadata": {},
   "source": [
    "#### Tree Regression Model 2"
   ]
  },
  {
   "cell_type": "code",
   "execution_count": 350,
   "metadata": {},
   "outputs": [
    {
     "name": "stdout",
     "output_type": "stream",
     "text": [
      "['wife_age' 'wife_education']\n"
     ]
    }
   ],
   "source": [
    "print(feature_names[0:2])"
   ]
  },
  {
   "cell_type": "code",
   "execution_count": 351,
   "metadata": {},
   "outputs": [
    {
     "name": "stdout",
     "output_type": "stream",
     "text": [
      "Tree regression model 2 train error: 1.7740694851494414\n"
     ]
    }
   ],
   "source": [
    "tree_models[1].fit(train, train[\"num_child\"])\n",
    "y_hat_tree_2 = tree_models[1].predict(train)\n",
    "y_tree_2 = train[\"num_child\"]\n",
    "print(\"Tree regression model 2 train error:\", rmse(y_tree_2, y_hat_tree_2))"
   ]
  },
  {
   "cell_type": "code",
   "execution_count": 352,
   "metadata": {},
   "outputs": [
    {
     "name": "stdout",
     "output_type": "stream",
     "text": [
      "Tree regression model 2 cross validation error: 2.052804306756869\n"
     ]
    }
   ],
   "source": [
    "print(\"Tree regression model 2 cross validation error:\", cross_validate_rmse(tree_models[1]))"
   ]
  },
  {
   "cell_type": "markdown",
   "metadata": {},
   "source": [
    "#### Tree Regression Model 3 "
   ]
  },
  {
   "cell_type": "code",
   "execution_count": 353,
   "metadata": {},
   "outputs": [
    {
     "name": "stdout",
     "output_type": "stream",
     "text": [
      "['wife_age' 'wife_education' 'husband_education']\n"
     ]
    }
   ],
   "source": [
    "print(feature_names[0:3])"
   ]
  },
  {
   "cell_type": "code",
   "execution_count": 354,
   "metadata": {},
   "outputs": [
    {
     "name": "stdout",
     "output_type": "stream",
     "text": [
      "Tree regression model 3 train error: 1.54670380402933\n"
     ]
    }
   ],
   "source": [
    "tree_models[2].fit(train, train[\"num_child\"])\n",
    "y_hat_tree_3 = tree_models[2].predict(train)\n",
    "y_tree_3 = train[\"num_child\"]\n",
    "print(\"Tree regression model 3 train error:\", rmse(y_tree_3, y_hat_tree_3))"
   ]
  },
  {
   "cell_type": "code",
   "execution_count": 355,
   "metadata": {},
   "outputs": [
    {
     "name": "stdout",
     "output_type": "stream",
     "text": [
      "Tree regression model 3 cross validation error: 2.221381877758218\n"
     ]
    }
   ],
   "source": [
    "print(\"Tree regression model 3 cross validation error:\", cross_validate_rmse(tree_models[2]))"
   ]
  },
  {
   "cell_type": "markdown",
   "metadata": {},
   "source": [
    "#### Tree Regression Model 4\n"
   ]
  },
  {
   "cell_type": "code",
   "execution_count": 356,
   "metadata": {},
   "outputs": [
    {
     "name": "stdout",
     "output_type": "stream",
     "text": [
      "['wife_age' 'wife_education' 'husband_education' 'media_exposure']\n"
     ]
    }
   ],
   "source": [
    "print(feature_names[0:4])"
   ]
  },
  {
   "cell_type": "code",
   "execution_count": 357,
   "metadata": {},
   "outputs": [
    {
     "name": "stdout",
     "output_type": "stream",
     "text": [
      "Tree regression model 4 train error: 1.4786051858199631\n"
     ]
    }
   ],
   "source": [
    "tree_models[3].fit(train, train[\"num_child\"])\n",
    "y_hat_tree_4 = tree_models[3].predict(train)\n",
    "y_tree_4 = train[\"num_child\"]\n",
    "print(\"Tree regression model 4 train error:\", rmse(y_tree_4, y_hat_tree_4))"
   ]
  },
  {
   "cell_type": "code",
   "execution_count": 358,
   "metadata": {},
   "outputs": [
    {
     "name": "stdout",
     "output_type": "stream",
     "text": [
      "Tree regression model 4 cross validation error: 2.3026907169161768\n"
     ]
    }
   ],
   "source": [
    "print(\"Tree regression model 4 cross validation error:\", cross_validate_rmse(tree_models[3]))\n",
    "\n",
    "\n"
   ]
  },
  {
   "cell_type": "markdown",
   "metadata": {},
   "source": [
    "#### Tree Regression Model 5"
   ]
  },
  {
   "cell_type": "code",
   "execution_count": 359,
   "metadata": {},
   "outputs": [
    {
     "name": "stdout",
     "output_type": "stream",
     "text": [
      "['wife_age' 'wife_education' 'husband_education' 'media_exposure'\n",
      " 'wife_work']\n"
     ]
    }
   ],
   "source": [
    "print(feature_names[0:5])"
   ]
  },
  {
   "cell_type": "code",
   "execution_count": 360,
   "metadata": {},
   "outputs": [
    {
     "name": "stdout",
     "output_type": "stream",
     "text": [
      "Tree regression model 5 train error: 1.320247520536179\n"
     ]
    }
   ],
   "source": [
    "tree_models[4].fit(train, train[\"num_child\"])\n",
    "y_hat_tree_5 = tree_models[4].predict(train)\n",
    "y_tree_5 = train[\"num_child\"]\n",
    "print(\"Tree regression model 5 train error:\", rmse(y_tree_5, y_hat_tree_5))"
   ]
  },
  {
   "cell_type": "code",
   "execution_count": 361,
   "metadata": {},
   "outputs": [
    {
     "name": "stdout",
     "output_type": "stream",
     "text": [
      "Tree regression model 5 cross validation error: 2.3333218850352013\n"
     ]
    }
   ],
   "source": [
    "print(\"Tree regression model 5 cross validation error:\", cross_validate_rmse(tree_models[4]))"
   ]
  },
  {
   "cell_type": "markdown",
   "metadata": {},
   "source": [
    "#### Tree Regression Model 6 "
   ]
  },
  {
   "cell_type": "code",
   "execution_count": 362,
   "metadata": {},
   "outputs": [
    {
     "name": "stdout",
     "output_type": "stream",
     "text": [
      "['wife_age' 'wife_education' 'husband_education' 'media_exposure'\n",
      " 'wife_work' 'contraceptive']\n"
     ]
    }
   ],
   "source": [
    "print(feature_names[0:6])"
   ]
  },
  {
   "cell_type": "code",
   "execution_count": 363,
   "metadata": {},
   "outputs": [
    {
     "name": "stdout",
     "output_type": "stream",
     "text": [
      "Tree regression model 6 train error: 0.9892678068403893\n"
     ]
    }
   ],
   "source": [
    "tree_models[5].fit(train, train[\"num_child\"])\n",
    "y_hat_tree_6 = tree_models[5].predict(train)\n",
    "y_tree_6 = train[\"num_child\"]\n",
    "print(\"Tree regression model 6 train error:\", rmse(y_tree_6, y_hat_tree_6))"
   ]
  },
  {
   "cell_type": "code",
   "execution_count": 364,
   "metadata": {},
   "outputs": [
    {
     "name": "stdout",
     "output_type": "stream",
     "text": [
      "Tree regression model 6 cross validation error: 2.354345517111395\n"
     ]
    }
   ],
   "source": [
    "print(\"Tree regression model 6 cross validation error:\", cross_validate_rmse(tree_models[5]))"
   ]
  },
  {
   "cell_type": "markdown",
   "metadata": {},
   "source": [
    "#### Tree Regression Model 7"
   ]
  },
  {
   "cell_type": "code",
   "execution_count": 365,
   "metadata": {},
   "outputs": [
    {
     "name": "stdout",
     "output_type": "stream",
     "text": [
      "['wife_age' 'wife_education' 'husband_education' 'media_exposure'\n",
      " 'wife_work' 'contraceptive' 'wife_religion']\n"
     ]
    }
   ],
   "source": [
    "print(feature_names[0:7])"
   ]
  },
  {
   "cell_type": "code",
   "execution_count": 366,
   "metadata": {},
   "outputs": [
    {
     "name": "stdout",
     "output_type": "stream",
     "text": [
      "Tree regression model 7 train error: 0.8912119613805779\n"
     ]
    }
   ],
   "source": [
    "tree_models[6].fit(train, train[\"num_child\"])\n",
    "y_hat_tree_7 = tree_models[6].predict(train)\n",
    "y_tree_7 = train[\"num_child\"]\n",
    "print(\"Tree regression model 7 train error:\", rmse(y_tree_7, y_hat_tree_7))"
   ]
  },
  {
   "cell_type": "code",
   "execution_count": 367,
   "metadata": {},
   "outputs": [
    {
     "name": "stdout",
     "output_type": "stream",
     "text": [
      "Tree regression model 7 cross validation error: 2.3224209430323004\n"
     ]
    }
   ],
   "source": [
    "print(\"Tree regression model 7 cross validation error:\", cross_validate_rmse(tree_models[6]))"
   ]
  },
  {
   "cell_type": "markdown",
   "metadata": {},
   "source": [
    "#### Tree Regression Model 8 "
   ]
  },
  {
   "cell_type": "code",
   "execution_count": 368,
   "metadata": {},
   "outputs": [
    {
     "name": "stdout",
     "output_type": "stream",
     "text": [
      "['wife_age' 'wife_education' 'husband_education' 'media_exposure'\n",
      " 'wife_work' 'contraceptive' 'wife_religion' 'husband_occupation']\n"
     ]
    }
   ],
   "source": [
    "print(feature_names[0:8])"
   ]
  },
  {
   "cell_type": "code",
   "execution_count": 369,
   "metadata": {},
   "outputs": [
    {
     "name": "stdout",
     "output_type": "stream",
     "text": [
      "Tree regression model 8 train error: 0.5936667849663876\n"
     ]
    }
   ],
   "source": [
    "tree_models[7].fit(train, train[\"num_child\"])\n",
    "y_hat_tree_8 = tree_models[7].predict(train)\n",
    "y_tree_8 = train[\"num_child\"]\n",
    "print(\"Tree regression model 8 train error:\", rmse(y_tree_8, y_hat_tree_8))"
   ]
  },
  {
   "cell_type": "code",
   "execution_count": 370,
   "metadata": {},
   "outputs": [
    {
     "name": "stdout",
     "output_type": "stream",
     "text": [
      "Tree regression model 8 cross validation error: 2.5125794935399375\n"
     ]
    }
   ],
   "source": [
    "print(\"Tree regression model 8 cross validation error:\", cross_validate_rmse(tree_models[7]))"
   ]
  },
  {
   "cell_type": "markdown",
   "metadata": {},
   "source": [
    "#### Tree Regression Model 9 \n"
   ]
  },
  {
   "cell_type": "code",
   "execution_count": 371,
   "metadata": {},
   "outputs": [
    {
     "name": "stdout",
     "output_type": "stream",
     "text": [
      "['wife_age' 'wife_education' 'husband_education' 'media_exposure'\n",
      " 'wife_work' 'contraceptive' 'wife_religion' 'husband_occupation'\n",
      " 'standard_living']\n"
     ]
    }
   ],
   "source": [
    "print(feature_names[0:9])"
   ]
  },
  {
   "cell_type": "code",
   "execution_count": 372,
   "metadata": {},
   "outputs": [
    {
     "name": "stdout",
     "output_type": "stream",
     "text": [
      "Tree regression model 9 train error: 0.4249306269685077\n"
     ]
    }
   ],
   "source": [
    "tree_models[8].fit(train, train[\"num_child\"])\n",
    "y_hat_tree_9 = tree_models[8].predict(train)\n",
    "y_tree_9 = train[\"num_child\"]\n",
    "print(\"Tree regression model 9 train error:\", rmse(y_tree_9, y_hat_tree_9))"
   ]
  },
  {
   "cell_type": "code",
   "execution_count": 373,
   "metadata": {},
   "outputs": [
    {
     "name": "stdout",
     "output_type": "stream",
     "text": [
      "Tree regression model 9 cross validation error: 2.5668983633607825\n"
     ]
    }
   ],
   "source": [
    "print(\"Tree regression model 9 cross validation error:\", cross_validate_rmse(tree_models[8]))"
   ]
  },
  {
   "cell_type": "markdown",
   "metadata": {},
   "source": [
    "#### Tree Regression: Graph of Errors"
   ]
  },
  {
   "cell_type": "code",
   "execution_count": 374,
   "metadata": {},
   "outputs": [
    {
     "data": {
      "application/vnd.plotly.v1+json": {
       "config": {
        "plotlyServerURL": "https://plot.ly"
       },
       "data": [
        {
         "name": "Training RMSE",
         "type": "bar",
         "x": [
          0,
          1,
          2,
          3,
          4,
          5,
          6,
          7,
          8
         ],
         "y": [
          1.934668351749654,
          1.7740694851494414,
          1.54670380402933,
          1.4786051858199631,
          1.320247520536179,
          0.9892678068403893,
          0.8912119613805779,
          0.5936667849663876,
          0.4249306269685077
         ]
        },
        {
         "name": "CV RMSE",
         "type": "bar",
         "x": [
          0,
          1,
          2,
          3,
          4,
          5,
          6,
          7,
          8
         ],
         "y": [
          1.9937739711956435,
          2.052804306756869,
          2.2399276039649285,
          2.2906693417642665,
          2.353119227949514,
          2.3317325866103578,
          2.334324110749619,
          2.552651887100937,
          2.59873069889764
         ]
        }
       ],
       "layout": {
        "template": {
         "data": {
          "bar": [
           {
            "error_x": {
             "color": "#2a3f5f"
            },
            "error_y": {
             "color": "#2a3f5f"
            },
            "marker": {
             "line": {
              "color": "#E5ECF6",
              "width": 0.5
             }
            },
            "type": "bar"
           }
          ],
          "barpolar": [
           {
            "marker": {
             "line": {
              "color": "#E5ECF6",
              "width": 0.5
             }
            },
            "type": "barpolar"
           }
          ],
          "carpet": [
           {
            "aaxis": {
             "endlinecolor": "#2a3f5f",
             "gridcolor": "white",
             "linecolor": "white",
             "minorgridcolor": "white",
             "startlinecolor": "#2a3f5f"
            },
            "baxis": {
             "endlinecolor": "#2a3f5f",
             "gridcolor": "white",
             "linecolor": "white",
             "minorgridcolor": "white",
             "startlinecolor": "#2a3f5f"
            },
            "type": "carpet"
           }
          ],
          "choropleth": [
           {
            "colorbar": {
             "outlinewidth": 0,
             "ticks": ""
            },
            "type": "choropleth"
           }
          ],
          "contour": [
           {
            "colorbar": {
             "outlinewidth": 0,
             "ticks": ""
            },
            "colorscale": [
             [
              0,
              "#0d0887"
             ],
             [
              0.1111111111111111,
              "#46039f"
             ],
             [
              0.2222222222222222,
              "#7201a8"
             ],
             [
              0.3333333333333333,
              "#9c179e"
             ],
             [
              0.4444444444444444,
              "#bd3786"
             ],
             [
              0.5555555555555556,
              "#d8576b"
             ],
             [
              0.6666666666666666,
              "#ed7953"
             ],
             [
              0.7777777777777778,
              "#fb9f3a"
             ],
             [
              0.8888888888888888,
              "#fdca26"
             ],
             [
              1,
              "#f0f921"
             ]
            ],
            "type": "contour"
           }
          ],
          "contourcarpet": [
           {
            "colorbar": {
             "outlinewidth": 0,
             "ticks": ""
            },
            "type": "contourcarpet"
           }
          ],
          "heatmap": [
           {
            "colorbar": {
             "outlinewidth": 0,
             "ticks": ""
            },
            "colorscale": [
             [
              0,
              "#0d0887"
             ],
             [
              0.1111111111111111,
              "#46039f"
             ],
             [
              0.2222222222222222,
              "#7201a8"
             ],
             [
              0.3333333333333333,
              "#9c179e"
             ],
             [
              0.4444444444444444,
              "#bd3786"
             ],
             [
              0.5555555555555556,
              "#d8576b"
             ],
             [
              0.6666666666666666,
              "#ed7953"
             ],
             [
              0.7777777777777778,
              "#fb9f3a"
             ],
             [
              0.8888888888888888,
              "#fdca26"
             ],
             [
              1,
              "#f0f921"
             ]
            ],
            "type": "heatmap"
           }
          ],
          "heatmapgl": [
           {
            "colorbar": {
             "outlinewidth": 0,
             "ticks": ""
            },
            "colorscale": [
             [
              0,
              "#0d0887"
             ],
             [
              0.1111111111111111,
              "#46039f"
             ],
             [
              0.2222222222222222,
              "#7201a8"
             ],
             [
              0.3333333333333333,
              "#9c179e"
             ],
             [
              0.4444444444444444,
              "#bd3786"
             ],
             [
              0.5555555555555556,
              "#d8576b"
             ],
             [
              0.6666666666666666,
              "#ed7953"
             ],
             [
              0.7777777777777778,
              "#fb9f3a"
             ],
             [
              0.8888888888888888,
              "#fdca26"
             ],
             [
              1,
              "#f0f921"
             ]
            ],
            "type": "heatmapgl"
           }
          ],
          "histogram": [
           {
            "marker": {
             "colorbar": {
              "outlinewidth": 0,
              "ticks": ""
             }
            },
            "type": "histogram"
           }
          ],
          "histogram2d": [
           {
            "colorbar": {
             "outlinewidth": 0,
             "ticks": ""
            },
            "colorscale": [
             [
              0,
              "#0d0887"
             ],
             [
              0.1111111111111111,
              "#46039f"
             ],
             [
              0.2222222222222222,
              "#7201a8"
             ],
             [
              0.3333333333333333,
              "#9c179e"
             ],
             [
              0.4444444444444444,
              "#bd3786"
             ],
             [
              0.5555555555555556,
              "#d8576b"
             ],
             [
              0.6666666666666666,
              "#ed7953"
             ],
             [
              0.7777777777777778,
              "#fb9f3a"
             ],
             [
              0.8888888888888888,
              "#fdca26"
             ],
             [
              1,
              "#f0f921"
             ]
            ],
            "type": "histogram2d"
           }
          ],
          "histogram2dcontour": [
           {
            "colorbar": {
             "outlinewidth": 0,
             "ticks": ""
            },
            "colorscale": [
             [
              0,
              "#0d0887"
             ],
             [
              0.1111111111111111,
              "#46039f"
             ],
             [
              0.2222222222222222,
              "#7201a8"
             ],
             [
              0.3333333333333333,
              "#9c179e"
             ],
             [
              0.4444444444444444,
              "#bd3786"
             ],
             [
              0.5555555555555556,
              "#d8576b"
             ],
             [
              0.6666666666666666,
              "#ed7953"
             ],
             [
              0.7777777777777778,
              "#fb9f3a"
             ],
             [
              0.8888888888888888,
              "#fdca26"
             ],
             [
              1,
              "#f0f921"
             ]
            ],
            "type": "histogram2dcontour"
           }
          ],
          "mesh3d": [
           {
            "colorbar": {
             "outlinewidth": 0,
             "ticks": ""
            },
            "type": "mesh3d"
           }
          ],
          "parcoords": [
           {
            "line": {
             "colorbar": {
              "outlinewidth": 0,
              "ticks": ""
             }
            },
            "type": "parcoords"
           }
          ],
          "pie": [
           {
            "automargin": true,
            "type": "pie"
           }
          ],
          "scatter": [
           {
            "marker": {
             "colorbar": {
              "outlinewidth": 0,
              "ticks": ""
             }
            },
            "type": "scatter"
           }
          ],
          "scatter3d": [
           {
            "line": {
             "colorbar": {
              "outlinewidth": 0,
              "ticks": ""
             }
            },
            "marker": {
             "colorbar": {
              "outlinewidth": 0,
              "ticks": ""
             }
            },
            "type": "scatter3d"
           }
          ],
          "scattercarpet": [
           {
            "marker": {
             "colorbar": {
              "outlinewidth": 0,
              "ticks": ""
             }
            },
            "type": "scattercarpet"
           }
          ],
          "scattergeo": [
           {
            "marker": {
             "colorbar": {
              "outlinewidth": 0,
              "ticks": ""
             }
            },
            "type": "scattergeo"
           }
          ],
          "scattergl": [
           {
            "marker": {
             "colorbar": {
              "outlinewidth": 0,
              "ticks": ""
             }
            },
            "type": "scattergl"
           }
          ],
          "scattermapbox": [
           {
            "marker": {
             "colorbar": {
              "outlinewidth": 0,
              "ticks": ""
             }
            },
            "type": "scattermapbox"
           }
          ],
          "scatterpolar": [
           {
            "marker": {
             "colorbar": {
              "outlinewidth": 0,
              "ticks": ""
             }
            },
            "type": "scatterpolar"
           }
          ],
          "scatterpolargl": [
           {
            "marker": {
             "colorbar": {
              "outlinewidth": 0,
              "ticks": ""
             }
            },
            "type": "scatterpolargl"
           }
          ],
          "scatterternary": [
           {
            "marker": {
             "colorbar": {
              "outlinewidth": 0,
              "ticks": ""
             }
            },
            "type": "scatterternary"
           }
          ],
          "surface": [
           {
            "colorbar": {
             "outlinewidth": 0,
             "ticks": ""
            },
            "colorscale": [
             [
              0,
              "#0d0887"
             ],
             [
              0.1111111111111111,
              "#46039f"
             ],
             [
              0.2222222222222222,
              "#7201a8"
             ],
             [
              0.3333333333333333,
              "#9c179e"
             ],
             [
              0.4444444444444444,
              "#bd3786"
             ],
             [
              0.5555555555555556,
              "#d8576b"
             ],
             [
              0.6666666666666666,
              "#ed7953"
             ],
             [
              0.7777777777777778,
              "#fb9f3a"
             ],
             [
              0.8888888888888888,
              "#fdca26"
             ],
             [
              1,
              "#f0f921"
             ]
            ],
            "type": "surface"
           }
          ],
          "table": [
           {
            "cells": {
             "fill": {
              "color": "#EBF0F8"
             },
             "line": {
              "color": "white"
             }
            },
            "header": {
             "fill": {
              "color": "#C8D4E3"
             },
             "line": {
              "color": "white"
             }
            },
            "type": "table"
           }
          ]
         },
         "layout": {
          "annotationdefaults": {
           "arrowcolor": "#2a3f5f",
           "arrowhead": 0,
           "arrowwidth": 1
          },
          "coloraxis": {
           "colorbar": {
            "outlinewidth": 0,
            "ticks": ""
           }
          },
          "colorscale": {
           "diverging": [
            [
             0,
             "#8e0152"
            ],
            [
             0.1,
             "#c51b7d"
            ],
            [
             0.2,
             "#de77ae"
            ],
            [
             0.3,
             "#f1b6da"
            ],
            [
             0.4,
             "#fde0ef"
            ],
            [
             0.5,
             "#f7f7f7"
            ],
            [
             0.6,
             "#e6f5d0"
            ],
            [
             0.7,
             "#b8e186"
            ],
            [
             0.8,
             "#7fbc41"
            ],
            [
             0.9,
             "#4d9221"
            ],
            [
             1,
             "#276419"
            ]
           ],
           "sequential": [
            [
             0,
             "#0d0887"
            ],
            [
             0.1111111111111111,
             "#46039f"
            ],
            [
             0.2222222222222222,
             "#7201a8"
            ],
            [
             0.3333333333333333,
             "#9c179e"
            ],
            [
             0.4444444444444444,
             "#bd3786"
            ],
            [
             0.5555555555555556,
             "#d8576b"
            ],
            [
             0.6666666666666666,
             "#ed7953"
            ],
            [
             0.7777777777777778,
             "#fb9f3a"
            ],
            [
             0.8888888888888888,
             "#fdca26"
            ],
            [
             1,
             "#f0f921"
            ]
           ],
           "sequentialminus": [
            [
             0,
             "#0d0887"
            ],
            [
             0.1111111111111111,
             "#46039f"
            ],
            [
             0.2222222222222222,
             "#7201a8"
            ],
            [
             0.3333333333333333,
             "#9c179e"
            ],
            [
             0.4444444444444444,
             "#bd3786"
            ],
            [
             0.5555555555555556,
             "#d8576b"
            ],
            [
             0.6666666666666666,
             "#ed7953"
            ],
            [
             0.7777777777777778,
             "#fb9f3a"
            ],
            [
             0.8888888888888888,
             "#fdca26"
            ],
            [
             1,
             "#f0f921"
            ]
           ]
          },
          "colorway": [
           "#636efa",
           "#EF553B",
           "#00cc96",
           "#ab63fa",
           "#FFA15A",
           "#19d3f3",
           "#FF6692",
           "#B6E880",
           "#FF97FF",
           "#FECB52"
          ],
          "font": {
           "color": "#2a3f5f"
          },
          "geo": {
           "bgcolor": "white",
           "lakecolor": "white",
           "landcolor": "#E5ECF6",
           "showlakes": true,
           "showland": true,
           "subunitcolor": "white"
          },
          "hoverlabel": {
           "align": "left"
          },
          "hovermode": "closest",
          "mapbox": {
           "style": "light"
          },
          "paper_bgcolor": "white",
          "plot_bgcolor": "#E5ECF6",
          "polar": {
           "angularaxis": {
            "gridcolor": "white",
            "linecolor": "white",
            "ticks": ""
           },
           "bgcolor": "#E5ECF6",
           "radialaxis": {
            "gridcolor": "white",
            "linecolor": "white",
            "ticks": ""
           }
          },
          "scene": {
           "xaxis": {
            "backgroundcolor": "#E5ECF6",
            "gridcolor": "white",
            "gridwidth": 2,
            "linecolor": "white",
            "showbackground": true,
            "ticks": "",
            "zerolinecolor": "white"
           },
           "yaxis": {
            "backgroundcolor": "#E5ECF6",
            "gridcolor": "white",
            "gridwidth": 2,
            "linecolor": "white",
            "showbackground": true,
            "ticks": "",
            "zerolinecolor": "white"
           },
           "zaxis": {
            "backgroundcolor": "#E5ECF6",
            "gridcolor": "white",
            "gridwidth": 2,
            "linecolor": "white",
            "showbackground": true,
            "ticks": "",
            "zerolinecolor": "white"
           }
          },
          "shapedefaults": {
           "line": {
            "color": "#2a3f5f"
           }
          },
          "ternary": {
           "aaxis": {
            "gridcolor": "white",
            "linecolor": "white",
            "ticks": ""
           },
           "baxis": {
            "gridcolor": "white",
            "linecolor": "white",
            "ticks": ""
           },
           "bgcolor": "#E5ECF6",
           "caxis": {
            "gridcolor": "white",
            "linecolor": "white",
            "ticks": ""
           }
          },
          "title": {
           "x": 0.05
          },
          "xaxis": {
           "automargin": true,
           "gridcolor": "white",
           "linecolor": "white",
           "ticks": "",
           "title": {
            "standoff": 15
           },
           "zerolinecolor": "white",
           "zerolinewidth": 2
          },
          "yaxis": {
           "automargin": true,
           "gridcolor": "white",
           "linecolor": "white",
           "ticks": "",
           "title": {
            "standoff": 15
           },
           "zerolinecolor": "white",
           "zerolinewidth": 2
          }
         }
        },
        "yaxis": {
         "title": {
          "text": "RMSE"
         }
        }
       }
      },
      "text/html": [
       "<div>\n",
       "        \n",
       "        \n",
       "            <div id=\"69cee633-9956-4718-a0a5-a401e9bfa096\" class=\"plotly-graph-div\" style=\"height:525px; width:100%;\"></div>\n",
       "            <script type=\"text/javascript\">\n",
       "                require([\"plotly\"], function(Plotly) {\n",
       "                    window.PLOTLYENV=window.PLOTLYENV || {};\n",
       "                    \n",
       "                if (document.getElementById(\"69cee633-9956-4718-a0a5-a401e9bfa096\")) {\n",
       "                    Plotly.newPlot(\n",
       "                        '69cee633-9956-4718-a0a5-a401e9bfa096',\n",
       "                        [{\"name\": \"Training RMSE\", \"type\": \"bar\", \"x\": [0, 1, 2, 3, 4, 5, 6, 7, 8], \"y\": [1.934668351749654, 1.7740694851494414, 1.54670380402933, 1.4786051858199631, 1.320247520536179, 0.9892678068403893, 0.8912119613805779, 0.5936667849663876, 0.4249306269685077]}, {\"name\": \"CV RMSE\", \"type\": \"bar\", \"x\": [0, 1, 2, 3, 4, 5, 6, 7, 8], \"y\": [1.9937739711956435, 2.052804306756869, 2.2399276039649285, 2.2906693417642665, 2.353119227949514, 2.3317325866103578, 2.334324110749619, 2.552651887100937, 2.59873069889764]}],\n",
       "                        {\"template\": {\"data\": {\"bar\": [{\"error_x\": {\"color\": \"#2a3f5f\"}, \"error_y\": {\"color\": \"#2a3f5f\"}, \"marker\": {\"line\": {\"color\": \"#E5ECF6\", \"width\": 0.5}}, \"type\": \"bar\"}], \"barpolar\": [{\"marker\": {\"line\": {\"color\": \"#E5ECF6\", \"width\": 0.5}}, \"type\": \"barpolar\"}], \"carpet\": [{\"aaxis\": {\"endlinecolor\": \"#2a3f5f\", \"gridcolor\": \"white\", \"linecolor\": \"white\", \"minorgridcolor\": \"white\", \"startlinecolor\": \"#2a3f5f\"}, \"baxis\": {\"endlinecolor\": \"#2a3f5f\", \"gridcolor\": \"white\", \"linecolor\": \"white\", \"minorgridcolor\": \"white\", \"startlinecolor\": \"#2a3f5f\"}, \"type\": \"carpet\"}], \"choropleth\": [{\"colorbar\": {\"outlinewidth\": 0, \"ticks\": \"\"}, \"type\": \"choropleth\"}], \"contour\": [{\"colorbar\": {\"outlinewidth\": 0, \"ticks\": \"\"}, \"colorscale\": [[0.0, \"#0d0887\"], [0.1111111111111111, \"#46039f\"], [0.2222222222222222, \"#7201a8\"], [0.3333333333333333, \"#9c179e\"], [0.4444444444444444, \"#bd3786\"], [0.5555555555555556, \"#d8576b\"], [0.6666666666666666, \"#ed7953\"], [0.7777777777777778, \"#fb9f3a\"], [0.8888888888888888, \"#fdca26\"], [1.0, \"#f0f921\"]], \"type\": \"contour\"}], \"contourcarpet\": [{\"colorbar\": {\"outlinewidth\": 0, \"ticks\": \"\"}, \"type\": \"contourcarpet\"}], \"heatmap\": [{\"colorbar\": {\"outlinewidth\": 0, \"ticks\": \"\"}, \"colorscale\": [[0.0, \"#0d0887\"], [0.1111111111111111, \"#46039f\"], [0.2222222222222222, \"#7201a8\"], [0.3333333333333333, \"#9c179e\"], [0.4444444444444444, \"#bd3786\"], [0.5555555555555556, \"#d8576b\"], [0.6666666666666666, \"#ed7953\"], [0.7777777777777778, \"#fb9f3a\"], [0.8888888888888888, \"#fdca26\"], [1.0, \"#f0f921\"]], \"type\": \"heatmap\"}], \"heatmapgl\": [{\"colorbar\": {\"outlinewidth\": 0, \"ticks\": \"\"}, \"colorscale\": [[0.0, \"#0d0887\"], [0.1111111111111111, \"#46039f\"], [0.2222222222222222, \"#7201a8\"], [0.3333333333333333, \"#9c179e\"], [0.4444444444444444, \"#bd3786\"], [0.5555555555555556, \"#d8576b\"], [0.6666666666666666, \"#ed7953\"], [0.7777777777777778, \"#fb9f3a\"], [0.8888888888888888, \"#fdca26\"], [1.0, \"#f0f921\"]], \"type\": \"heatmapgl\"}], \"histogram\": [{\"marker\": {\"colorbar\": {\"outlinewidth\": 0, \"ticks\": \"\"}}, \"type\": \"histogram\"}], \"histogram2d\": [{\"colorbar\": {\"outlinewidth\": 0, \"ticks\": \"\"}, \"colorscale\": [[0.0, \"#0d0887\"], [0.1111111111111111, \"#46039f\"], [0.2222222222222222, \"#7201a8\"], [0.3333333333333333, \"#9c179e\"], [0.4444444444444444, \"#bd3786\"], [0.5555555555555556, \"#d8576b\"], [0.6666666666666666, \"#ed7953\"], [0.7777777777777778, \"#fb9f3a\"], [0.8888888888888888, \"#fdca26\"], [1.0, \"#f0f921\"]], \"type\": \"histogram2d\"}], \"histogram2dcontour\": [{\"colorbar\": {\"outlinewidth\": 0, \"ticks\": \"\"}, \"colorscale\": [[0.0, \"#0d0887\"], [0.1111111111111111, \"#46039f\"], [0.2222222222222222, \"#7201a8\"], [0.3333333333333333, \"#9c179e\"], [0.4444444444444444, \"#bd3786\"], [0.5555555555555556, \"#d8576b\"], [0.6666666666666666, \"#ed7953\"], [0.7777777777777778, \"#fb9f3a\"], [0.8888888888888888, \"#fdca26\"], [1.0, \"#f0f921\"]], \"type\": \"histogram2dcontour\"}], \"mesh3d\": [{\"colorbar\": {\"outlinewidth\": 0, \"ticks\": \"\"}, \"type\": \"mesh3d\"}], \"parcoords\": [{\"line\": {\"colorbar\": {\"outlinewidth\": 0, \"ticks\": \"\"}}, \"type\": \"parcoords\"}], \"pie\": [{\"automargin\": true, \"type\": \"pie\"}], \"scatter\": [{\"marker\": {\"colorbar\": {\"outlinewidth\": 0, \"ticks\": \"\"}}, \"type\": \"scatter\"}], \"scatter3d\": [{\"line\": {\"colorbar\": {\"outlinewidth\": 0, \"ticks\": \"\"}}, \"marker\": {\"colorbar\": {\"outlinewidth\": 0, \"ticks\": \"\"}}, \"type\": \"scatter3d\"}], \"scattercarpet\": [{\"marker\": {\"colorbar\": {\"outlinewidth\": 0, \"ticks\": \"\"}}, \"type\": \"scattercarpet\"}], \"scattergeo\": [{\"marker\": {\"colorbar\": {\"outlinewidth\": 0, \"ticks\": \"\"}}, \"type\": \"scattergeo\"}], \"scattergl\": [{\"marker\": {\"colorbar\": {\"outlinewidth\": 0, \"ticks\": \"\"}}, \"type\": \"scattergl\"}], \"scattermapbox\": [{\"marker\": {\"colorbar\": {\"outlinewidth\": 0, \"ticks\": \"\"}}, \"type\": \"scattermapbox\"}], \"scatterpolar\": [{\"marker\": {\"colorbar\": {\"outlinewidth\": 0, \"ticks\": \"\"}}, \"type\": \"scatterpolar\"}], \"scatterpolargl\": [{\"marker\": {\"colorbar\": {\"outlinewidth\": 0, \"ticks\": \"\"}}, \"type\": \"scatterpolargl\"}], \"scatterternary\": [{\"marker\": {\"colorbar\": {\"outlinewidth\": 0, \"ticks\": \"\"}}, \"type\": \"scatterternary\"}], \"surface\": [{\"colorbar\": {\"outlinewidth\": 0, \"ticks\": \"\"}, \"colorscale\": [[0.0, \"#0d0887\"], [0.1111111111111111, \"#46039f\"], [0.2222222222222222, \"#7201a8\"], [0.3333333333333333, \"#9c179e\"], [0.4444444444444444, \"#bd3786\"], [0.5555555555555556, \"#d8576b\"], [0.6666666666666666, \"#ed7953\"], [0.7777777777777778, \"#fb9f3a\"], [0.8888888888888888, \"#fdca26\"], [1.0, \"#f0f921\"]], \"type\": \"surface\"}], \"table\": [{\"cells\": {\"fill\": {\"color\": \"#EBF0F8\"}, \"line\": {\"color\": \"white\"}}, \"header\": {\"fill\": {\"color\": \"#C8D4E3\"}, \"line\": {\"color\": \"white\"}}, \"type\": \"table\"}]}, \"layout\": {\"annotationdefaults\": {\"arrowcolor\": \"#2a3f5f\", \"arrowhead\": 0, \"arrowwidth\": 1}, \"coloraxis\": {\"colorbar\": {\"outlinewidth\": 0, \"ticks\": \"\"}}, \"colorscale\": {\"diverging\": [[0, \"#8e0152\"], [0.1, \"#c51b7d\"], [0.2, \"#de77ae\"], [0.3, \"#f1b6da\"], [0.4, \"#fde0ef\"], [0.5, \"#f7f7f7\"], [0.6, \"#e6f5d0\"], [0.7, \"#b8e186\"], [0.8, \"#7fbc41\"], [0.9, \"#4d9221\"], [1, \"#276419\"]], \"sequential\": [[0.0, \"#0d0887\"], [0.1111111111111111, \"#46039f\"], [0.2222222222222222, \"#7201a8\"], [0.3333333333333333, \"#9c179e\"], [0.4444444444444444, \"#bd3786\"], [0.5555555555555556, \"#d8576b\"], [0.6666666666666666, \"#ed7953\"], [0.7777777777777778, \"#fb9f3a\"], [0.8888888888888888, \"#fdca26\"], [1.0, \"#f0f921\"]], \"sequentialminus\": [[0.0, \"#0d0887\"], [0.1111111111111111, \"#46039f\"], [0.2222222222222222, \"#7201a8\"], [0.3333333333333333, \"#9c179e\"], [0.4444444444444444, \"#bd3786\"], [0.5555555555555556, \"#d8576b\"], [0.6666666666666666, \"#ed7953\"], [0.7777777777777778, \"#fb9f3a\"], [0.8888888888888888, \"#fdca26\"], [1.0, \"#f0f921\"]]}, \"colorway\": [\"#636efa\", \"#EF553B\", \"#00cc96\", \"#ab63fa\", \"#FFA15A\", \"#19d3f3\", \"#FF6692\", \"#B6E880\", \"#FF97FF\", \"#FECB52\"], \"font\": {\"color\": \"#2a3f5f\"}, \"geo\": {\"bgcolor\": \"white\", \"lakecolor\": \"white\", \"landcolor\": \"#E5ECF6\", \"showlakes\": true, \"showland\": true, \"subunitcolor\": \"white\"}, \"hoverlabel\": {\"align\": \"left\"}, \"hovermode\": \"closest\", \"mapbox\": {\"style\": \"light\"}, \"paper_bgcolor\": \"white\", \"plot_bgcolor\": \"#E5ECF6\", \"polar\": {\"angularaxis\": {\"gridcolor\": \"white\", \"linecolor\": \"white\", \"ticks\": \"\"}, \"bgcolor\": \"#E5ECF6\", \"radialaxis\": {\"gridcolor\": \"white\", \"linecolor\": \"white\", \"ticks\": \"\"}}, \"scene\": {\"xaxis\": {\"backgroundcolor\": \"#E5ECF6\", \"gridcolor\": \"white\", \"gridwidth\": 2, \"linecolor\": \"white\", \"showbackground\": true, \"ticks\": \"\", \"zerolinecolor\": \"white\"}, \"yaxis\": {\"backgroundcolor\": \"#E5ECF6\", \"gridcolor\": \"white\", \"gridwidth\": 2, \"linecolor\": \"white\", \"showbackground\": true, \"ticks\": \"\", \"zerolinecolor\": \"white\"}, \"zaxis\": {\"backgroundcolor\": \"#E5ECF6\", \"gridcolor\": \"white\", \"gridwidth\": 2, \"linecolor\": \"white\", \"showbackground\": true, \"ticks\": \"\", \"zerolinecolor\": \"white\"}}, \"shapedefaults\": {\"line\": {\"color\": \"#2a3f5f\"}}, \"ternary\": {\"aaxis\": {\"gridcolor\": \"white\", \"linecolor\": \"white\", \"ticks\": \"\"}, \"baxis\": {\"gridcolor\": \"white\", \"linecolor\": \"white\", \"ticks\": \"\"}, \"bgcolor\": \"#E5ECF6\", \"caxis\": {\"gridcolor\": \"white\", \"linecolor\": \"white\", \"ticks\": \"\"}}, \"title\": {\"x\": 0.05}, \"xaxis\": {\"automargin\": true, \"gridcolor\": \"white\", \"linecolor\": \"white\", \"ticks\": \"\", \"title\": {\"standoff\": 15}, \"zerolinecolor\": \"white\", \"zerolinewidth\": 2}, \"yaxis\": {\"automargin\": true, \"gridcolor\": \"white\", \"linecolor\": \"white\", \"ticks\": \"\", \"title\": {\"standoff\": 15}, \"zerolinecolor\": \"white\", \"zerolinewidth\": 2}}}, \"yaxis\": {\"title\": {\"text\": \"RMSE\"}}},\n",
       "                        {\"responsive\": true}\n",
       "                    ).then(function(){\n",
       "                            \n",
       "var gd = document.getElementById('69cee633-9956-4718-a0a5-a401e9bfa096');\n",
       "var x = new MutationObserver(function (mutations, observer) {{\n",
       "        var display = window.getComputedStyle(gd).display;\n",
       "        if (!display || display === 'none') {{\n",
       "            console.log([gd, 'removed!']);\n",
       "            Plotly.purge(gd);\n",
       "            observer.disconnect();\n",
       "        }}\n",
       "}});\n",
       "\n",
       "// Listen for the removal of the full notebook cells\n",
       "var notebookContainer = gd.closest('#notebook-container');\n",
       "if (notebookContainer) {{\n",
       "    x.observe(notebookContainer, {childList: true});\n",
       "}}\n",
       "\n",
       "// Listen for the clearing of the current output cell\n",
       "var outputEl = gd.closest('.output');\n",
       "if (outputEl) {{\n",
       "    x.observe(outputEl, {childList: true});\n",
       "}}\n",
       "\n",
       "                        })\n",
       "                };\n",
       "                });\n",
       "            </script>\n",
       "        </div>"
      ]
     },
     "metadata": {},
     "output_type": "display_data"
    }
   ],
   "source": [
    "compare_models(tree_models)"
   ]
  },
  {
   "cell_type": "markdown",
   "metadata": {},
   "source": [
    "## Lasso Regression \n",
    "We implement Lasso Regression to try and identify features that are not informative when predicting number of children. "
   ]
  },
  {
   "cell_type": "code",
   "execution_count": 429,
   "metadata": {},
   "outputs": [],
   "source": [
    "from sklearn.linear_model import Lasso, LassoCV\n",
    "from sklearn.preprocessing import StandardScaler"
   ]
  },
  {
   "cell_type": "code",
   "execution_count": 430,
   "metadata": {},
   "outputs": [],
   "source": [
    "lasso_model = Pipeline([\n",
    "    (\"SelectColumns\", ColumnTransformer([\n",
    "        (\"keep\", StandardScaler(), [\"wife_age\"]),\n",
    "        (\"origin_encoder\", OneHotEncoder(), features),\n",
    "    ])),\n",
    "    (\"LinearModel\", LassoCV(cv=5))\n",
    "])"
   ]
  },
  {
   "cell_type": "code",
   "execution_count": 431,
   "metadata": {},
   "outputs": [],
   "source": [
    "lasso_model.fit(train, train[\"num_child\"])\n",
    "models[\"LassoCV\"] = lasso_model"
   ]
  },
  {
   "cell_type": "code",
   "execution_count": 432,
   "metadata": {},
   "outputs": [
    {
     "data": {
      "text/plain": [
       "[0, 1, 2, 3, 4, 5, 6, 7, 8, 'LassoCV']"
      ]
     },
     "execution_count": 432,
     "metadata": {},
     "output_type": "execute_result"
    }
   ],
   "source": [
    "list(models.keys())"
   ]
  },
  {
   "cell_type": "code",
   "execution_count": 436,
   "metadata": {},
   "outputs": [],
   "source": [
    "# calulating training and cross validation rmse \n",
    "training_rmse = [rmse(train[\"num_child\"], model.predict(train)) for model in models.values()]\n",
    "validation_rmse = [cross_validate_rmse(model) for model in models.values()]\n"
   ]
  },
  {
   "cell_type": "code",
   "execution_count": 437,
   "metadata": {},
   "outputs": [
    {
     "data": {
      "text/plain": [
       "[1.9754947408235202,\n",
       " 1.9266510613418515,\n",
       " 1.9168949089061025,\n",
       " 1.9145683480354083,\n",
       " 1.897767345047242,\n",
       " 1.8228020910032234,\n",
       " 1.802704209872939,\n",
       " 1.7997161869072535,\n",
       " 1.7980986486297792,\n",
       " 1.8039843833012048]"
      ]
     },
     "execution_count": 437,
     "metadata": {},
     "output_type": "execute_result"
    }
   ],
   "source": [
    "training_rmse"
   ]
  },
  {
   "cell_type": "code",
   "execution_count": 438,
   "metadata": {},
   "outputs": [
    {
     "data": {
      "text/plain": [
       "[1.974357114805289,\n",
       " 1.9336644837295054,\n",
       " 1.9261524300371096,\n",
       " 1.9243955849924645,\n",
       " 1.9086380192544745,\n",
       " 1.8355289837824535,\n",
       " 1.8149594456260623,\n",
       " 1.8143215621191875,\n",
       " 1.8155616066911926,\n",
       " 1.8153466445764619]"
      ]
     },
     "execution_count": 438,
     "metadata": {},
     "output_type": "execute_result"
    }
   ],
   "source": [
    "validation_rmse"
   ]
  },
  {
   "cell_type": "code",
   "execution_count": 443,
   "metadata": {},
   "outputs": [
    {
     "data": {
      "image/png": "[encoded data removed]",
      "text/plain": [
       "<Figure size 576x396 with 1 Axes>"
      ]
     },
     "metadata": {},
     "output_type": "display_data"
    }
   ],
   "source": [
    "barWidth = 0.25\n",
    "\n",
    "bars1 = training_rmse\n",
    "bars2 = validation_rmse\n",
    "\n",
    "r1 = np.arange(len(bars1))\n",
    "r2 = [x + barWidth for x in r1]\n",
    " \n",
    "plt.bar(r1, bars1, color='#7f6d5f', width=barWidth, edgecolor='white', label='training RMSE')\n",
    "plt.bar(r2, bars2, color='#557f2d', width=barWidth, edgecolor='white', label='CV RMSE')\n",
    "\n",
    "plt.xticks([r + barWidth for r in range(len(bars1))], [str(i) for i in list(models.keys())])\n",
    " \n",
    "plt.legend()\n",
    "plt.show()"
   ]
  },
  {
   "cell_type": "markdown",
   "metadata": {},
   "source": [
    "We create a plot to examine the distribution of model coefficients to see what the Lasso model is selecting to predict number of children "
   ]
  },
  {
   "cell_type": "code",
   "execution_count": 448,
   "metadata": {},
   "outputs": [
    {
     "data": {
      "application/vnd.plotly.v1+json": {
       "config": {
        "plotlyServerURL": "https://plot.ly"
       },
       "data": [
        {
         "autobinx": false,
         "histnorm": "probability density",
         "legendgroup": "Lasso",
         "marker": {
          "color": "rgb(31, 119, 180)"
         },
         "name": "Lasso",
         "opacity": 0.7,
         "type": "histogram",
         "x": [
          1.3876096229192192,
          0,
          0.1048107608187218,
          0,
          -0.5881879960096739,
          0,
          0.13483856590428367,
          0,
          -0.3066152860256359,
          -0.31417183203471855,
          2.2846756088189984e-16,
          -0.4088186657949509,
          2.827608227159543e-17,
          -1.055750192154008,
          0,
          0,
          -0.67291291468978,
          0,
          -0.03147754916065324,
          0.02722014539501858,
          0,
          0,
          0,
          0,
          0,
          -0.13958927364119092
         ],
         "xaxis": "x",
         "xbins": {
          "end": 1.3876096229192192,
          "size": 0.1,
          "start": -1.055750192154008
         },
         "yaxis": "y"
        },
        {
         "legendgroup": "Lasso",
         "marker": {
          "color": "rgb(31, 119, 180)"
         },
         "mode": "lines",
         "name": "Lasso",
         "showlegend": false,
         "type": "scatter",
         "x": [
          -1.055750192154008,
          -1.0508634725238615,
          -1.0459767528937152,
          -1.0410900332635686,
          -1.036203313633422,
          -1.0313165940032758,
          -1.0264298743731293,
          -1.0215431547429827,
          -1.0166564351128364,
          -1.01176971548269,
          -1.0068829958525434,
          -1.001996276222397,
          -0.9971095565922505,
          -0.9922228369621041,
          -0.9873361173319577,
          -0.9824493977018112,
          -0.9775626780716647,
          -0.9726759584415183,
          -0.9677892388113718,
          -0.9629025191812254,
          -0.958015799551079,
          -0.9531290799209324,
          -0.948242360290786,
          -0.9433556406606396,
          -0.9384689210304931,
          -0.9335822014003466,
          -0.9286954817702002,
          -0.9238087621400537,
          -0.9189220425099073,
          -0.9140353228797609,
          -0.9091486032496143,
          -0.9042618836194679,
          -0.8993751639893215,
          -0.894488444359175,
          -0.8896017247290285,
          -0.8847150050988821,
          -0.8798282854687356,
          -0.8749415658385892,
          -0.8700548462084428,
          -0.8651681265782962,
          -0.8602814069481498,
          -0.8553946873180034,
          -0.850507967687857,
          -0.8456212480577104,
          -0.840734528427564,
          -0.8358478087974176,
          -0.8309610891672711,
          -0.8260743695371247,
          -0.8211876499069782,
          -0.8163009302768317,
          -0.8114142106466853,
          -0.8065274910165388,
          -0.8016407713863924,
          -0.7967540517562459,
          -0.7918673321260995,
          -0.7869806124959531,
          -0.7820938928658066,
          -0.77720717323566,
          -0.7723204536055137,
          -0.7674337339753672,
          -0.7625470143452208,
          -0.7576602947150743,
          -0.7527735750849278,
          -0.7478868554547814,
          -0.743000135824635,
          -0.7381134161944884,
          -0.733226696564342,
          -0.7283399769341956,
          -0.7234532573040491,
          -0.7185665376739027,
          -0.7136798180437562,
          -0.7087930984136097,
          -0.7039063787834633,
          -0.6990196591533169,
          -0.6941329395231703,
          -0.6892462198930239,
          -0.6843595002628775,
          -0.679472780632731,
          -0.6745860610025846,
          -0.6696993413724381,
          -0.6648126217422916,
          -0.6599259021121452,
          -0.6550391824819988,
          -0.6501524628518522,
          -0.6452657432217059,
          -0.6403790235915594,
          -0.6354923039614129,
          -0.6306055843312665,
          -0.62571886470112,
          -0.6208321450709735,
          -0.6159454254408272,
          -0.6110587058106807,
          -0.6061719861805341,
          -0.6012852665503877,
          -0.5963985469202413,
          -0.5915118272900949,
          -0.5866251076599485,
          -0.5817383880298019,
          -0.5768516683996554,
          -0.5719649487695091,
          -0.5670782291393626,
          -0.5621915095092161,
          -0.5573047898790696,
          -0.5524180702489232,
          -0.5475313506187768,
          -0.5426446309886302,
          -0.5377579113584838,
          -0.5328711917283374,
          -0.527984472098191,
          -0.5230977524680445,
          -0.518211032837898,
          -0.5133243132077515,
          -0.5084375935776051,
          -0.5035508739474587,
          -0.49866415431731215,
          -0.49377743468716573,
          -0.4888907150570193,
          -0.4840039954268729,
          -0.47911727579672636,
          -0.47423055616657994,
          -0.4693438365364335,
          -0.4644571169062871,
          -0.4595703972761406,
          -0.45468367764599404,
          -0.4497969580158476,
          -0.4449102383857012,
          -0.4400235187555548,
          -0.43513679912540826,
          -0.43025007949526184,
          -0.4253633598651154,
          -0.420476640234969,
          -0.41558992060482247,
          -0.41070320097467605,
          -0.40581648134452963,
          -0.4009297617143831,
          -0.3960430420842366,
          -0.39115632245409016,
          -0.38626960282394374,
          -0.3813828831937973,
          -0.3764961635636508,
          -0.37160944393350437,
          -0.36672272430335795,
          -0.36183600467321153,
          -0.3569492850430651,
          -0.3520625654129186,
          -0.34717584578277216,
          -0.34228912615262563,
          -0.3374024065224792,
          -0.3325156868923327,
          -0.32762896726218627,
          -0.32274224763203985,
          -0.31785552800189343,
          -0.3129688083717469,
          -0.3080820887416005,
          -0.30319536911145406,
          -0.29830864948130764,
          -0.2934219298511611,
          -0.2885352102210147,
          -0.28364849059086816,
          -0.27876177096072174,
          -0.2738750513305753,
          -0.2689883317004288,
          -0.2641016120702824,
          -0.25921489244013596,
          -0.25432817280998954,
          -0.249441453179843,
          -0.2445547335496966,
          -0.23966801391955017,
          -0.23478129428940375,
          -0.2298945746592571,
          -0.2250078550291107,
          -0.22012113539896427,
          -0.21523441576881785,
          -0.21034769613867144,
          -0.2054609765085249,
          -0.2005742568783785,
          -0.19568753724823207,
          -0.19080081761808565,
          -0.18591409798793912,
          -0.1810273783577927,
          -0.17614065872764628,
          -0.17125393909749975,
          -0.16636721946735322,
          -0.1614804998372068,
          -0.15659378020706038,
          -0.15170706057691397,
          -0.14682034094676744,
          -0.14193362131662102,
          -0.1370469016864746,
          -0.13216018205632818,
          -0.12727346242618176,
          -0.12238674279603523,
          -0.11750002316588881,
          -0.11261330353574228,
          -0.10772658390559586,
          -0.10283986427544933,
          -0.09795314464530291,
          -0.0930664250151565,
          -0.08817970538501008,
          -0.08329298575486355,
          -0.07840626612471713,
          -0.07351954649457071,
          -0.06863282686442429,
          -0.06374610723427776,
          -0.05885938760413123,
          -0.05397266797398492,
          -0.04908594834383839,
          -0.04419922871369186,
          -0.039312509083545555,
          -0.034425789453399025,
          -0.029539069823252495,
          -0.024652350193106187,
          -0.019765630562959657,
          -0.01487891093281335,
          -0.00999219130266682,
          -0.00510547167252029,
          -0.00021875204237398194,
          0.004667967587772548,
          0.009554687217919078,
          0.014441406848065386,
          0.019328126478211916,
          0.024214846108358223,
          0.029101565738504975,
          0.033988285368651505,
          0.03887500499879781,
          0.04376172462894434,
          0.04864844425909065,
          0.05353516388923718,
          0.05842188351938371,
          0.06330860314953002,
          0.06819532277967655,
          0.07308204240982308,
          0.07796876203996939,
          0.08285548167011592,
          0.08774220130026222,
          0.09262892093040875,
          0.09751564056055528,
          0.10240236019070159,
          0.10728907982084812,
          0.11217579945099443,
          0.11706251908114096,
          0.12194923871128749,
          0.1268359583414338,
          0.13172267797158033,
          0.13660939760172686,
          0.1414961172318734,
          0.14638283686201992,
          0.15126955649216622,
          0.15615627612231275,
          0.16104299575245928,
          0.1659297153826056,
          0.17081643501275212,
          0.17570315464289843,
          0.18058987427304496,
          0.1854765939031915,
          0.1903633135333378,
          0.19525003316348433,
          0.20013675279363086,
          0.20502347242377716,
          0.2099101920539237,
          0.21479691168407,
          0.21968363131421653,
          0.22457035094436306,
          0.22945707057450937,
          0.2343437902046559,
          0.23923050983480243,
          0.24411722946494874,
          0.24900394909509527,
          0.2538906687252418,
          0.2587773883553883,
          0.26366410798553486,
          0.26855082761568116,
          0.2734375472458277,
          0.278324266875974,
          0.28321098650612053,
          0.28809770613626706,
          0.29298442576641337,
          0.2978711453965599,
          0.30275786502670643,
          0.30764458465685274,
          0.31253130428699927,
          0.3174180239171456,
          0.3223047435472921,
          0.32719146317743864,
          0.33207818280758494,
          0.3369649024377315,
          0.3418516220678778,
          0.3467383416980243,
          0.35162506132817084,
          0.35651178095831715,
          0.3613985005884637,
          0.36628522021861043,
          0.37117193984875674,
          0.37605865947890327,
          0.3809453791090496,
          0.3858320987391961,
          0.39071881836934264,
          0.39560553799948894,
          0.4004922576296355,
          0.4053789772597818,
          0.4102656968899283,
          0.41515241652007484,
          0.42003913615022115,
          0.4249258557803677,
          0.4298125754105142,
          0.4346992950406605,
          0.43958601467080705,
          0.44447273430095335,
          0.4493594539310999,
          0.4542461735612464,
          0.4591328931913927,
          0.46401961282153925,
          0.4689063324516858,
          0.4737930520818321,
          0.4786797717119786,
          0.48356649134212515,
          0.4884532109722717,
          0.4933399306024182,
          0.4982266502325645,
          0.503113369862711,
          0.5080000894928574,
          0.5128868091230039,
          0.5177735287531504,
          0.5226602483832967,
          0.5275469680134433,
          0.5324336876435898,
          0.5373204072737361,
          0.5422071269038826,
          0.5470938465340289,
          0.5519805661641755,
          0.556867285794322,
          0.5617540054244683,
          0.5666407250546148,
          0.5715274446847611,
          0.5764141643149077,
          0.5813008839450542,
          0.5861876035752005,
          0.591074323205347,
          0.5959610428354938,
          0.6008477624656401,
          0.6057344820957866,
          0.6106212017259329,
          0.6155079213560795,
          0.620394640986226,
          0.6252813606163723,
          0.6301680802465188,
          0.6350547998766651,
          0.6399415195068117,
          0.6448282391369582,
          0.6497149587671045,
          0.654601678397251,
          0.6594883980273976,
          0.6643751176575439,
          0.6692618372876904,
          0.6741485569178367,
          0.6790352765479832,
          0.6839219961781298,
          0.6888087158082761,
          0.6936954354384226,
          0.6985821550685691,
          0.7034688746987154,
          0.7083555943288622,
          0.7132423139590085,
          0.718129033589155,
          0.7230157532193016,
          0.7279024728494479,
          0.7327891924795944,
          0.7376759121097407,
          0.7425626317398872,
          0.7474493513700338,
          0.7523360710001801,
          0.7572227906303266,
          0.7621095102604731,
          0.7669962298906194,
          0.771882949520766,
          0.7767696691509123,
          0.7816563887810588,
          0.7865431084112053,
          0.7914298280413516,
          0.7963165476714982,
          0.8012032673016445,
          0.806089986931791,
          0.8109767065619375,
          0.8158634261920839,
          0.8207501458222304,
          0.8256368654523771,
          0.8305235850825234,
          0.83541030471267,
          0.8402970243428163,
          0.8451837439729628,
          0.8500704636031093,
          0.8549571832332556,
          0.8598439028634022,
          0.8647306224935485,
          0.869617342123695,
          0.8745040617538415,
          0.8793907813839879,
          0.8842775010141344,
          0.8891642206442809,
          0.8940509402744272,
          0.8989376599045737,
          0.9038243795347201,
          0.9087110991648666,
          0.9135978187950131,
          0.9184845384251594,
          0.923371258055306,
          0.9282579776854525,
          0.9331446973155988,
          0.9380314169457455,
          0.9429181365758919,
          0.9478048562060382,
          0.9526915758361847,
          0.9575782954663312,
          0.9624650150964777,
          0.9673517347266243,
          0.9722384543567708,
          0.9771251739869169,
          0.9820118936170634,
          0.98689861324721,
          0.9917853328773565,
          0.996672052507503,
          1.0015587721376495,
          1.0064454917677956,
          1.0113322113979426,
          1.0162189310280887,
          1.0211056506582352,
          1.0259923702883813,
          1.0308790899185283,
          1.0357658095486744,
          1.040652529178821,
          1.0455392488089674,
          1.050425968439114,
          1.05531268806926,
          1.060199407699407,
          1.065086127329553,
          1.0699728469596996,
          1.0748595665898462,
          1.0797462862199927,
          1.0846330058501388,
          1.0895197254802853,
          1.0944064451104318,
          1.0992931647405784,
          1.1041798843707245,
          1.1090666040008714,
          1.113953323631018,
          1.118840043261164,
          1.123726762891311,
          1.128613482521457,
          1.1335002021516036,
          1.1383869217817502,
          1.1432736414118967,
          1.1481603610420428,
          1.1530470806721893,
          1.1579338003023358,
          1.1628205199324824,
          1.1677072395626285,
          1.1725939591927754,
          1.1774806788229215,
          1.182367398453068,
          1.1872541180832146,
          1.192140837713361,
          1.1970275573435072,
          1.2019142769736542,
          1.2068009966038002,
          1.2116877162339468,
          1.2165744358640929,
          1.2214611554942398,
          1.2263478751243864,
          1.2312345947545325,
          1.2361213143846794,
          1.2410080340148255,
          1.245894753644972,
          1.2507814732751186,
          1.255668192905265,
          1.2605549125354112,
          1.2654416321655582,
          1.2703283517957042,
          1.2752150714258508,
          1.2801017910559969,
          1.2849885106861438,
          1.28987523031629,
          1.2947619499464365,
          1.299648669576583,
          1.3045353892067295,
          1.3094221088368756,
          1.3143088284670226,
          1.3191955480971687,
          1.3240822677273152,
          1.3289689873574617,
          1.3338557069876082,
          1.3387424266177548,
          1.3436291462479009,
          1.3485158658780478,
          1.353402585508194,
          1.3582893051383405,
          1.363176024768487,
          1.3680627443986335,
          1.3729494640287796,
          1.3778361836589266,
          1.3827229032890727
         ],
         "xaxis": "x",
         "y": [
          0.09392488606337462,
          0.09490704136415241,
          0.09588630090283373,
          0.096863439572205,
          0.09783927715405774,
          0.09881467630031522,
          0.09979054034965093,
          0.10076781098709196,
          0.10174746575490107,
          0.10273051542379713,
          0.10371800123431286,
          0.1047109920187911,
          0.105710581215178,
          0.10671788378438958,
          0.10773403304359787,
          0.10876017742829619,
          0.10979747719647058,
          0.1108471010886091,
          0.11191022295762844,
          0.11298801838308367,
          0.11408166128424864,
          0.11519232054681447,
          0.11632115667804284,
          0.11746931850524084,
          0.11863793993237533,
          0.11982813676954265,
          0.12104100364982975,
          0.12227761104785988,
          0.1235390024140095,
          0.124826191437912,
          0.126140159454427,
          0.1274818530047607,
          0.1288521815648729,
          0.13025201545269344,
          0.13168218392501577,
          0.1331434734742235,
          0.1346366263342544,
          0.13616233920440496,
          0.1377212621987511,
          0.13931399802808872,
          0.14094110142039853,
          0.14260307878492612,
          0.14430038812401358,
          0.14603343919587,
          0.14780259393049222,
          0.14960816709997157,
          0.1514504272434437,
          0.15332959784596026,
          0.15524585876959007,
          0.15719934793410037,
          0.1591901632436187,
          0.16121836475475748,
          0.16328397708077266,
          0.16538699202545903,
          0.16752737143962876,
          0.1697050502922152,
          0.1719199399472559,
          0.17417193163727368,
          0.17646090012286886,
          0.17878670752768044,
          0.18114920733724982,
          0.18354824854975674,
          0.18598367996606216,
          0.18845535460601293,
          0.19096313423752523,
          0.19350689400457197,
          0.1960865271398504,
          0.19870194974759964,
          0.20135310564178222,
          0.20403997122461093,
          0.2067625603902326,
          0.20952092943822231,
          0.21231518198144073,
          0.21514547383272314,
          0.2180120178548218,
          0.22091508875800275,
          0.223855027829704,
          0.22683224758068238,
          0.22984723629212728,
          0.2329005624482809,
          0.23599287903917684,
          0.23912492771819868,
          0.24229754279926125,
          0.2455116550785156,
          0.24876829546559184,
          0.2520685984095087,
          0.255413805104489,
          0.25880526646104796,
          0.26224444582782713,
          0.26573292144977695,
          0.26927238864839736,
          0.2728646617098843,
          0.2765116754671307,
          0.28021548656167505,
          0.28397827437181367,
          0.28780234159322415,
          0.29169011445861975,
          0.2956441425830839,
          0.29966709842194555,
          0.30376177632823415,
          0.3079310911969857,
          0.31217807668393066,
          0.31650588298637583,
          0.32091777417442685,
          0.3254171250610746,
          0.3300074176000871,
          0.33469223680113724,
          0.33947526615214063,
          0.3443602825393833,
          0.3493511506567161,
          0.35445181689584554,
          0.35966630271060884,
          0.3649986974490554,
          0.3704531506481937,
          0.3760338637873867,
          0.3817450814976246,
          0.3875910822252255,
          0.39357616834998177,
          0.3997046557593084,
          0.40598086288162955,
          0.4124090991840134,
          0.4189936531409586,
          0.42573877968322976,
          0.4326486871377481,
          0.4397275236717622,
          0.4469793632568097,
          0.4544081911704068,
          0.46201788905586894,
          0.4698122195632507,
          0.47779481059701373,
          0.48596913919873325,
          0.4943385150959004,
          0.502906063950649,
          0.5116747103450509,
          0.5206471605424225,
          0.5298258850668982,
          0.5392131011463123,
          0.5488107550661686,
          0.5586205044851701,
          0.56864370076539,
          0.5788813713726945,
          0.5893342024054228,
          0.6000025213116228,
          0.6108862798572495,
          0.6219850374097108,
          0.6332979446028876,
          0.6448237274513383,
          0.6565606719827048,
          0.6685066094584491,
          0.6806589022538402,
          0.6930144304686897,
          0.7055695793405503,
          0.7183202275320553,
          0.731261736363668,
          0.7443889400624214,
          0.7576961370961242,
          0.7711770826611276,
          0.7848249823899395,
          0.7986324873428462,
          0.8125916903451653,
          0.8266941237288953,
          0.840930758534239,
          0.8552920052228914,
          0.8697677159509755,
          0.8843471884451903,
          0.8990191715210587,
          0.9137718722771501,
          0.9285929649938461,
          0.9434696017595889,
          0.9583884248416592,
          0.9733355808123827,
          0.9882967364352734,
          1.0032570963090237,
          1.0182014222604872,
          1.0331140544708632,
          1.0479789343122634,
          1.0627796288646765,
          1.0774993570761962,
          1.0921210175221414,
          1.1066272177115162,
          1.1210003048821267,
          1.135222398218605,
          1.1492754224206865,
          1.1631411425423124,
          1.1768012000155907,
          1.1902371497673143,
          1.2034304983297075,
          1.2163627428413206,
          1.2290154108286313,
          1.241370100653867,
          1.2534085225099958,
          1.265112539839639,
          1.2764642110509912,
          1.28744583140061,
          1.2980399749102536,
          1.3082295361828113,
          1.3179977719807519,
          1.327328342429507,
          1.3362053517077535,
          1.344613388086732,
          1.3525375631814485,
          1.3599635502780034,
          1.3668776216032152,
          1.373266684405259,
          1.3791183157172118,
          1.3844207956790842,
          1.3891631392982486,
          1.3933351265329919,
          1.3969273305893246,
          1.3999311443270586,
          1.4023388046775433,
          1.4041434149822802,
          1.4053389651689157,
          1.4059203496887391,
          1.4058833831478401,
          1.4052248135724177,
          1.403942333257334,
          1.4020345871558781,
          1.3995011787777352,
          1.3963426735713909,
          1.392560599776512,
          1.3881574467412303,
          1.3831366607086497,
          1.3775026380863273,
          1.3712607162217418,
          1.364417161716004,
          1.356979156317093,
          1.3489547804427597,
          1.3403529943918344,
          1.3311836173110265,
          1.3214573039922552,
          1.3111855195832904,
          1.300380512301642,
          1.2890552842485525,
          1.2772235604262954,
          1.2648997560678914,
          1.2520989423937738,
          1.2388368109147954,
          1.225129636405302,
          1.210994238673807,
          1.196447943261952,
          1.1815085412051116,
          1.1661942479900065,
          1.1505236618461556,
          1.1345157215088413,
          1.11818966359155,
          1.1015649797055282,
          1.0846613734632211,
          1.0674987175009296,
          1.0500970106540393,
          1.032476335415659,
          1.0146568158065008,
          0.9966585757803504,
          0.9785016982854857,
          0.9602061850980518,
          0.9417919175385783,
          0.9232786181776537,
          0.9046858136312939,
          0.8860327985406524,
          0.867338600824676,
          0.8486219482879304,
          0.8299012366592461,
          0.8111944991301501,
          0.7925193774551113,
          0.7738930946686976,
          0.7553324294676803,
          0.7368536922990155,
          0.7184727031875756,
          0.7002047713304367,
          0.6820646764775222,
          0.664066652111528,
          0.6462243704332647,
          0.6285509291519172,
          0.6110588400733195,
          0.5937600194730305,
          0.5766657802350545,
          0.5597868257312193,
          0.543133245410758,
          0.5267145120644153,
          0.5105394807224701,
          0.49461638914147193,
          0.47895285983022023,
          0.4635559035615366,
          0.44843192431282775,
          0.4335867255751379,
          0.4190255179675072,
          0.4047529280909188,
          0.39077300855387853,
          0.377089249099872,
          0.36370458876541006,
          0.3506214289962334,
          0.33784164764842733,
          0.3253666138006915,
          0.3131972033038298,
          0.3013338149936764,
          0.28977638749405915,
          0.2785244165371354,
          0.26757697272938286,
          0.2569327196927563,
          0.2465899325119876,
          0.2365465164206578,
          0.22680002566058352,
          0.21734768245109987,
          0.2081863960070749,
          0.19931278154688378,
          0.1907231792340787,
          0.18241367299915137,
          0.17438010919052663,
          0.16661811500674115,
          0.1591231166646754,
          0.1518903572616411,
          0.1449149142921126,
          0.13819171678290304,
          0.1317155620135826,
          0.12548113179194698,
          0.11948300825733053,
          0.11371568918749346,
          0.10817360278772888,
          0.10285112194367883,
          0.0977425779221277,
          0.09284227350675521,
          0.08814449555844636,
          0.08364352699229848,
          0.07933365816588939,
          0.07520919767570888,
          0.07126448256087951,
          0.06749388791539393,
          0.06389183591209528,
          0.06045280424350212,
          0.057171333986322084,
          0.05404203689814129,
          0.051059602156269326,
          0.04821880255011311,
          0.04551450013970887,
          0.042941651394179096,
          0.04049531182490427,
          0.03817064012909778,
          0.035962901860259945,
          0.03386747264266374,
          0.031879840947587265,
          0.029995610449471626,
          0.02821050198054638,
          0.026520355102721365,
          0.024921129315725134,
          0.023408904920546578,
          0.021979883557244596,
          0.020630388436112142,
          0.019356864281032733,
          0.018155877003653408,
          0.01702411312671651,
          0.015958378974558932,
          0.014955599648396998,
          0.014012817803577477,
          0.01312719224549652,
          0.012295996360369557,
          0.011516616396482,
          0.010786549610971198,
          0.010103402296582423,
          0.009464887702215255,
          0.0088688238604335,
          0.008313131334454467,
          0.007795830896467841,
          0.00731504114846348,
          0.006868976096071305,
          0.006455942685245305,
          0.006074338310950806,
          0.005722648306351514,
          0.005399443420336405,
          0.005103377290581527,
          0.004833183918710307,
          0.004587675153498433,
          0.004365738187469372,
          0.00416633307164444,
          0.00398849025264883,
          0.0038313081358338588,
          0.003693950677556303,
          0.0035756450092592914,
          0.003475679095527415,
          0.003393399427840459,
          0.003328208755328157,
          0.003279563853431467,
          0.0032469733310049784,
          0.0032299954760508665,
          0.0032282361399567213,
          0.0032413466598180834,
          0.0032690218181616834,
          0.0033109978391468297,
          0.003367050420110026,
          0.0034369927971317628,
          0.0035206738431437313,
          0.003617976196959487,
          0.003728814421501283,
          0.0038531331894098605,
          0.003990905494161768,
          0.004142130884780356,
          0.004306833722210309,
          0.004485061455431379,
          0.00467688291541474,
          0.004882386625072255,
          0.005101679123417157,
          0.005334883302240652,
          0.005582136753712627,
          0.005843590127437199,
          0.006119405495629819,
          0.006409754725235973,
          0.006714817855977922,
          0.007034781483494713,
          0.007369837146932806,
          0.007720179720545983,
          0.008086005809074795,
          0.00846751214689582,
          0.008864894001157241,
          0.009278343579349875,
          0.009708048442000313,
          0.010154189921411818,
          0.01061694154762128,
          0.011096467482981832,
          0.011592920967023126,
          0.012106442773477817,
          0.012637159681600072,
          0.013185182964129549,
          0.013750606894477473,
          0.01433350727592724,
          0.01493393999584571,
          0.015551939608095738,
          0.016187517947024378,
          0.016840662776566824,
          0.01751133647816128,
          0.018199474781307304,
          0.01890498554072014,
          0.019627747564133113,
          0.02036760949488614,
          0.021124388753494754,
          0.021897870542438806,
          0.02268780691842226,
          0.0234939159363562,
          0.024315880869279924,
          0.025153349508389898,
          0.026005933547259927,
          0.026873208054239487,
          0.02775471103688193,
          0.02864994310210666,
          0.029558367215615534,
          0.0304794085638823,
          0.03141245452180281,
          0.032356854728844704,
          0.033311921276255665,
          0.03427692900758848,
          0.0352511159344891,
          0.036233683769338484,
          0.037223798575991944,
          0.0382205915394695,
          0.039223159855060835,
          0.04023056773689327,
          0.04124184754559035,
          0.04225600103420686,
          0.043272000711186254,
          0.04428879131862532,
          0.04530529142368011,
          0.04632039512047504,
          0.04733297383942114,
          0.048341878260382894,
          0.049345940325674346,
          0.05034397534841122,
          0.05133478421130688,
          0.052317155650555364,
          0.053289868619035695,
          0.054251694722657236,
          0.05520140072328555,
          0.05613775110131579,
          0.05705951067061871,
          0.057965447238265994,
          0.05885433430114164,
          0.05972495377128977,
          0.0605760987216067,
          0.0614065761432872,
          0.062215209706261196,
          0.06300084251372917,
          0.06376233984179622,
          0.06449859185515297,
          0.06520851628971991,
          0.06589106109319276,
          0.06654520701447275,
          0.06716997013306653,
          0.0677644043196637,
          0.06832760361927964,
          0.0688587045485485,
          0.06935688829901326,
          0.06982138283852735,
          0.07025146490321764,
          0.0706464618728006,
          0.07100575352244104,
          0.0713287736447553,
          0.07161501153601711,
          0.07186401334109517,
          0.07207538325215988,
          0.07224878455672187,
          0.07238394053111044,
          0.07248063517607078,
          0.07253871379173611
         ],
         "yaxis": "y"
        },
        {
         "legendgroup": "Lasso",
         "marker": {
          "color": "rgb(31, 119, 180)",
          "symbol": "line-ns-open"
         },
         "mode": "markers",
         "name": "Lasso",
         "showlegend": false,
         "type": "scatter",
         "x": [
          1.3876096229192192,
          0,
          0.1048107608187218,
          0,
          -0.5881879960096739,
          0,
          0.13483856590428367,
          0,
          -0.3066152860256359,
          -0.31417183203471855,
          2.2846756088189984e-16,
          -0.4088186657949509,
          2.827608227159543e-17,
          -1.055750192154008,
          0,
          0,
          -0.67291291468978,
          0,
          -0.03147754916065324,
          0.02722014539501858,
          0,
          0,
          0,
          0,
          0,
          -0.13958927364119092
         ],
         "xaxis": "x",
         "y": [
          "Lasso",
          "Lasso",
          "Lasso",
          "Lasso",
          "Lasso",
          "Lasso",
          "Lasso",
          "Lasso",
          "Lasso",
          "Lasso",
          "Lasso",
          "Lasso",
          "Lasso",
          "Lasso",
          "Lasso",
          "Lasso",
          "Lasso",
          "Lasso",
          "Lasso",
          "Lasso",
          "Lasso",
          "Lasso",
          "Lasso",
          "Lasso",
          "Lasso",
          "Lasso"
         ],
         "yaxis": "y2"
        }
       ],
       "layout": {
        "barmode": "overlay",
        "hovermode": "closest",
        "legend": {
         "traceorder": "reversed"
        },
        "template": {
         "data": {
          "bar": [
           {
            "error_x": {
             "color": "#2a3f5f"
            },
            "error_y": {
             "color": "#2a3f5f"
            },
            "marker": {
             "line": {
              "color": "#E5ECF6",
              "width": 0.5
             }
            },
            "type": "bar"
           }
          ],
          "barpolar": [
           {
            "marker": {
             "line": {
              "color": "#E5ECF6",
              "width": 0.5
             }
            },
            "type": "barpolar"
           }
          ],
          "carpet": [
           {
            "aaxis": {
             "endlinecolor": "#2a3f5f",
             "gridcolor": "white",
             "linecolor": "white",
             "minorgridcolor": "white",
             "startlinecolor": "#2a3f5f"
            },
            "baxis": {
             "endlinecolor": "#2a3f5f",
             "gridcolor": "white",
             "linecolor": "white",
             "minorgridcolor": "white",
             "startlinecolor": "#2a3f5f"
            },
            "type": "carpet"
           }
          ],
          "choropleth": [
           {
            "colorbar": {
             "outlinewidth": 0,
             "ticks": ""
            },
            "type": "choropleth"
           }
          ],
          "contour": [
           {
            "colorbar": {
             "outlinewidth": 0,
             "ticks": ""
            },
            "colorscale": [
             [
              0,
              "#0d0887"
             ],
             [
              0.1111111111111111,
              "#46039f"
             ],
             [
              0.2222222222222222,
              "#7201a8"
             ],
             [
              0.3333333333333333,
              "#9c179e"
             ],
             [
              0.4444444444444444,
              "#bd3786"
             ],
             [
              0.5555555555555556,
              "#d8576b"
             ],
             [
              0.6666666666666666,
              "#ed7953"
             ],
             [
              0.7777777777777778,
              "#fb9f3a"
             ],
             [
              0.8888888888888888,
              "#fdca26"
             ],
             [
              1,
              "#f0f921"
             ]
            ],
            "type": "contour"
           }
          ],
          "contourcarpet": [
           {
            "colorbar": {
             "outlinewidth": 0,
             "ticks": ""
            },
            "type": "contourcarpet"
           }
          ],
          "heatmap": [
           {
            "colorbar": {
             "outlinewidth": 0,
             "ticks": ""
            },
            "colorscale": [
             [
              0,
              "#0d0887"
             ],
             [
              0.1111111111111111,
              "#46039f"
             ],
             [
              0.2222222222222222,
              "#7201a8"
             ],
             [
              0.3333333333333333,
              "#9c179e"
             ],
             [
              0.4444444444444444,
              "#bd3786"
             ],
             [
              0.5555555555555556,
              "#d8576b"
             ],
             [
              0.6666666666666666,
              "#ed7953"
             ],
             [
              0.7777777777777778,
              "#fb9f3a"
             ],
             [
              0.8888888888888888,
              "#fdca26"
             ],
             [
              1,
              "#f0f921"
             ]
            ],
            "type": "heatmap"
           }
          ],
          "heatmapgl": [
           {
            "colorbar": {
             "outlinewidth": 0,
             "ticks": ""
            },
            "colorscale": [
             [
              0,
              "#0d0887"
             ],
             [
              0.1111111111111111,
              "#46039f"
             ],
             [
              0.2222222222222222,
              "#7201a8"
             ],
             [
              0.3333333333333333,
              "#9c179e"
             ],
             [
              0.4444444444444444,
              "#bd3786"
             ],
             [
              0.5555555555555556,
              "#d8576b"
             ],
             [
              0.6666666666666666,
              "#ed7953"
             ],
             [
              0.7777777777777778,
              "#fb9f3a"
             ],
             [
              0.8888888888888888,
              "#fdca26"
             ],
             [
              1,
              "#f0f921"
             ]
            ],
            "type": "heatmapgl"
           }
          ],
          "histogram": [
           {
            "marker": {
             "colorbar": {
              "outlinewidth": 0,
              "ticks": ""
             }
            },
            "type": "histogram"
           }
          ],
          "histogram2d": [
           {
            "colorbar": {
             "outlinewidth": 0,
             "ticks": ""
            },
            "colorscale": [
             [
              0,
              "#0d0887"
             ],
             [
              0.1111111111111111,
              "#46039f"
             ],
             [
              0.2222222222222222,
              "#7201a8"
             ],
             [
              0.3333333333333333,
              "#9c179e"
             ],
             [
              0.4444444444444444,
              "#bd3786"
             ],
             [
              0.5555555555555556,
              "#d8576b"
             ],
             [
              0.6666666666666666,
              "#ed7953"
             ],
             [
              0.7777777777777778,
              "#fb9f3a"
             ],
             [
              0.8888888888888888,
              "#fdca26"
             ],
             [
              1,
              "#f0f921"
             ]
            ],
            "type": "histogram2d"
           }
          ],
          "histogram2dcontour": [
           {
            "colorbar": {
             "outlinewidth": 0,
             "ticks": ""
            },
            "colorscale": [
             [
              0,
              "#0d0887"
             ],
             [
              0.1111111111111111,
              "#46039f"
             ],
             [
              0.2222222222222222,
              "#7201a8"
             ],
             [
              0.3333333333333333,
              "#9c179e"
             ],
             [
              0.4444444444444444,
              "#bd3786"
             ],
             [
              0.5555555555555556,
              "#d8576b"
             ],
             [
              0.6666666666666666,
              "#ed7953"
             ],
             [
              0.7777777777777778,
              "#fb9f3a"
             ],
             [
              0.8888888888888888,
              "#fdca26"
             ],
             [
              1,
              "#f0f921"
             ]
            ],
            "type": "histogram2dcontour"
           }
          ],
          "mesh3d": [
           {
            "colorbar": {
             "outlinewidth": 0,
             "ticks": ""
            },
            "type": "mesh3d"
           }
          ],
          "parcoords": [
           {
            "line": {
             "colorbar": {
              "outlinewidth": 0,
              "ticks": ""
             }
            },
            "type": "parcoords"
           }
          ],
          "pie": [
           {
            "automargin": true,
            "type": "pie"
           }
          ],
          "scatter": [
           {
            "marker": {
             "colorbar": {
              "outlinewidth": 0,
              "ticks": ""
             }
            },
            "type": "scatter"
           }
          ],
          "scatter3d": [
           {
            "line": {
             "colorbar": {
              "outlinewidth": 0,
              "ticks": ""
             }
            },
            "marker": {
             "colorbar": {
              "outlinewidth": 0,
              "ticks": ""
             }
            },
            "type": "scatter3d"
           }
          ],
          "scattercarpet": [
           {
            "marker": {
             "colorbar": {
              "outlinewidth": 0,
              "ticks": ""
             }
            },
            "type": "scattercarpet"
           }
          ],
          "scattergeo": [
           {
            "marker": {
             "colorbar": {
              "outlinewidth": 0,
              "ticks": ""
             }
            },
            "type": "scattergeo"
           }
          ],
          "scattergl": [
           {
            "marker": {
             "colorbar": {
              "outlinewidth": 0,
              "ticks": ""
             }
            },
            "type": "scattergl"
           }
          ],
          "scattermapbox": [
           {
            "marker": {
             "colorbar": {
              "outlinewidth": 0,
              "ticks": ""
             }
            },
            "type": "scattermapbox"
           }
          ],
          "scatterpolar": [
           {
            "marker": {
             "colorbar": {
              "outlinewidth": 0,
              "ticks": ""
             }
            },
            "type": "scatterpolar"
           }
          ],
          "scatterpolargl": [
           {
            "marker": {
             "colorbar": {
              "outlinewidth": 0,
              "ticks": ""
             }
            },
            "type": "scatterpolargl"
           }
          ],
          "scatterternary": [
           {
            "marker": {
             "colorbar": {
              "outlinewidth": 0,
              "ticks": ""
             }
            },
            "type": "scatterternary"
           }
          ],
          "surface": [
           {
            "colorbar": {
             "outlinewidth": 0,
             "ticks": ""
            },
            "colorscale": [
             [
              0,
              "#0d0887"
             ],
             [
              0.1111111111111111,
              "#46039f"
             ],
             [
              0.2222222222222222,
              "#7201a8"
             ],
             [
              0.3333333333333333,
              "#9c179e"
             ],
             [
              0.4444444444444444,
              "#bd3786"
             ],
             [
              0.5555555555555556,
              "#d8576b"
             ],
             [
              0.6666666666666666,
              "#ed7953"
             ],
             [
              0.7777777777777778,
              "#fb9f3a"
             ],
             [
              0.8888888888888888,
              "#fdca26"
             ],
             [
              1,
              "#f0f921"
             ]
            ],
            "type": "surface"
           }
          ],
          "table": [
           {
            "cells": {
             "fill": {
              "color": "#EBF0F8"
             },
             "line": {
              "color": "white"
             }
            },
            "header": {
             "fill": {
              "color": "#C8D4E3"
             },
             "line": {
              "color": "white"
             }
            },
            "type": "table"
           }
          ]
         },
         "layout": {
          "annotationdefaults": {
           "arrowcolor": "#2a3f5f",
           "arrowhead": 0,
           "arrowwidth": 1
          },
          "coloraxis": {
           "colorbar": {
            "outlinewidth": 0,
            "ticks": ""
           }
          },
          "colorscale": {
           "diverging": [
            [
             0,
             "#8e0152"
            ],
            [
             0.1,
             "#c51b7d"
            ],
            [
             0.2,
             "#de77ae"
            ],
            [
             0.3,
             "#f1b6da"
            ],
            [
             0.4,
             "#fde0ef"
            ],
            [
             0.5,
             "#f7f7f7"
            ],
            [
             0.6,
             "#e6f5d0"
            ],
            [
             0.7,
             "#b8e186"
            ],
            [
             0.8,
             "#7fbc41"
            ],
            [
             0.9,
             "#4d9221"
            ],
            [
             1,
             "#276419"
            ]
           ],
           "sequential": [
            [
             0,
             "#0d0887"
            ],
            [
             0.1111111111111111,
             "#46039f"
            ],
            [
             0.2222222222222222,
             "#7201a8"
            ],
            [
             0.3333333333333333,
             "#9c179e"
            ],
            [
             0.4444444444444444,
             "#bd3786"
            ],
            [
             0.5555555555555556,
             "#d8576b"
            ],
            [
             0.6666666666666666,
             "#ed7953"
            ],
            [
             0.7777777777777778,
             "#fb9f3a"
            ],
            [
             0.8888888888888888,
             "#fdca26"
            ],
            [
             1,
             "#f0f921"
            ]
           ],
           "sequentialminus": [
            [
             0,
             "#0d0887"
            ],
            [
             0.1111111111111111,
             "#46039f"
            ],
            [
             0.2222222222222222,
             "#7201a8"
            ],
            [
             0.3333333333333333,
             "#9c179e"
            ],
            [
             0.4444444444444444,
             "#bd3786"
            ],
            [
             0.5555555555555556,
             "#d8576b"
            ],
            [
             0.6666666666666666,
             "#ed7953"
            ],
            [
             0.7777777777777778,
             "#fb9f3a"
            ],
            [
             0.8888888888888888,
             "#fdca26"
            ],
            [
             1,
             "#f0f921"
            ]
           ]
          },
          "colorway": [
           "#636efa",
           "#EF553B",
           "#00cc96",
           "#ab63fa",
           "#FFA15A",
           "#19d3f3",
           "#FF6692",
           "#B6E880",
           "#FF97FF",
           "#FECB52"
          ],
          "font": {
           "color": "#2a3f5f"
          },
          "geo": {
           "bgcolor": "white",
           "lakecolor": "white",
           "landcolor": "#E5ECF6",
           "showlakes": true,
           "showland": true,
           "subunitcolor": "white"
          },
          "hoverlabel": {
           "align": "left"
          },
          "hovermode": "closest",
          "mapbox": {
           "style": "light"
          },
          "paper_bgcolor": "white",
          "plot_bgcolor": "#E5ECF6",
          "polar": {
           "angularaxis": {
            "gridcolor": "white",
            "linecolor": "white",
            "ticks": ""
           },
           "bgcolor": "#E5ECF6",
           "radialaxis": {
            "gridcolor": "white",
            "linecolor": "white",
            "ticks": ""
           }
          },
          "scene": {
           "xaxis": {
            "backgroundcolor": "#E5ECF6",
            "gridcolor": "white",
            "gridwidth": 2,
            "linecolor": "white",
            "showbackground": true,
            "ticks": "",
            "zerolinecolor": "white"
           },
           "yaxis": {
            "backgroundcolor": "#E5ECF6",
            "gridcolor": "white",
            "gridwidth": 2,
            "linecolor": "white",
            "showbackground": true,
            "ticks": "",
            "zerolinecolor": "white"
           },
           "zaxis": {
            "backgroundcolor": "#E5ECF6",
            "gridcolor": "white",
            "gridwidth": 2,
            "linecolor": "white",
            "showbackground": true,
            "ticks": "",
            "zerolinecolor": "white"
           }
          },
          "shapedefaults": {
           "line": {
            "color": "#2a3f5f"
           }
          },
          "ternary": {
           "aaxis": {
            "gridcolor": "white",
            "linecolor": "white",
            "ticks": ""
           },
           "baxis": {
            "gridcolor": "white",
            "linecolor": "white",
            "ticks": ""
           },
           "bgcolor": "#E5ECF6",
           "caxis": {
            "gridcolor": "white",
            "linecolor": "white",
            "ticks": ""
           }
          },
          "title": {
           "x": 0.05
          },
          "xaxis": {
           "automargin": true,
           "gridcolor": "white",
           "linecolor": "white",
           "ticks": "",
           "title": {
            "standoff": 15
           },
           "zerolinecolor": "white",
           "zerolinewidth": 2
          },
          "yaxis": {
           "automargin": true,
           "gridcolor": "white",
           "linecolor": "white",
           "ticks": "",
           "title": {
            "standoff": 15
           },
           "zerolinecolor": "white",
           "zerolinewidth": 2
          }
         }
        },
        "xaxis": {
         "anchor": "y2",
         "domain": [
          0,
          1
         ],
         "zeroline": false
        },
        "yaxis": {
         "anchor": "free",
         "domain": [
          0.35,
          1
         ],
         "position": 0
        },
        "yaxis2": {
         "anchor": "x",
         "domain": [
          0,
          0.25
         ],
         "dtick": 1,
         "showticklabels": false
        }
       }
      },
      "text/html": [
       "<div>\n",
       "        \n",
       "        \n",
       "            <div id=\"89d8e8dd-9b03-48b3-8ca2-0e99ce22bc35\" class=\"plotly-graph-div\" style=\"height:525px; width:100%;\"></div>\n",
       "            <script type=\"text/javascript\">\n",
       "                require([\"plotly\"], function(Plotly) {\n",
       "                    window.PLOTLYENV=window.PLOTLYENV || {};\n",
       "                    \n",
       "                if (document.getElementById(\"89d8e8dd-9b03-48b3-8ca2-0e99ce22bc35\")) {\n",
       "                    Plotly.newPlot(\n",
       "                        '89d8e8dd-9b03-48b3-8ca2-0e99ce22bc35',\n",
       "                        [{\"autobinx\": false, \"histnorm\": \"probability density\", \"legendgroup\": \"Lasso\", \"marker\": {\"color\": \"rgb(31, 119, 180)\"}, \"name\": \"Lasso\", \"opacity\": 0.7, \"type\": \"histogram\", \"x\": [1.3876096229192192, -0.0, 0.1048107608187218, 0.0, -0.5881879960096739, 0.0, 0.13483856590428367, -0.0, -0.3066152860256359, -0.31417183203471855, 2.2846756088189984e-16, -0.4088186657949509, 2.827608227159543e-17, -1.055750192154008, 0.0, 0.0, -0.67291291468978, 0.0, -0.03147754916065324, 0.02722014539501858, 0.0, -0.0, 0.0, -0.0, 0.0, -0.13958927364119092], \"xaxis\": \"x\", \"xbins\": {\"end\": 1.3876096229192192, \"size\": 0.1, \"start\": -1.055750192154008}, \"yaxis\": \"y\"}, {\"legendgroup\": \"Lasso\", \"marker\": {\"color\": \"rgb(31, 119, 180)\"}, \"mode\": \"lines\", \"name\": \"Lasso\", \"showlegend\": false, \"type\": \"scatter\", \"x\": [-1.055750192154008, -1.0508634725238615, -1.0459767528937152, -1.0410900332635686, -1.036203313633422, -1.0313165940032758, -1.0264298743731293, -1.0215431547429827, -1.0166564351128364, -1.01176971548269, -1.0068829958525434, -1.001996276222397, -0.9971095565922505, -0.9922228369621041, -0.9873361173319577, -0.9824493977018112, -0.9775626780716647, -0.9726759584415183, -0.9677892388113718, -0.9629025191812254, -0.958015799551079, -0.9531290799209324, -0.948242360290786, -0.9433556406606396, -0.9384689210304931, -0.9335822014003466, -0.9286954817702002, -0.9238087621400537, -0.9189220425099073, -0.9140353228797609, -0.9091486032496143, -0.9042618836194679, -0.8993751639893215, -0.894488444359175, -0.8896017247290285, -0.8847150050988821, -0.8798282854687356, -0.8749415658385892, -0.8700548462084428, -0.8651681265782962, -0.8602814069481498, -0.8553946873180034, -0.850507967687857, -0.8456212480577104, -0.840734528427564, -0.8358478087974176, -0.8309610891672711, -0.8260743695371247, -0.8211876499069782, -0.8163009302768317, -0.8114142106466853, -0.8065274910165388, -0.8016407713863924, -0.7967540517562459, -0.7918673321260995, -0.7869806124959531, -0.7820938928658066, -0.77720717323566, -0.7723204536055137, -0.7674337339753672, -0.7625470143452208, -0.7576602947150743, -0.7527735750849278, -0.7478868554547814, -0.743000135824635, -0.7381134161944884, -0.733226696564342, -0.7283399769341956, -0.7234532573040491, -0.7185665376739027, -0.7136798180437562, -0.7087930984136097, -0.7039063787834633, -0.6990196591533169, -0.6941329395231703, -0.6892462198930239, -0.6843595002628775, -0.679472780632731, -0.6745860610025846, -0.6696993413724381, -0.6648126217422916, -0.6599259021121452, -0.6550391824819988, -0.6501524628518522, -0.6452657432217059, -0.6403790235915594, -0.6354923039614129, -0.6306055843312665, -0.62571886470112, -0.6208321450709735, -0.6159454254408272, -0.6110587058106807, -0.6061719861805341, -0.6012852665503877, -0.5963985469202413, -0.5915118272900949, -0.5866251076599485, -0.5817383880298019, -0.5768516683996554, -0.5719649487695091, -0.5670782291393626, -0.5621915095092161, -0.5573047898790696, -0.5524180702489232, -0.5475313506187768, -0.5426446309886302, -0.5377579113584838, -0.5328711917283374, -0.527984472098191, -0.5230977524680445, -0.518211032837898, -0.5133243132077515, -0.5084375935776051, -0.5035508739474587, -0.49866415431731215, -0.49377743468716573, -0.4888907150570193, -0.4840039954268729, -0.47911727579672636, -0.47423055616657994, -0.4693438365364335, -0.4644571169062871, -0.4595703972761406, -0.45468367764599404, -0.4497969580158476, -0.4449102383857012, -0.4400235187555548, -0.43513679912540826, -0.43025007949526184, -0.4253633598651154, -0.420476640234969, -0.41558992060482247, -0.41070320097467605, -0.40581648134452963, -0.4009297617143831, -0.3960430420842366, -0.39115632245409016, -0.38626960282394374, -0.3813828831937973, -0.3764961635636508, -0.37160944393350437, -0.36672272430335795, -0.36183600467321153, -0.3569492850430651, -0.3520625654129186, -0.34717584578277216, -0.34228912615262563, -0.3374024065224792, -0.3325156868923327, -0.32762896726218627, -0.32274224763203985, -0.31785552800189343, -0.3129688083717469, -0.3080820887416005, -0.30319536911145406, -0.29830864948130764, -0.2934219298511611, -0.2885352102210147, -0.28364849059086816, -0.27876177096072174, -0.2738750513305753, -0.2689883317004288, -0.2641016120702824, -0.25921489244013596, -0.25432817280998954, -0.249441453179843, -0.2445547335496966, -0.23966801391955017, -0.23478129428940375, -0.2298945746592571, -0.2250078550291107, -0.22012113539896427, -0.21523441576881785, -0.21034769613867144, -0.2054609765085249, -0.2005742568783785, -0.19568753724823207, -0.19080081761808565, -0.18591409798793912, -0.1810273783577927, -0.17614065872764628, -0.17125393909749975, -0.16636721946735322, -0.1614804998372068, -0.15659378020706038, -0.15170706057691397, -0.14682034094676744, -0.14193362131662102, -0.1370469016864746, -0.13216018205632818, -0.12727346242618176, -0.12238674279603523, -0.11750002316588881, -0.11261330353574228, -0.10772658390559586, -0.10283986427544933, -0.09795314464530291, -0.0930664250151565, -0.08817970538501008, -0.08329298575486355, -0.07840626612471713, -0.07351954649457071, -0.06863282686442429, -0.06374610723427776, -0.05885938760413123, -0.05397266797398492, -0.04908594834383839, -0.04419922871369186, -0.039312509083545555, -0.034425789453399025, -0.029539069823252495, -0.024652350193106187, -0.019765630562959657, -0.01487891093281335, -0.00999219130266682, -0.00510547167252029, -0.00021875204237398194, 0.004667967587772548, 0.009554687217919078, 0.014441406848065386, 0.019328126478211916, 0.024214846108358223, 0.029101565738504975, 0.033988285368651505, 0.03887500499879781, 0.04376172462894434, 0.04864844425909065, 0.05353516388923718, 0.05842188351938371, 0.06330860314953002, 0.06819532277967655, 0.07308204240982308, 0.07796876203996939, 0.08285548167011592, 0.08774220130026222, 0.09262892093040875, 0.09751564056055528, 0.10240236019070159, 0.10728907982084812, 0.11217579945099443, 0.11706251908114096, 0.12194923871128749, 0.1268359583414338, 0.13172267797158033, 0.13660939760172686, 0.1414961172318734, 0.14638283686201992, 0.15126955649216622, 0.15615627612231275, 0.16104299575245928, 0.1659297153826056, 0.17081643501275212, 0.17570315464289843, 0.18058987427304496, 0.1854765939031915, 0.1903633135333378, 0.19525003316348433, 0.20013675279363086, 0.20502347242377716, 0.2099101920539237, 0.21479691168407, 0.21968363131421653, 0.22457035094436306, 0.22945707057450937, 0.2343437902046559, 0.23923050983480243, 0.24411722946494874, 0.24900394909509527, 0.2538906687252418, 0.2587773883553883, 0.26366410798553486, 0.26855082761568116, 0.2734375472458277, 0.278324266875974, 0.28321098650612053, 0.28809770613626706, 0.29298442576641337, 0.2978711453965599, 0.30275786502670643, 0.30764458465685274, 0.31253130428699927, 0.3174180239171456, 0.3223047435472921, 0.32719146317743864, 0.33207818280758494, 0.3369649024377315, 0.3418516220678778, 0.3467383416980243, 0.35162506132817084, 0.35651178095831715, 0.3613985005884637, 0.36628522021861043, 0.37117193984875674, 0.37605865947890327, 0.3809453791090496, 0.3858320987391961, 0.39071881836934264, 0.39560553799948894, 0.4004922576296355, 0.4053789772597818, 0.4102656968899283, 0.41515241652007484, 0.42003913615022115, 0.4249258557803677, 0.4298125754105142, 0.4346992950406605, 0.43958601467080705, 0.44447273430095335, 0.4493594539310999, 0.4542461735612464, 0.4591328931913927, 0.46401961282153925, 0.4689063324516858, 0.4737930520818321, 0.4786797717119786, 0.48356649134212515, 0.4884532109722717, 0.4933399306024182, 0.4982266502325645, 0.503113369862711, 0.5080000894928574, 0.5128868091230039, 0.5177735287531504, 0.5226602483832967, 0.5275469680134433, 0.5324336876435898, 0.5373204072737361, 0.5422071269038826, 0.5470938465340289, 0.5519805661641755, 0.556867285794322, 0.5617540054244683, 0.5666407250546148, 0.5715274446847611, 0.5764141643149077, 0.5813008839450542, 0.5861876035752005, 0.591074323205347, 0.5959610428354938, 0.6008477624656401, 0.6057344820957866, 0.6106212017259329, 0.6155079213560795, 0.620394640986226, 0.6252813606163723, 0.6301680802465188, 0.6350547998766651, 0.6399415195068117, 0.6448282391369582, 0.6497149587671045, 0.654601678397251, 0.6594883980273976, 0.6643751176575439, 0.6692618372876904, 0.6741485569178367, 0.6790352765479832, 0.6839219961781298, 0.6888087158082761, 0.6936954354384226, 0.6985821550685691, 0.7034688746987154, 0.7083555943288622, 0.7132423139590085, 0.718129033589155, 0.7230157532193016, 0.7279024728494479, 0.7327891924795944, 0.7376759121097407, 0.7425626317398872, 0.7474493513700338, 0.7523360710001801, 0.7572227906303266, 0.7621095102604731, 0.7669962298906194, 0.771882949520766, 0.7767696691509123, 0.7816563887810588, 0.7865431084112053, 0.7914298280413516, 0.7963165476714982, 0.8012032673016445, 0.806089986931791, 0.8109767065619375, 0.8158634261920839, 0.8207501458222304, 0.8256368654523771, 0.8305235850825234, 0.83541030471267, 0.8402970243428163, 0.8451837439729628, 0.8500704636031093, 0.8549571832332556, 0.8598439028634022, 0.8647306224935485, 0.869617342123695, 0.8745040617538415, 0.8793907813839879, 0.8842775010141344, 0.8891642206442809, 0.8940509402744272, 0.8989376599045737, 0.9038243795347201, 0.9087110991648666, 0.9135978187950131, 0.9184845384251594, 0.923371258055306, 0.9282579776854525, 0.9331446973155988, 0.9380314169457455, 0.9429181365758919, 0.9478048562060382, 0.9526915758361847, 0.9575782954663312, 0.9624650150964777, 0.9673517347266243, 0.9722384543567708, 0.9771251739869169, 0.9820118936170634, 0.98689861324721, 0.9917853328773565, 0.996672052507503, 1.0015587721376495, 1.0064454917677956, 1.0113322113979426, 1.0162189310280887, 1.0211056506582352, 1.0259923702883813, 1.0308790899185283, 1.0357658095486744, 1.040652529178821, 1.0455392488089674, 1.050425968439114, 1.05531268806926, 1.060199407699407, 1.065086127329553, 1.0699728469596996, 1.0748595665898462, 1.0797462862199927, 1.0846330058501388, 1.0895197254802853, 1.0944064451104318, 1.0992931647405784, 1.1041798843707245, 1.1090666040008714, 1.113953323631018, 1.118840043261164, 1.123726762891311, 1.128613482521457, 1.1335002021516036, 1.1383869217817502, 1.1432736414118967, 1.1481603610420428, 1.1530470806721893, 1.1579338003023358, 1.1628205199324824, 1.1677072395626285, 1.1725939591927754, 1.1774806788229215, 1.182367398453068, 1.1872541180832146, 1.192140837713361, 1.1970275573435072, 1.2019142769736542, 1.2068009966038002, 1.2116877162339468, 1.2165744358640929, 1.2214611554942398, 1.2263478751243864, 1.2312345947545325, 1.2361213143846794, 1.2410080340148255, 1.245894753644972, 1.2507814732751186, 1.255668192905265, 1.2605549125354112, 1.2654416321655582, 1.2703283517957042, 1.2752150714258508, 1.2801017910559969, 1.2849885106861438, 1.28987523031629, 1.2947619499464365, 1.299648669576583, 1.3045353892067295, 1.3094221088368756, 1.3143088284670226, 1.3191955480971687, 1.3240822677273152, 1.3289689873574617, 1.3338557069876082, 1.3387424266177548, 1.3436291462479009, 1.3485158658780478, 1.353402585508194, 1.3582893051383405, 1.363176024768487, 1.3680627443986335, 1.3729494640287796, 1.3778361836589266, 1.3827229032890727], \"xaxis\": \"x\", \"y\": [0.09392488606337462, 0.09490704136415241, 0.09588630090283373, 0.096863439572205, 0.09783927715405774, 0.09881467630031522, 0.09979054034965093, 0.10076781098709196, 0.10174746575490107, 0.10273051542379713, 0.10371800123431286, 0.1047109920187911, 0.105710581215178, 0.10671788378438958, 0.10773403304359787, 0.10876017742829619, 0.10979747719647058, 0.1108471010886091, 0.11191022295762844, 0.11298801838308367, 0.11408166128424864, 0.11519232054681447, 0.11632115667804284, 0.11746931850524084, 0.11863793993237533, 0.11982813676954265, 0.12104100364982975, 0.12227761104785988, 0.1235390024140095, 0.124826191437912, 0.126140159454427, 0.1274818530047607, 0.1288521815648729, 0.13025201545269344, 0.13168218392501577, 0.1331434734742235, 0.1346366263342544, 0.13616233920440496, 0.1377212621987511, 0.13931399802808872, 0.14094110142039853, 0.14260307878492612, 0.14430038812401358, 0.14603343919587, 0.14780259393049222, 0.14960816709997157, 0.1514504272434437, 0.15332959784596026, 0.15524585876959007, 0.15719934793410037, 0.1591901632436187, 0.16121836475475748, 0.16328397708077266, 0.16538699202545903, 0.16752737143962876, 0.1697050502922152, 0.1719199399472559, 0.17417193163727368, 0.17646090012286886, 0.17878670752768044, 0.18114920733724982, 0.18354824854975674, 0.18598367996606216, 0.18845535460601293, 0.19096313423752523, 0.19350689400457197, 0.1960865271398504, 0.19870194974759964, 0.20135310564178222, 0.20403997122461093, 0.2067625603902326, 0.20952092943822231, 0.21231518198144073, 0.21514547383272314, 0.2180120178548218, 0.22091508875800275, 0.223855027829704, 0.22683224758068238, 0.22984723629212728, 0.2329005624482809, 0.23599287903917684, 0.23912492771819868, 0.24229754279926125, 0.2455116550785156, 0.24876829546559184, 0.2520685984095087, 0.255413805104489, 0.25880526646104796, 0.26224444582782713, 0.26573292144977695, 0.26927238864839736, 0.2728646617098843, 0.2765116754671307, 0.28021548656167505, 0.28397827437181367, 0.28780234159322415, 0.29169011445861975, 0.2956441425830839, 0.29966709842194555, 0.30376177632823415, 0.3079310911969857, 0.31217807668393066, 0.31650588298637583, 0.32091777417442685, 0.3254171250610746, 0.3300074176000871, 0.33469223680113724, 0.33947526615214063, 0.3443602825393833, 0.3493511506567161, 0.35445181689584554, 0.35966630271060884, 0.3649986974490554, 0.3704531506481937, 0.3760338637873867, 0.3817450814976246, 0.3875910822252255, 0.39357616834998177, 0.3997046557593084, 0.40598086288162955, 0.4124090991840134, 0.4189936531409586, 0.42573877968322976, 0.4326486871377481, 0.4397275236717622, 0.4469793632568097, 0.4544081911704068, 0.46201788905586894, 0.4698122195632507, 0.47779481059701373, 0.48596913919873325, 0.4943385150959004, 0.502906063950649, 0.5116747103450509, 0.5206471605424225, 0.5298258850668982, 0.5392131011463123, 0.5488107550661686, 0.5586205044851701, 0.56864370076539, 0.5788813713726945, 0.5893342024054228, 0.6000025213116228, 0.6108862798572495, 0.6219850374097108, 0.6332979446028876, 0.6448237274513383, 0.6565606719827048, 0.6685066094584491, 0.6806589022538402, 0.6930144304686897, 0.7055695793405503, 0.7183202275320553, 0.731261736363668, 0.7443889400624214, 0.7576961370961242, 0.7711770826611276, 0.7848249823899395, 0.7986324873428462, 0.8125916903451653, 0.8266941237288953, 0.840930758534239, 0.8552920052228914, 0.8697677159509755, 0.8843471884451903, 0.8990191715210587, 0.9137718722771501, 0.9285929649938461, 0.9434696017595889, 0.9583884248416592, 0.9733355808123827, 0.9882967364352734, 1.0032570963090237, 1.0182014222604872, 1.0331140544708632, 1.0479789343122634, 1.0627796288646765, 1.0774993570761962, 1.0921210175221414, 1.1066272177115162, 1.1210003048821267, 1.135222398218605, 1.1492754224206865, 1.1631411425423124, 1.1768012000155907, 1.1902371497673143, 1.2034304983297075, 1.2163627428413206, 1.2290154108286313, 1.241370100653867, 1.2534085225099958, 1.265112539839639, 1.2764642110509912, 1.28744583140061, 1.2980399749102536, 1.3082295361828113, 1.3179977719807519, 1.327328342429507, 1.3362053517077535, 1.344613388086732, 1.3525375631814485, 1.3599635502780034, 1.3668776216032152, 1.373266684405259, 1.3791183157172118, 1.3844207956790842, 1.3891631392982486, 1.3933351265329919, 1.3969273305893246, 1.3999311443270586, 1.4023388046775433, 1.4041434149822802, 1.4053389651689157, 1.4059203496887391, 1.4058833831478401, 1.4052248135724177, 1.403942333257334, 1.4020345871558781, 1.3995011787777352, 1.3963426735713909, 1.392560599776512, 1.3881574467412303, 1.3831366607086497, 1.3775026380863273, 1.3712607162217418, 1.364417161716004, 1.356979156317093, 1.3489547804427597, 1.3403529943918344, 1.3311836173110265, 1.3214573039922552, 1.3111855195832904, 1.300380512301642, 1.2890552842485525, 1.2772235604262954, 1.2648997560678914, 1.2520989423937738, 1.2388368109147954, 1.225129636405302, 1.210994238673807, 1.196447943261952, 1.1815085412051116, 1.1661942479900065, 1.1505236618461556, 1.1345157215088413, 1.11818966359155, 1.1015649797055282, 1.0846613734632211, 1.0674987175009296, 1.0500970106540393, 1.032476335415659, 1.0146568158065008, 0.9966585757803504, 0.9785016982854857, 0.9602061850980518, 0.9417919175385783, 0.9232786181776537, 0.9046858136312939, 0.8860327985406524, 0.867338600824676, 0.8486219482879304, 0.8299012366592461, 0.8111944991301501, 0.7925193774551113, 0.7738930946686976, 0.7553324294676803, 0.7368536922990155, 0.7184727031875756, 0.7002047713304367, 0.6820646764775222, 0.664066652111528, 0.6462243704332647, 0.6285509291519172, 0.6110588400733195, 0.5937600194730305, 0.5766657802350545, 0.5597868257312193, 0.543133245410758, 0.5267145120644153, 0.5105394807224701, 0.49461638914147193, 0.47895285983022023, 0.4635559035615366, 0.44843192431282775, 0.4335867255751379, 0.4190255179675072, 0.4047529280909188, 0.39077300855387853, 0.377089249099872, 0.36370458876541006, 0.3506214289962334, 0.33784164764842733, 0.3253666138006915, 0.3131972033038298, 0.3013338149936764, 0.28977638749405915, 0.2785244165371354, 0.26757697272938286, 0.2569327196927563, 0.2465899325119876, 0.2365465164206578, 0.22680002566058352, 0.21734768245109987, 0.2081863960070749, 0.19931278154688378, 0.1907231792340787, 0.18241367299915137, 0.17438010919052663, 0.16661811500674115, 0.1591231166646754, 0.1518903572616411, 0.1449149142921126, 0.13819171678290304, 0.1317155620135826, 0.12548113179194698, 0.11948300825733053, 0.11371568918749346, 0.10817360278772888, 0.10285112194367883, 0.0977425779221277, 0.09284227350675521, 0.08814449555844636, 0.08364352699229848, 0.07933365816588939, 0.07520919767570888, 0.07126448256087951, 0.06749388791539393, 0.06389183591209528, 0.06045280424350212, 0.057171333986322084, 0.05404203689814129, 0.051059602156269326, 0.04821880255011311, 0.04551450013970887, 0.042941651394179096, 0.04049531182490427, 0.03817064012909778, 0.035962901860259945, 0.03386747264266374, 0.031879840947587265, 0.029995610449471626, 0.02821050198054638, 0.026520355102721365, 0.024921129315725134, 0.023408904920546578, 0.021979883557244596, 0.020630388436112142, 0.019356864281032733, 0.018155877003653408, 0.01702411312671651, 0.015958378974558932, 0.014955599648396998, 0.014012817803577477, 0.01312719224549652, 0.012295996360369557, 0.011516616396482, 0.010786549610971198, 0.010103402296582423, 0.009464887702215255, 0.0088688238604335, 0.008313131334454467, 0.007795830896467841, 0.00731504114846348, 0.006868976096071305, 0.006455942685245305, 0.006074338310950806, 0.005722648306351514, 0.005399443420336405, 0.005103377290581527, 0.004833183918710307, 0.004587675153498433, 0.004365738187469372, 0.00416633307164444, 0.00398849025264883, 0.0038313081358338588, 0.003693950677556303, 0.0035756450092592914, 0.003475679095527415, 0.003393399427840459, 0.003328208755328157, 0.003279563853431467, 0.0032469733310049784, 0.0032299954760508665, 0.0032282361399567213, 0.0032413466598180834, 0.0032690218181616834, 0.0033109978391468297, 0.003367050420110026, 0.0034369927971317628, 0.0035206738431437313, 0.003617976196959487, 0.003728814421501283, 0.0038531331894098605, 0.003990905494161768, 0.004142130884780356, 0.004306833722210309, 0.004485061455431379, 0.00467688291541474, 0.004882386625072255, 0.005101679123417157, 0.005334883302240652, 0.005582136753712627, 0.005843590127437199, 0.006119405495629819, 0.006409754725235973, 0.006714817855977922, 0.007034781483494713, 0.007369837146932806, 0.007720179720545983, 0.008086005809074795, 0.00846751214689582, 0.008864894001157241, 0.009278343579349875, 0.009708048442000313, 0.010154189921411818, 0.01061694154762128, 0.011096467482981832, 0.011592920967023126, 0.012106442773477817, 0.012637159681600072, 0.013185182964129549, 0.013750606894477473, 0.01433350727592724, 0.01493393999584571, 0.015551939608095738, 0.016187517947024378, 0.016840662776566824, 0.01751133647816128, 0.018199474781307304, 0.01890498554072014, 0.019627747564133113, 0.02036760949488614, 0.021124388753494754, 0.021897870542438806, 0.02268780691842226, 0.0234939159363562, 0.024315880869279924, 0.025153349508389898, 0.026005933547259927, 0.026873208054239487, 0.02775471103688193, 0.02864994310210666, 0.029558367215615534, 0.0304794085638823, 0.03141245452180281, 0.032356854728844704, 0.033311921276255665, 0.03427692900758848, 0.0352511159344891, 0.036233683769338484, 0.037223798575991944, 0.0382205915394695, 0.039223159855060835, 0.04023056773689327, 0.04124184754559035, 0.04225600103420686, 0.043272000711186254, 0.04428879131862532, 0.04530529142368011, 0.04632039512047504, 0.04733297383942114, 0.048341878260382894, 0.049345940325674346, 0.05034397534841122, 0.05133478421130688, 0.052317155650555364, 0.053289868619035695, 0.054251694722657236, 0.05520140072328555, 0.05613775110131579, 0.05705951067061871, 0.057965447238265994, 0.05885433430114164, 0.05972495377128977, 0.0605760987216067, 0.0614065761432872, 0.062215209706261196, 0.06300084251372917, 0.06376233984179622, 0.06449859185515297, 0.06520851628971991, 0.06589106109319276, 0.06654520701447275, 0.06716997013306653, 0.0677644043196637, 0.06832760361927964, 0.0688587045485485, 0.06935688829901326, 0.06982138283852735, 0.07025146490321764, 0.0706464618728006, 0.07100575352244104, 0.0713287736447553, 0.07161501153601711, 0.07186401334109517, 0.07207538325215988, 0.07224878455672187, 0.07238394053111044, 0.07248063517607078, 0.07253871379173611], \"yaxis\": \"y\"}, {\"legendgroup\": \"Lasso\", \"marker\": {\"color\": \"rgb(31, 119, 180)\", \"symbol\": \"line-ns-open\"}, \"mode\": \"markers\", \"name\": \"Lasso\", \"showlegend\": false, \"type\": \"scatter\", \"x\": [1.3876096229192192, -0.0, 0.1048107608187218, 0.0, -0.5881879960096739, 0.0, 0.13483856590428367, -0.0, -0.3066152860256359, -0.31417183203471855, 2.2846756088189984e-16, -0.4088186657949509, 2.827608227159543e-17, -1.055750192154008, 0.0, 0.0, -0.67291291468978, 0.0, -0.03147754916065324, 0.02722014539501858, 0.0, -0.0, 0.0, -0.0, 0.0, -0.13958927364119092], \"xaxis\": \"x\", \"y\": [\"Lasso\", \"Lasso\", \"Lasso\", \"Lasso\", \"Lasso\", \"Lasso\", \"Lasso\", \"Lasso\", \"Lasso\", \"Lasso\", \"Lasso\", \"Lasso\", \"Lasso\", \"Lasso\", \"Lasso\", \"Lasso\", \"Lasso\", \"Lasso\", \"Lasso\", \"Lasso\", \"Lasso\", \"Lasso\", \"Lasso\", \"Lasso\", \"Lasso\", \"Lasso\"], \"yaxis\": \"y2\"}],\n",
       "                        {\"barmode\": \"overlay\", \"hovermode\": \"closest\", \"legend\": {\"traceorder\": \"reversed\"}, \"template\": {\"data\": {\"bar\": [{\"error_x\": {\"color\": \"#2a3f5f\"}, \"error_y\": {\"color\": \"#2a3f5f\"}, \"marker\": {\"line\": {\"color\": \"#E5ECF6\", \"width\": 0.5}}, \"type\": \"bar\"}], \"barpolar\": [{\"marker\": {\"line\": {\"color\": \"#E5ECF6\", \"width\": 0.5}}, \"type\": \"barpolar\"}], \"carpet\": [{\"aaxis\": {\"endlinecolor\": \"#2a3f5f\", \"gridcolor\": \"white\", \"linecolor\": \"white\", \"minorgridcolor\": \"white\", \"startlinecolor\": \"#2a3f5f\"}, \"baxis\": {\"endlinecolor\": \"#2a3f5f\", \"gridcolor\": \"white\", \"linecolor\": \"white\", \"minorgridcolor\": \"white\", \"startlinecolor\": \"#2a3f5f\"}, \"type\": \"carpet\"}], \"choropleth\": [{\"colorbar\": {\"outlinewidth\": 0, \"ticks\": \"\"}, \"type\": \"choropleth\"}], \"contour\": [{\"colorbar\": {\"outlinewidth\": 0, \"ticks\": \"\"}, \"colorscale\": [[0.0, \"#0d0887\"], [0.1111111111111111, \"#46039f\"], [0.2222222222222222, \"#7201a8\"], [0.3333333333333333, \"#9c179e\"], [0.4444444444444444, \"#bd3786\"], [0.5555555555555556, \"#d8576b\"], [0.6666666666666666, \"#ed7953\"], [0.7777777777777778, \"#fb9f3a\"], [0.8888888888888888, \"#fdca26\"], [1.0, \"#f0f921\"]], \"type\": \"contour\"}], \"contourcarpet\": [{\"colorbar\": {\"outlinewidth\": 0, \"ticks\": \"\"}, \"type\": \"contourcarpet\"}], \"heatmap\": [{\"colorbar\": {\"outlinewidth\": 0, \"ticks\": \"\"}, \"colorscale\": [[0.0, \"#0d0887\"], [0.1111111111111111, \"#46039f\"], [0.2222222222222222, \"#7201a8\"], [0.3333333333333333, \"#9c179e\"], [0.4444444444444444, \"#bd3786\"], [0.5555555555555556, \"#d8576b\"], [0.6666666666666666, \"#ed7953\"], [0.7777777777777778, \"#fb9f3a\"], [0.8888888888888888, \"#fdca26\"], [1.0, \"#f0f921\"]], \"type\": \"heatmap\"}], \"heatmapgl\": [{\"colorbar\": {\"outlinewidth\": 0, \"ticks\": \"\"}, \"colorscale\": [[0.0, \"#0d0887\"], [0.1111111111111111, \"#46039f\"], [0.2222222222222222, \"#7201a8\"], [0.3333333333333333, \"#9c179e\"], [0.4444444444444444, \"#bd3786\"], [0.5555555555555556, \"#d8576b\"], [0.6666666666666666, \"#ed7953\"], [0.7777777777777778, \"#fb9f3a\"], [0.8888888888888888, \"#fdca26\"], [1.0, \"#f0f921\"]], \"type\": \"heatmapgl\"}], \"histogram\": [{\"marker\": {\"colorbar\": {\"outlinewidth\": 0, \"ticks\": \"\"}}, \"type\": \"histogram\"}], \"histogram2d\": [{\"colorbar\": {\"outlinewidth\": 0, \"ticks\": \"\"}, \"colorscale\": [[0.0, \"#0d0887\"], [0.1111111111111111, \"#46039f\"], [0.2222222222222222, \"#7201a8\"], [0.3333333333333333, \"#9c179e\"], [0.4444444444444444, \"#bd3786\"], [0.5555555555555556, \"#d8576b\"], [0.6666666666666666, \"#ed7953\"], [0.7777777777777778, \"#fb9f3a\"], [0.8888888888888888, \"#fdca26\"], [1.0, \"#f0f921\"]], \"type\": \"histogram2d\"}], \"histogram2dcontour\": [{\"colorbar\": {\"outlinewidth\": 0, \"ticks\": \"\"}, \"colorscale\": [[0.0, \"#0d0887\"], [0.1111111111111111, \"#46039f\"], [0.2222222222222222, \"#7201a8\"], [0.3333333333333333, \"#9c179e\"], [0.4444444444444444, \"#bd3786\"], [0.5555555555555556, \"#d8576b\"], [0.6666666666666666, \"#ed7953\"], [0.7777777777777778, \"#fb9f3a\"], [0.8888888888888888, \"#fdca26\"], [1.0, \"#f0f921\"]], \"type\": \"histogram2dcontour\"}], \"mesh3d\": [{\"colorbar\": {\"outlinewidth\": 0, \"ticks\": \"\"}, \"type\": \"mesh3d\"}], \"parcoords\": [{\"line\": {\"colorbar\": {\"outlinewidth\": 0, \"ticks\": \"\"}}, \"type\": \"parcoords\"}], \"pie\": [{\"automargin\": true, \"type\": \"pie\"}], \"scatter\": [{\"marker\": {\"colorbar\": {\"outlinewidth\": 0, \"ticks\": \"\"}}, \"type\": \"scatter\"}], \"scatter3d\": [{\"line\": {\"colorbar\": {\"outlinewidth\": 0, \"ticks\": \"\"}}, \"marker\": {\"colorbar\": {\"outlinewidth\": 0, \"ticks\": \"\"}}, \"type\": \"scatter3d\"}], \"scattercarpet\": [{\"marker\": {\"colorbar\": {\"outlinewidth\": 0, \"ticks\": \"\"}}, \"type\": \"scattercarpet\"}], \"scattergeo\": [{\"marker\": {\"colorbar\": {\"outlinewidth\": 0, \"ticks\": \"\"}}, \"type\": \"scattergeo\"}], \"scattergl\": [{\"marker\": {\"colorbar\": {\"outlinewidth\": 0, \"ticks\": \"\"}}, \"type\": \"scattergl\"}], \"scattermapbox\": [{\"marker\": {\"colorbar\": {\"outlinewidth\": 0, \"ticks\": \"\"}}, \"type\": \"scattermapbox\"}], \"scatterpolar\": [{\"marker\": {\"colorbar\": {\"outlinewidth\": 0, \"ticks\": \"\"}}, \"type\": \"scatterpolar\"}], \"scatterpolargl\": [{\"marker\": {\"colorbar\": {\"outlinewidth\": 0, \"ticks\": \"\"}}, \"type\": \"scatterpolargl\"}], \"scatterternary\": [{\"marker\": {\"colorbar\": {\"outlinewidth\": 0, \"ticks\": \"\"}}, \"type\": \"scatterternary\"}], \"surface\": [{\"colorbar\": {\"outlinewidth\": 0, \"ticks\": \"\"}, \"colorscale\": [[0.0, \"#0d0887\"], [0.1111111111111111, \"#46039f\"], [0.2222222222222222, \"#7201a8\"], [0.3333333333333333, \"#9c179e\"], [0.4444444444444444, \"#bd3786\"], [0.5555555555555556, \"#d8576b\"], [0.6666666666666666, \"#ed7953\"], [0.7777777777777778, \"#fb9f3a\"], [0.8888888888888888, \"#fdca26\"], [1.0, \"#f0f921\"]], \"type\": \"surface\"}], \"table\": [{\"cells\": {\"fill\": {\"color\": \"#EBF0F8\"}, \"line\": {\"color\": \"white\"}}, \"header\": {\"fill\": {\"color\": \"#C8D4E3\"}, \"line\": {\"color\": \"white\"}}, \"type\": \"table\"}]}, \"layout\": {\"annotationdefaults\": {\"arrowcolor\": \"#2a3f5f\", \"arrowhead\": 0, \"arrowwidth\": 1}, \"coloraxis\": {\"colorbar\": {\"outlinewidth\": 0, \"ticks\": \"\"}}, \"colorscale\": {\"diverging\": [[0, \"#8e0152\"], [0.1, \"#c51b7d\"], [0.2, \"#de77ae\"], [0.3, \"#f1b6da\"], [0.4, \"#fde0ef\"], [0.5, \"#f7f7f7\"], [0.6, \"#e6f5d0\"], [0.7, \"#b8e186\"], [0.8, \"#7fbc41\"], [0.9, \"#4d9221\"], [1, \"#276419\"]], \"sequential\": [[0.0, \"#0d0887\"], [0.1111111111111111, \"#46039f\"], [0.2222222222222222, \"#7201a8\"], [0.3333333333333333, \"#9c179e\"], [0.4444444444444444, \"#bd3786\"], [0.5555555555555556, \"#d8576b\"], [0.6666666666666666, \"#ed7953\"], [0.7777777777777778, \"#fb9f3a\"], [0.8888888888888888, \"#fdca26\"], [1.0, \"#f0f921\"]], \"sequentialminus\": [[0.0, \"#0d0887\"], [0.1111111111111111, \"#46039f\"], [0.2222222222222222, \"#7201a8\"], [0.3333333333333333, \"#9c179e\"], [0.4444444444444444, \"#bd3786\"], [0.5555555555555556, \"#d8576b\"], [0.6666666666666666, \"#ed7953\"], [0.7777777777777778, \"#fb9f3a\"], [0.8888888888888888, \"#fdca26\"], [1.0, \"#f0f921\"]]}, \"colorway\": [\"#636efa\", \"#EF553B\", \"#00cc96\", \"#ab63fa\", \"#FFA15A\", \"#19d3f3\", \"#FF6692\", \"#B6E880\", \"#FF97FF\", \"#FECB52\"], \"font\": {\"color\": \"#2a3f5f\"}, \"geo\": {\"bgcolor\": \"white\", \"lakecolor\": \"white\", \"landcolor\": \"#E5ECF6\", \"showlakes\": true, \"showland\": true, \"subunitcolor\": \"white\"}, \"hoverlabel\": {\"align\": \"left\"}, \"hovermode\": \"closest\", \"mapbox\": {\"style\": \"light\"}, \"paper_bgcolor\": \"white\", \"plot_bgcolor\": \"#E5ECF6\", \"polar\": {\"angularaxis\": {\"gridcolor\": \"white\", \"linecolor\": \"white\", \"ticks\": \"\"}, \"bgcolor\": \"#E5ECF6\", \"radialaxis\": {\"gridcolor\": \"white\", \"linecolor\": \"white\", \"ticks\": \"\"}}, \"scene\": {\"xaxis\": {\"backgroundcolor\": \"#E5ECF6\", \"gridcolor\": \"white\", \"gridwidth\": 2, \"linecolor\": \"white\", \"showbackground\": true, \"ticks\": \"\", \"zerolinecolor\": \"white\"}, \"yaxis\": {\"backgroundcolor\": \"#E5ECF6\", \"gridcolor\": \"white\", \"gridwidth\": 2, \"linecolor\": \"white\", \"showbackground\": true, \"ticks\": \"\", \"zerolinecolor\": \"white\"}, \"zaxis\": {\"backgroundcolor\": \"#E5ECF6\", \"gridcolor\": \"white\", \"gridwidth\": 2, \"linecolor\": \"white\", \"showbackground\": true, \"ticks\": \"\", \"zerolinecolor\": \"white\"}}, \"shapedefaults\": {\"line\": {\"color\": \"#2a3f5f\"}}, \"ternary\": {\"aaxis\": {\"gridcolor\": \"white\", \"linecolor\": \"white\", \"ticks\": \"\"}, \"baxis\": {\"gridcolor\": \"white\", \"linecolor\": \"white\", \"ticks\": \"\"}, \"bgcolor\": \"#E5ECF6\", \"caxis\": {\"gridcolor\": \"white\", \"linecolor\": \"white\", \"ticks\": \"\"}}, \"title\": {\"x\": 0.05}, \"xaxis\": {\"automargin\": true, \"gridcolor\": \"white\", \"linecolor\": \"white\", \"ticks\": \"\", \"title\": {\"standoff\": 15}, \"zerolinecolor\": \"white\", \"zerolinewidth\": 2}, \"yaxis\": {\"automargin\": true, \"gridcolor\": \"white\", \"linecolor\": \"white\", \"ticks\": \"\", \"title\": {\"standoff\": 15}, \"zerolinecolor\": \"white\", \"zerolinewidth\": 2}}}, \"xaxis\": {\"anchor\": \"y2\", \"domain\": [0.0, 1.0], \"zeroline\": false}, \"yaxis\": {\"anchor\": \"free\", \"domain\": [0.35, 1], \"position\": 0.0}, \"yaxis2\": {\"anchor\": \"x\", \"domain\": [0, 0.25], \"dtick\": 1, \"showticklabels\": false}},\n",
       "                        {\"responsive\": true}\n",
       "                    ).then(function(){\n",
       "                            \n",
       "var gd = document.getElementById('89d8e8dd-9b03-48b3-8ca2-0e99ce22bc35');\n",
       "var x = new MutationObserver(function (mutations, observer) {{\n",
       "        var display = window.getComputedStyle(gd).display;\n",
       "        if (!display || display === 'none') {{\n",
       "            console.log([gd, 'removed!']);\n",
       "            Plotly.purge(gd);\n",
       "            observer.disconnect();\n",
       "        }}\n",
       "}});\n",
       "\n",
       "// Listen for the removal of the full notebook cells\n",
       "var notebookContainer = gd.closest('#notebook-container');\n",
       "if (notebookContainer) {{\n",
       "    x.observe(notebookContainer, {childList: true});\n",
       "}}\n",
       "\n",
       "// Listen for the clearing of the current output cell\n",
       "var outputEl = gd.closest('.output');\n",
       "if (outputEl) {{\n",
       "    x.observe(outputEl, {childList: true});\n",
       "}}\n",
       "\n",
       "                        })\n",
       "                };\n",
       "                });\n",
       "            </script>\n",
       "        </div>"
      ]
     },
     "metadata": {},
     "output_type": "display_data"
    }
   ],
   "source": [
    "import plotly.figure_factory as ff\n",
    "\n",
    "ff.create_distplot([\n",
    "    models['LassoCV'][\"LinearModel\"].coef_], ['Lasso'], bin_size=0.1)"
   ]
  },
  {
   "cell_type": "code",
   "execution_count": 450,
   "metadata": {},
   "outputs": [
    {
     "name": "stdout",
     "output_type": "stream",
     "text": [
      "['wife_age' 'x0_1' 'x0_2' 'x0_3' 'x0_4' 'x1_1' 'x1_2' 'x1_3' 'x1_4' 'x2_0'\n",
      " 'x2_1' 'x3_0' 'x3_1' 'x4_1' 'x4_2' 'x4_3' 'x5_0' 'x5_1' 'x6_1' 'x6_2'\n",
      " 'x6_3' 'x6_4' 'x7_1' 'x7_2' 'x7_3' 'x7_4']\n"
     ]
    }
   ],
   "source": [
    "#The names of all the features in the lasso model \n",
    "\n",
    "ct = models['LassoCV']['SelectColumns']\n",
    "feature_names_lasso = (\n",
    "    ['wife_age'] +\n",
    "    list(ct.named_transformers_['origin_encoder'].get_feature_names())\n",
    ")\n",
    "feature_names_lasso = np.array(feature_names_lasso)\n",
    "print(feature_names_lasso)"
   ]
  },
  {
   "cell_type": "markdown",
   "metadata": {},
   "source": [
    "From these features, we set `feature_names_lasso` to the features that had nonzero coefficients to see the features that are likely good predictors of the number of children a woman has. "
   ]
  },
  {
   "cell_type": "code",
   "execution_count": 386,
   "metadata": {},
   "outputs": [
    {
     "data": {
      "text/plain": [
       "array(['wife_age', 'x0_2', 'x0_4', 'x1_2', 'x1_4', 'x2_0', 'x3_0', 'x4_1',\n",
       "       'x5_0', 'x6_1', 'x6_2', 'x7_4'], dtype='<U8')"
      ]
     },
     "execution_count": 386,
     "metadata": {},
     "output_type": "execute_result"
    }
   ],
   "source": [
    "kept = ~np.isclose(models['LassoCV'][\"LinearModel\"].coef_, 0)\n",
    "feature_names_lasso[kept]"
   ]
  },
  {
   "cell_type": "code",
   "execution_count": 452,
   "metadata": {},
   "outputs": [
    {
     "data": {
      "text/plain": [
       "array(['wife_education', 'husband_education', 'media_exposure',\n",
       "       'wife_work', 'contraceptive', 'wife_religion',\n",
       "       'husband_occupation', 'standard_living'], dtype=object)"
      ]
     },
     "execution_count": 452,
     "metadata": {},
     "output_type": "execute_result"
    }
   ],
   "source": [
    "categorical"
   ]
  },
  {
   "cell_type": "markdown",
   "metadata": {},
   "source": [
    "As a reference, here are the features and their names which were sorted by correlation to `num_child` in descending order.\n",
    "\n",
    "1. x0_ refers to `wife_education`: (categorical) 1=low, 2, 3, 4=high\n",
    "2. x1_ refers to `husband_eduation`: (categorical) 1=low, 2, 3, 4=high\n",
    "3. x2_ refers to `media_exposure`: (binary) 0=Good, 1=Not good\n",
    "4. x3_ refers to `wife_work`: (binary) 0=Yes, 1=No\n",
    "5. x4_ refers to `contraceptive`: (class attribute) 1=No-use, 2=Long-term, 3=Short-term\n",
    "6. x5_ refers to `wife_religion`: (binary) 0=Non-Islam, 1=Islam\n",
    "7. x6_ refers to `husband_occupation`: (categorical) 1, 2, 3, 4\n",
    "8. x7_ refers to `standard_living`: (categorical) 1=low, 2, 3, 4=high\n"
   ]
  },
  {
   "cell_type": "code",
   "execution_count": null,
   "metadata": {},
   "outputs": [],
   "source": []
  }
 ],
 "metadata": {
  "kernelspec": {
   "display_name": "Python 3",
   "language": "python",
   "name": "python3"
  },
  "language_info": {
   "codemirror_mode": {
    "name": "ipython",
    "version": 3
   },
   "file_extension": ".py",
   "mimetype": "text/x-python",
   "name": "python",
   "nbconvert_exporter": "python",
   "pygments_lexer": "ipython3",
   "version": "3.7.6"
  }
 },
 "nbformat": 4,
 "nbformat_minor": 4
}
